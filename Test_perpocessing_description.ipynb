{
 "cells": [
  {
   "cell_type": "code",
   "execution_count": 1,
   "id": "456086a3",
   "metadata": {},
   "outputs": [],
   "source": [
    "import pandas as pd\n",
    "import re\n",
    "import string\n",
    "import nltk\n",
    "import math\n",
    "from nltk.tokenize import sent_tokenize\n",
    "from textblob import TextBlob\n",
    "from nltk.stem.snowball import SnowballStemmer\n",
    "from spellchecker import SpellChecker\n",
    "from textblob import Word\n",
    "from wordcloud import STOPWORDS\n",
    "from scipy import stats\n",
    "import statsmodels.api as sm\n",
    "import matplotlib.pyplot as plt\n",
    "import seaborn as sns\n",
    "from nltk.corpus import stopwords\n",
    "from nltk.tokenize import word_tokenize\n",
    "sns.set()"
   ]
  },
  {
   "cell_type": "code",
   "execution_count": 2,
   "id": "2dbabae3",
   "metadata": {},
   "outputs": [],
   "source": [
    "desc = pd.read_csv('DataInDeed.csv')"
   ]
  },
  {
   "cell_type": "code",
   "execution_count": 3,
   "id": "3425582a",
   "metadata": {},
   "outputs": [
    {
     "data": {
      "text/html": [
       "<div>\n",
       "<style scoped>\n",
       "    .dataframe tbody tr th:only-of-type {\n",
       "        vertical-align: middle;\n",
       "    }\n",
       "\n",
       "    .dataframe tbody tr th {\n",
       "        vertical-align: top;\n",
       "    }\n",
       "\n",
       "    .dataframe thead th {\n",
       "        text-align: right;\n",
       "    }\n",
       "</style>\n",
       "<table border=\"1\" class=\"dataframe\">\n",
       "  <thead>\n",
       "    <tr style=\"text-align: right;\">\n",
       "      <th></th>\n",
       "      <th>Unnamed: 0</th>\n",
       "      <th>title</th>\n",
       "      <th>salary</th>\n",
       "      <th>description</th>\n",
       "    </tr>\n",
       "  </thead>\n",
       "  <tbody>\n",
       "    <tr>\n",
       "      <th>0</th>\n",
       "      <td>0</td>\n",
       "      <td>Service Delivery Manager – Well Intervention (...</td>\n",
       "      <td>NaN</td>\n",
       "      <td>Service Delivery Manager – Well Intervention (...</td>\n",
       "    </tr>\n",
       "    <tr>\n",
       "      <th>1</th>\n",
       "      <td>1</td>\n",
       "      <td>Associate Risk Assurance (IT Risk)</td>\n",
       "      <td>NaN</td>\n",
       "      <td>Line of Service\\nAssurance\\nIndustry/Sector\\nN...</td>\n",
       "    </tr>\n",
       "    <tr>\n",
       "      <th>2</th>\n",
       "      <td>2</td>\n",
       "      <td>Database Administrator (SQL, Oracle)</td>\n",
       "      <td>NaN</td>\n",
       "      <td>Database Administrator (SQL, Oracle)\\nTimo\\nỨn...</td>\n",
       "    </tr>\n",
       "    <tr>\n",
       "      <th>3</th>\n",
       "      <td>3</td>\n",
       "      <td>Senior HRIS Executive</td>\n",
       "      <td>NaN</td>\n",
       "      <td>Ninja Van is a tech-enabled logistics company ...</td>\n",
       "    </tr>\n",
       "    <tr>\n",
       "      <th>4</th>\n",
       "      <td>4</td>\n",
       "      <td>Key Account Manager</td>\n",
       "      <td>NaN</td>\n",
       "      <td>Design solutions to drive safe living and qual...</td>\n",
       "    </tr>\n",
       "    <tr>\n",
       "      <th>...</th>\n",
       "      <td>...</td>\n",
       "      <td>...</td>\n",
       "      <td>...</td>\n",
       "      <td>...</td>\n",
       "    </tr>\n",
       "    <tr>\n",
       "      <th>1001</th>\n",
       "      <td>655</td>\n",
       "      <td>Country Business Director - Power Tools Division</td>\n",
       "      <td>NaN</td>\n",
       "      <td>Company Description\\n\\nThe Bosch Group is a le...</td>\n",
       "    </tr>\n",
       "    <tr>\n",
       "      <th>1002</th>\n",
       "      <td>656</td>\n",
       "      <td>Flutter Developer</td>\n",
       "      <td>NaN</td>\n",
       "      <td>Job Description\\nParticipate in analysis, desi...</td>\n",
       "    </tr>\n",
       "    <tr>\n",
       "      <th>1003</th>\n",
       "      <td>657</td>\n",
       "      <td>AWS Cloud Solutions Architect</td>\n",
       "      <td>NaN</td>\n",
       "      <td>Khối / Ban\\nKhối Dịch vụ Công nghệ Ngân hàng\\n...</td>\n",
       "    </tr>\n",
       "    <tr>\n",
       "      <th>1004</th>\n",
       "      <td>658</td>\n",
       "      <td>SOFTWARE ENGINEER (JAVA)</td>\n",
       "      <td>NaN</td>\n",
       "      <td>Responsibilities and Duties\\n\\nDevelopment on ...</td>\n",
       "    </tr>\n",
       "    <tr>\n",
       "      <th>1005</th>\n",
       "      <td>659</td>\n",
       "      <td>Cloud Inside Sales Representative, Vietnam</td>\n",
       "      <td>NaN</td>\n",
       "      <td>Acronis is a world leader in cyber protection—...</td>\n",
       "    </tr>\n",
       "  </tbody>\n",
       "</table>\n",
       "<p>1006 rows × 4 columns</p>\n",
       "</div>"
      ],
      "text/plain": [
       "      Unnamed: 0                                              title salary  \\\n",
       "0              0  Service Delivery Manager – Well Intervention (...    NaN   \n",
       "1              1                 Associate Risk Assurance (IT Risk)    NaN   \n",
       "2              2               Database Administrator (SQL, Oracle)    NaN   \n",
       "3              3                              Senior HRIS Executive    NaN   \n",
       "4              4                                Key Account Manager    NaN   \n",
       "...          ...                                                ...    ...   \n",
       "1001         655   Country Business Director - Power Tools Division    NaN   \n",
       "1002         656                                  Flutter Developer    NaN   \n",
       "1003         657                      AWS Cloud Solutions Architect    NaN   \n",
       "1004         658                           SOFTWARE ENGINEER (JAVA)    NaN   \n",
       "1005         659         Cloud Inside Sales Representative, Vietnam    NaN   \n",
       "\n",
       "                                            description  \n",
       "0     Service Delivery Manager – Well Intervention (...  \n",
       "1     Line of Service\\nAssurance\\nIndustry/Sector\\nN...  \n",
       "2     Database Administrator (SQL, Oracle)\\nTimo\\nỨn...  \n",
       "3     Ninja Van is a tech-enabled logistics company ...  \n",
       "4     Design solutions to drive safe living and qual...  \n",
       "...                                                 ...  \n",
       "1001  Company Description\\n\\nThe Bosch Group is a le...  \n",
       "1002  Job Description\\nParticipate in analysis, desi...  \n",
       "1003  Khối / Ban\\nKhối Dịch vụ Công nghệ Ngân hàng\\n...  \n",
       "1004  Responsibilities and Duties\\n\\nDevelopment on ...  \n",
       "1005  Acronis is a world leader in cyber protection—...  \n",
       "\n",
       "[1006 rows x 4 columns]"
      ]
     },
     "execution_count": 3,
     "metadata": {},
     "output_type": "execute_result"
    }
   ],
   "source": [
    "desc"
   ]
  },
  {
   "cell_type": "code",
   "execution_count": 4,
   "id": "0f883275",
   "metadata": {},
   "outputs": [],
   "source": [
    "stop_words = set(stopwords.words('english'))"
   ]
  },
  {
   "cell_type": "code",
   "execution_count": 17,
   "id": "39bcb33e",
   "metadata": {},
   "outputs": [],
   "source": [
    "example_sent = desc['description'][1]"
   ]
  },
  {
   "cell_type": "code",
   "execution_count": 8,
   "id": "83f75b25",
   "metadata": {},
   "outputs": [],
   "source": [
    "word_tokens = word_tokenize(example_sent)"
   ]
  },
  {
   "cell_type": "code",
   "execution_count": 16,
   "id": "6044365d",
   "metadata": {},
   "outputs": [
    {
     "data": {
      "text/plain": [
       "'Service Delivery Manager – Well Intervention (Vietnam)'"
      ]
     },
     "execution_count": 16,
     "metadata": {},
     "output_type": "execute_result"
    }
   ],
   "source": [
    "desc['title'][0]"
   ]
  },
  {
   "cell_type": "code",
   "execution_count": 70,
   "id": "d4ef19ea",
   "metadata": {},
   "outputs": [
    {
     "name": "stdout",
     "output_type": "stream",
     "text": [
      "481\n"
     ]
    }
   ],
   "source": [
    "#they are present in stop_words or not\n",
    "filtered_sentence = [w for w in word_tokens if not w.lower() in stop_words]\n",
    "#with no lower case conversion\n",
    "filtered_sentence = []\n",
    "\n",
    "for w in word_tokens:\n",
    "    if w not in stop_words:\n",
    "        filtered_sentence.append(w)\n",
    "  \n",
    "print(len(filtered_sentence))"
   ]
  },
  {
   "cell_type": "markdown",
   "id": "0f5c02f1",
   "metadata": {},
   "source": [
    "https://realpython.com/sentiment-analysis-python <br>\n",
    "https://towardsdatascience.com/getting-started-with-text-nlp-visualization-9dcb54bc91dd"
   ]
  },
  {
   "cell_type": "code",
   "execution_count": 5,
   "id": "59edc9f2",
   "metadata": {},
   "outputs": [],
   "source": [
    "def splitData(name, newName, stringSplit, df):\n",
    "    data = df[['Unnamed: 0', name]]\n",
    "\n",
    "    # phân chuỗi trong cột skill ra list rồi thực chia theo cột unnamed: 0\n",
    "    skill = pd.DataFrame(data.set_index('Unnamed: 0')[name].str.split(stringSplit, expand=True).stack().reset_index(level=1, drop=True)).reset_index()\n",
    "\n",
    "    # đổi tên cột 0 trong dataFrame skill thành 'skill_cut'\n",
    "    skill.rename(columns = {0:newName}, inplace = True)\n",
    "\n",
    "    # gộp dataFrame df và skill vói nhay theo \"Unnameed: 0\"\n",
    "    df = df.merge(skill, left_on = 'Unnamed: 0', right_on = 'Unnamed: 0')\n",
    "    return df"
   ]
  },
  {
   "cell_type": "code",
   "execution_count": 6,
   "id": "5e2044e6",
   "metadata": {},
   "outputs": [],
   "source": [
    "desc = splitData('description', 'split_description', '\\n\\n', desc)"
   ]
  },
  {
   "cell_type": "code",
   "execution_count": 7,
   "id": "efa15b8a",
   "metadata": {},
   "outputs": [
    {
     "data": {
      "text/plain": [
       "'Qualifications\\nBachelor or Master degree major in Electronic, Mechatronic, Mechanical Engineering, Automotive Engineering.\\nAutomotive projects experience\\nEmbedded system\\nSW development processes\\nAutomotive knowledge\\nFMEA methodology\\nEnthusiastic, motivated, critical thinking & result oriented\\nGood discipline, positive thinking, teamwork\\nGood in communication skills and above (including English and soft skill) & good in Japanese is a big plus'"
      ]
     },
     "execution_count": 7,
     "metadata": {},
     "output_type": "execute_result"
    }
   ],
   "source": [
    "desc.split_description[1000]"
   ]
  },
  {
   "cell_type": "code",
   "execution_count": 11,
   "id": "c0886fe0",
   "metadata": {},
   "outputs": [],
   "source": [
    "def replaceString(string):\n",
    "    if (string.rfind('(') >=0) & (string.rfind(')') >=0):\n",
    "        indexStr1 = string.index('(')\n",
    "        indexStr2 = string.index(')')\n",
    "        char = string[indexStr1: indexStr2+1]\n",
    "        string = string.replace(char, '')\n",
    "    if (string.rfind('[') >= 0) & (string.rfind(']') >= 0):\n",
    "        indexStr3 = string.index('[')\n",
    "        indexStr4 = string.index(']')\n",
    "        char1 = string[indexStr3: indexStr4+1]\n",
    "        string = string.replace(char1, '')\n",
    "    return string\n",
    "\n",
    "\n",
    "\n",
    "\n",
    "\n",
    "def missValue(string):\n",
    "    textVaul = ''\n",
    "    string = string.split(\" \")\n",
    "    for word in string:\n",
    "        gfg = Word(word)\n",
    "        result = gfg.spellcheck()[0][0]\n",
    "        textVaul += result\n",
    "        textVaul += \" \"\n",
    "    textVaul = textVaul.strip()\n",
    "    return textVaul\n",
    "\n",
    "\n",
    "def missSpellSting(textvaul):\n",
    "    \n",
    "    new_doc = TextBlob(textvaul)\n",
    "\n",
    "    correctResult = new_doc.correct()\n",
    "    result  = missValue(correctResult)\n",
    "    return str(result)\n",
    "\n",
    "\n",
    "def removeString(string):\n",
    "    string = string.lower()\n",
    "    string = replaceString(string)\n",
    "    string = string.replace('\\n', ' ')\n",
    "    string = re.sub('\\W', ' ', string)\n",
    "    \n",
    "    \n",
    "    string = string.strip()\n",
    "    string = missSpellSting(string)\n",
    "    return string\n",
    "    "
   ]
  },
  {
   "cell_type": "code",
   "execution_count": 12,
   "id": "a9d5122f",
   "metadata": {},
   "outputs": [
    {
     "data": {
      "text/plain": [
       "'service delivery manager   well intervention'"
      ]
     },
     "execution_count": 12,
     "metadata": {},
     "output_type": "execute_result"
    }
   ],
   "source": [
    "removeString('Service Delivery Manager – Well Intervention (Vietnam)')"
   ]
  },
  {
   "cell_type": "code",
   "execution_count": null,
   "id": "2c133243",
   "metadata": {},
   "outputs": [],
   "source": [
    "desc['split_description'] = desc['split_description'].apply(lambda x: removeString(x))"
   ]
  },
  {
   "cell_type": "code",
   "execution_count": null,
   "id": "76abb4fc",
   "metadata": {},
   "outputs": [],
   "source": []
  }
 ],
 "metadata": {
  "kernelspec": {
   "display_name": "Python 3 (ipykernel)",
   "language": "python",
   "name": "python3"
  },
  "language_info": {
   "codemirror_mode": {
    "name": "ipython",
    "version": 3
   },
   "file_extension": ".py",
   "mimetype": "text/x-python",
   "name": "python",
   "nbconvert_exporter": "python",
   "pygments_lexer": "ipython3",
   "version": "3.9.12"
  }
 },
 "nbformat": 4,
 "nbformat_minor": 5
}
