{
 "cells": [
  {
   "cell_type": "code",
   "execution_count": 1,
   "id": "9e98ab13",
   "metadata": {},
   "outputs": [],
   "source": [
    "import pandas as pd\n",
    "from datetime import datetime\n",
    "from urllib.request import urlopen\n",
    "from bs4 import BeautifulSoup\n",
    "from selenium import webdriver\n",
    "from selenium.webdriver.common.by import By\n",
    "from selenium.webdriver.common.keys import Keys\n",
    "from selenium.common.exceptions import NoSuchElementException, ElementNotInteractableException\n",
    "import time"
   ]
  },
  {
   "cell_type": "code",
   "execution_count": 2,
   "id": "803290ce",
   "metadata": {},
   "outputs": [],
   "source": [
    "def get_url():\n",
    "    \"\"\"Generate url from position and location\"\"\"\n",
    "    url = 'https://www.indeed.com'\n",
    "    return url"
   ]
  },
  {
   "cell_type": "code",
   "execution_count": 3,
   "id": "1187475e",
   "metadata": {},
   "outputs": [],
   "source": [
    "def seachJob(position, location, driver):\n",
    "    \"\"\" search name job and job location\"\"\"\n",
    "    driver.find_element_by_id(\"text-input-what\").send_keys(position)\n",
    "    driver.find_element_by_id(\"text-input-where\").send_keys(location)\n",
    "    driver.find_element_by_xpath(\"//button[@class='yosegi-InlineWhatWhere-primaryButton']\").click()"
   ]
  },
  {
   "cell_type": "code",
   "execution_count": 4,
   "id": "1c37a0a4",
   "metadata": {},
   "outputs": [],
   "source": [
    "def save_data_to_file(records):\n",
    "    \"\"\"Save data to csv file\"\"\"\n",
    "    col = ['JobTitle', 'Company', 'Location', 'PostDate', 'ExtractDate', 'Summary', 'JobUrl']\n",
    "    df = pd.DataFrame(records, columns = col)\n",
    "    return df"
   ]
  },
  {
   "cell_type": "code",
   "execution_count": 31,
   "id": "76499dbc",
   "metadata": {},
   "outputs": [],
   "source": [
    "def get_record(card, targLink, NameJob):\n",
    "    \"\"\"Extract job data from single card\"\"\"\n",
    "    driver = webdriver.Chrome('C:\\\\Users\\\\Tran Huu An\\\\Desktop\\\\chromedriver_win32\\\\chromedriver.exe')\n",
    "    driver.get(targLink)\n",
    "    \n",
    "    \n",
    "    summary = driver.find_element_by_class_name('jobsearch-jobDescriptionText').text\n",
    "    job_title = card.find_element_by_class_name('jobTitle').text\n",
    "    company = card.find_element_by_class_name('companyName').text\n",
    "    location = card.find_element_by_class_name('companyLocation').text\n",
    "    post_date = card.find_element_by_class_name('date').text\n",
    "    extract_date = datetime.today().strftime('%Y-%m-%d')\n",
    "    driver.close()\n",
    "    return (job_title, company, location, post_date, extract_date, summary, NameJob)"
   ]
  },
  {
   "cell_type": "code",
   "execution_count": 28,
   "id": "f3b13e62",
   "metadata": {},
   "outputs": [],
   "source": [
    "def get_page_records(cards, tagLinks, job_list, url_set, driver, NameJob):\n",
    "    \"\"\"Extract all cards from the page\"\"\"\n",
    "    for (card, tagLink) in zip(cards, tagLinks):\n",
    "        record = get_record(card, str(tagLink.get_attribute('href')), NameJob)\n",
    "        # add if job title exists and not duplicate\n",
    "#         if record[0] and record[-1] not in url_set:\n",
    "        job_list.append(record)\n",
    "            "
   ]
  },
  {
   "cell_type": "code",
   "execution_count": 54,
   "id": "762d92d9",
   "metadata": {},
   "outputs": [],
   "source": [
    "df = pd.DataFrame(columns = ['JobTitle', 'Company', 'Location', 'PostDate', 'ExtractDate', 'Summary', 'JobUrl'])\n",
    "def main(position, location, df):\n",
    "    \"\"\"Run the main program routine\"\"\"\n",
    "    scraped_jobs = []\n",
    "    scraped_urls = set()\n",
    "    numberHeightPage = 0\n",
    "    url = get_url()\n",
    "    \n",
    "    # setup web driver\n",
    "    driver = webdriver.Chrome('C:\\\\Users\\\\Tran Huu An\\\\Desktop\\\\chromedriver_win32\\\\chromedriver.exe')\n",
    "    driver.implicitly_wait(5)\n",
    "    driver.get(url) \n",
    "    \n",
    "    # search Job\n",
    "    \n",
    "    seachJob(position, location, driver)\n",
    "    try:\n",
    "        driver.find_element_by_xpath('//button[@aria-label=\"close\"]').click()\n",
    "    except:\n",
    "        pass\n",
    "    # extract the job data\n",
    "    while True:\n",
    "        numberHeightPageStart = numberHeightPage\n",
    "        numberHeightPage += 1000\n",
    "        scrollPage = \"window.scrollBy(\" + str(numberHeightPageStart) + \",\" + str(numberHeightPage) + \")\"\n",
    "        driver.execute_script(scrollPage,\"\")\n",
    "        cards = driver.find_elements_by_class_name('job_seen_beacon')\n",
    "#         get_page_records(cards, scraped_jobs, scraped_urls, driver, position)\n",
    "        tagLinks = driver.find_elements_by_class_name(\"jcs-JobTitle\")\n",
    "        \n",
    "        get_page_records(cards, tagLinks, scraped_jobs, scraped_urls, driver, position)\n",
    "                             \n",
    "        try:\n",
    "            driver.find_element_by_xpath('//a[@data-testid=\"pagination-page-next\"]').click()\n",
    "        except NoSuchElementException:\n",
    "            break\n",
    "        except ElementNotInteractableException:\n",
    "            driver.find_element_by_id('popover-x').click()  # to handle job notification popup\n",
    "            get_page_records(cards, tagLinks, scraped_jobs, scraped_urls, driver, position)\n",
    "            continue\n",
    "        \n",
    "        try:\n",
    "            driver.find_element_by_xpath('//button[@aria-label=\"close\"]').click()\n",
    "        except:\n",
    "            pass\n",
    "\n",
    "    # close driver and save records\n",
    "    driver.quit()\n",
    "    dataFrame = save_data_to_file(scraped_jobs)\n",
    "    df = pd.concat([df, dataFrame])\n",
    "    return df"
   ]
  },
  {
   "cell_type": "code",
   "execution_count": 62,
   "id": "d0cd1410",
   "metadata": {},
   "outputs": [],
   "source": [
    "resultData  = pd.DataFrame(columns = ['JobTitle', 'Company', 'Location', 'PostDate', 'ExtractDate', 'Summary', 'JobUrl'])\n"
   ]
  },
  {
   "cell_type": "code",
   "execution_count": 64,
   "id": "1cfea6bc",
   "metadata": {},
   "outputs": [
    {
     "ename": "TimeoutException",
     "evalue": "Message: timeout: Timed out receiving message from renderer: 294.061\n  (Session info: chrome=109.0.5414.76)\n",
     "output_type": "error",
     "traceback": [
      "\u001b[1;31m---------------------------------------------------------------------------\u001b[0m",
      "\u001b[1;31mTimeoutException\u001b[0m                          Traceback (most recent call last)",
      "Input \u001b[1;32mIn [64]\u001b[0m, in \u001b[0;36m<cell line: 1>\u001b[1;34m()\u001b[0m\n\u001b[0;32m      3\u001b[0m string \u001b[38;5;241m=\u001b[39m \u001b[38;5;28mstr\u001b[39m(name\u001b[38;5;241m.\u001b[39mreadline())\n\u001b[0;32m      4\u001b[0m \u001b[38;5;28;01mif\u001b[39;00m string \u001b[38;5;241m!=\u001b[39m \u001b[38;5;124m'\u001b[39m\u001b[38;5;130;01m\\n\u001b[39;00m\u001b[38;5;124m'\u001b[39m:\n\u001b[1;32m----> 5\u001b[0m     dataFrame \u001b[38;5;241m=\u001b[39m \u001b[43mmain\u001b[49m\u001b[43m(\u001b[49m\u001b[43mstring\u001b[49m\u001b[43m,\u001b[49m\u001b[43m \u001b[49m\u001b[38;5;124;43m'\u001b[39;49m\u001b[38;5;124;43mViệt Nam\u001b[39;49m\u001b[38;5;124;43m'\u001b[39;49m\u001b[43m,\u001b[49m\u001b[43m \u001b[49m\u001b[43mdf\u001b[49m\u001b[43m)\u001b[49m\n\u001b[0;32m      6\u001b[0m     resultData \u001b[38;5;241m=\u001b[39m pd\u001b[38;5;241m.\u001b[39mconcat([resultData, dataFrame])\n",
      "Input \u001b[1;32mIn [54]\u001b[0m, in \u001b[0;36mmain\u001b[1;34m(position, location, df)\u001b[0m\n\u001b[0;32m     28\u001b[0m \u001b[38;5;66;03m#         get_page_records(cards, scraped_jobs, scraped_urls, driver, position)\u001b[39;00m\n\u001b[0;32m     29\u001b[0m         tagLinks \u001b[38;5;241m=\u001b[39m driver\u001b[38;5;241m.\u001b[39mfind_elements_by_class_name(\u001b[38;5;124m\"\u001b[39m\u001b[38;5;124mjcs-JobTitle\u001b[39m\u001b[38;5;124m\"\u001b[39m)\n\u001b[1;32m---> 31\u001b[0m         \u001b[43mget_page_records\u001b[49m\u001b[43m(\u001b[49m\u001b[43mcards\u001b[49m\u001b[43m,\u001b[49m\u001b[43m \u001b[49m\u001b[43mtagLinks\u001b[49m\u001b[43m,\u001b[49m\u001b[43m \u001b[49m\u001b[43mscraped_jobs\u001b[49m\u001b[43m,\u001b[49m\u001b[43m \u001b[49m\u001b[43mscraped_urls\u001b[49m\u001b[43m,\u001b[49m\u001b[43m \u001b[49m\u001b[43mdriver\u001b[49m\u001b[43m,\u001b[49m\u001b[43m \u001b[49m\u001b[43mposition\u001b[49m\u001b[43m)\u001b[49m\n\u001b[0;32m     33\u001b[0m         \u001b[38;5;28;01mtry\u001b[39;00m:\n\u001b[0;32m     34\u001b[0m             driver\u001b[38;5;241m.\u001b[39mfind_element_by_xpath(\u001b[38;5;124m'\u001b[39m\u001b[38;5;124m//a[@data-testid=\u001b[39m\u001b[38;5;124m\"\u001b[39m\u001b[38;5;124mpagination-page-next\u001b[39m\u001b[38;5;124m\"\u001b[39m\u001b[38;5;124m]\u001b[39m\u001b[38;5;124m'\u001b[39m)\u001b[38;5;241m.\u001b[39mclick()\n",
      "Input \u001b[1;32mIn [28]\u001b[0m, in \u001b[0;36mget_page_records\u001b[1;34m(cards, tagLinks, job_list, url_set, driver, NameJob)\u001b[0m\n\u001b[0;32m      2\u001b[0m     \u001b[38;5;124;03m\"\"\"Extract all cards from the page\"\"\"\u001b[39;00m\n\u001b[0;32m      3\u001b[0m     \u001b[38;5;28;01mfor\u001b[39;00m (card, tagLink) \u001b[38;5;129;01min\u001b[39;00m \u001b[38;5;28mzip\u001b[39m(cards, tagLinks):\n\u001b[1;32m----> 4\u001b[0m         record \u001b[38;5;241m=\u001b[39m \u001b[43mget_record\u001b[49m\u001b[43m(\u001b[49m\u001b[43mcard\u001b[49m\u001b[43m,\u001b[49m\u001b[43m \u001b[49m\u001b[38;5;28;43mstr\u001b[39;49m\u001b[43m(\u001b[49m\u001b[43mtagLink\u001b[49m\u001b[38;5;241;43m.\u001b[39;49m\u001b[43mget_attribute\u001b[49m\u001b[43m(\u001b[49m\u001b[38;5;124;43m'\u001b[39;49m\u001b[38;5;124;43mhref\u001b[39;49m\u001b[38;5;124;43m'\u001b[39;49m\u001b[43m)\u001b[49m\u001b[43m)\u001b[49m\u001b[43m,\u001b[49m\u001b[43m \u001b[49m\u001b[43mNameJob\u001b[49m\u001b[43m)\u001b[49m\n\u001b[0;32m      5\u001b[0m         \u001b[38;5;66;03m# add if job title exists and not duplicate\u001b[39;00m\n\u001b[0;32m      6\u001b[0m \u001b[38;5;66;03m#         if record[0] and record[-1] not in url_set:\u001b[39;00m\n\u001b[0;32m      7\u001b[0m         job_list\u001b[38;5;241m.\u001b[39mappend(record)\n",
      "Input \u001b[1;32mIn [31]\u001b[0m, in \u001b[0;36mget_record\u001b[1;34m(card, targLink, NameJob)\u001b[0m\n\u001b[0;32m      2\u001b[0m \u001b[38;5;124;03m\"\"\"Extract job data from single card\"\"\"\u001b[39;00m\n\u001b[0;32m      3\u001b[0m driver \u001b[38;5;241m=\u001b[39m webdriver\u001b[38;5;241m.\u001b[39mChrome(\u001b[38;5;124m'\u001b[39m\u001b[38;5;124mC:\u001b[39m\u001b[38;5;130;01m\\\\\u001b[39;00m\u001b[38;5;124mUsers\u001b[39m\u001b[38;5;130;01m\\\\\u001b[39;00m\u001b[38;5;124mTran Huu An\u001b[39m\u001b[38;5;130;01m\\\\\u001b[39;00m\u001b[38;5;124mDesktop\u001b[39m\u001b[38;5;130;01m\\\\\u001b[39;00m\u001b[38;5;124mchromedriver_win32\u001b[39m\u001b[38;5;130;01m\\\\\u001b[39;00m\u001b[38;5;124mchromedriver.exe\u001b[39m\u001b[38;5;124m'\u001b[39m)\n\u001b[1;32m----> 4\u001b[0m \u001b[43mdriver\u001b[49m\u001b[38;5;241;43m.\u001b[39;49m\u001b[43mget\u001b[49m\u001b[43m(\u001b[49m\u001b[43mtargLink\u001b[49m\u001b[43m)\u001b[49m\n\u001b[0;32m      7\u001b[0m summary \u001b[38;5;241m=\u001b[39m driver\u001b[38;5;241m.\u001b[39mfind_element_by_class_name(\u001b[38;5;124m'\u001b[39m\u001b[38;5;124mjobsearch-jobDescriptionText\u001b[39m\u001b[38;5;124m'\u001b[39m)\u001b[38;5;241m.\u001b[39mtext\n\u001b[0;32m      8\u001b[0m job_title \u001b[38;5;241m=\u001b[39m card\u001b[38;5;241m.\u001b[39mfind_element_by_class_name(\u001b[38;5;124m'\u001b[39m\u001b[38;5;124mjobTitle\u001b[39m\u001b[38;5;124m'\u001b[39m)\u001b[38;5;241m.\u001b[39mtext\n",
      "File \u001b[1;32m~\\anaconda3\\lib\\site-packages\\selenium\\webdriver\\remote\\webdriver.py:333\u001b[0m, in \u001b[0;36mWebDriver.get\u001b[1;34m(self, url)\u001b[0m\n\u001b[0;32m    329\u001b[0m \u001b[38;5;28;01mdef\u001b[39;00m \u001b[38;5;21mget\u001b[39m(\u001b[38;5;28mself\u001b[39m, url):\n\u001b[0;32m    330\u001b[0m     \u001b[38;5;124;03m\"\"\"\u001b[39;00m\n\u001b[0;32m    331\u001b[0m \u001b[38;5;124;03m    Loads a web page in the current browser session.\u001b[39;00m\n\u001b[0;32m    332\u001b[0m \u001b[38;5;124;03m    \"\"\"\u001b[39;00m\n\u001b[1;32m--> 333\u001b[0m     \u001b[38;5;28;43mself\u001b[39;49m\u001b[38;5;241;43m.\u001b[39;49m\u001b[43mexecute\u001b[49m\u001b[43m(\u001b[49m\u001b[43mCommand\u001b[49m\u001b[38;5;241;43m.\u001b[39;49m\u001b[43mGET\u001b[49m\u001b[43m,\u001b[49m\u001b[43m \u001b[49m\u001b[43m{\u001b[49m\u001b[38;5;124;43m'\u001b[39;49m\u001b[38;5;124;43murl\u001b[39;49m\u001b[38;5;124;43m'\u001b[39;49m\u001b[43m:\u001b[49m\u001b[43m \u001b[49m\u001b[43murl\u001b[49m\u001b[43m}\u001b[49m\u001b[43m)\u001b[49m\n",
      "File \u001b[1;32m~\\anaconda3\\lib\\site-packages\\selenium\\webdriver\\remote\\webdriver.py:321\u001b[0m, in \u001b[0;36mWebDriver.execute\u001b[1;34m(self, driver_command, params)\u001b[0m\n\u001b[0;32m    319\u001b[0m response \u001b[38;5;241m=\u001b[39m \u001b[38;5;28mself\u001b[39m\u001b[38;5;241m.\u001b[39mcommand_executor\u001b[38;5;241m.\u001b[39mexecute(driver_command, params)\n\u001b[0;32m    320\u001b[0m \u001b[38;5;28;01mif\u001b[39;00m response:\n\u001b[1;32m--> 321\u001b[0m     \u001b[38;5;28;43mself\u001b[39;49m\u001b[38;5;241;43m.\u001b[39;49m\u001b[43merror_handler\u001b[49m\u001b[38;5;241;43m.\u001b[39;49m\u001b[43mcheck_response\u001b[49m\u001b[43m(\u001b[49m\u001b[43mresponse\u001b[49m\u001b[43m)\u001b[49m\n\u001b[0;32m    322\u001b[0m     response[\u001b[38;5;124m'\u001b[39m\u001b[38;5;124mvalue\u001b[39m\u001b[38;5;124m'\u001b[39m] \u001b[38;5;241m=\u001b[39m \u001b[38;5;28mself\u001b[39m\u001b[38;5;241m.\u001b[39m_unwrap_value(\n\u001b[0;32m    323\u001b[0m         response\u001b[38;5;241m.\u001b[39mget(\u001b[38;5;124m'\u001b[39m\u001b[38;5;124mvalue\u001b[39m\u001b[38;5;124m'\u001b[39m, \u001b[38;5;28;01mNone\u001b[39;00m))\n\u001b[0;32m    324\u001b[0m     \u001b[38;5;28;01mreturn\u001b[39;00m response\n",
      "File \u001b[1;32m~\\anaconda3\\lib\\site-packages\\selenium\\webdriver\\remote\\errorhandler.py:242\u001b[0m, in \u001b[0;36mErrorHandler.check_response\u001b[1;34m(self, response)\u001b[0m\n\u001b[0;32m    240\u001b[0m         alert_text \u001b[38;5;241m=\u001b[39m value[\u001b[38;5;124m'\u001b[39m\u001b[38;5;124malert\u001b[39m\u001b[38;5;124m'\u001b[39m]\u001b[38;5;241m.\u001b[39mget(\u001b[38;5;124m'\u001b[39m\u001b[38;5;124mtext\u001b[39m\u001b[38;5;124m'\u001b[39m)\n\u001b[0;32m    241\u001b[0m     \u001b[38;5;28;01mraise\u001b[39;00m exception_class(message, screen, stacktrace, alert_text)\n\u001b[1;32m--> 242\u001b[0m \u001b[38;5;28;01mraise\u001b[39;00m exception_class(message, screen, stacktrace)\n",
      "\u001b[1;31mTimeoutException\u001b[0m: Message: timeout: Timed out receiving message from renderer: 294.061\n  (Session info: chrome=109.0.5414.76)\n"
     ]
    }
   ],
   "source": [
    "with open('nameJob.txt', 'r', encoding = 'utf-8') as name:\n",
    "    for i in range(35):\n",
    "        string = str(name.readline())\n",
    "        if string != '\\n':\n",
    "            dataFrame = main(string, 'Việt Nam', df)\n",
    "            resultData = pd.concat([resultData, dataFrame])"
   ]
  },
  {
   "cell_type": "code",
   "execution_count": 17,
   "id": "b791149f",
   "metadata": {},
   "outputs": [],
   "source": [
    "daas.to_csv('result.csv')"
   ]
  },
  {
   "cell_type": "code",
   "execution_count": 14,
   "id": "ada5e8b6",
   "metadata": {},
   "outputs": [],
   "source": [
    "daas = pd.read_csv('result.csv')"
   ]
  },
  {
   "cell_type": "code",
   "execution_count": 15,
   "id": "4fce8acc",
   "metadata": {},
   "outputs": [],
   "source": [
    "daas = pd.concat([daas, resultData])"
   ]
  },
  {
   "cell_type": "code",
   "execution_count": 67,
   "id": "40df0e24",
   "metadata": {},
   "outputs": [],
   "source": [
    "resultData.to_csv('resultData.csv')"
   ]
  },
  {
   "cell_type": "code",
   "execution_count": 53,
   "id": "485d6a74",
   "metadata": {},
   "outputs": [
    {
     "data": {
      "text/plain": [
       "'Company Description\\nSmartDev is a leading provider of global software solutions. The company was established in 2014 and is a wholly owned subsidiary of Verysell Technologies Group (Switzerland).\\nSmartDev combines renowned Swiss quality with the Vietnamese passion to provide excellence and value. We brings together smart people both internally and externally to create partnerships that push boundaries and challenge the status quo.\\nAs part of SmartDev’s aggressive growth plan we are looking to expand our development team, we (https://smartdev.com/) offers tailor-made mobile apps and websites with the most popular frontend and back-end technologies. We are currently works with about 140 developers.\\n\\nJob Description\\n\\nYou will report to PM (Project Manager)\\nCollaborate with teams to product software design and architecture\\nWrite clean, scalable code using .Net programming languages\\nTest and deploy application and systems\\nRevise, update, refactor and debugs code\\nDevelop documentation throughout the software development life cycle\\nParticipate in code reviews\\nTrain fellow colleagues\\n\\nQualifications\\n\\nProven 3+ years of work experience as a .Net Developer\\nBe familiar with ASP.NET framework, SQL Server and design/ architectural patterns\\nKnowledge of .Net languages (C#, Visual Basic .Net), and HTML5/ CSS3\\nBe familiar with architecture styles/ APIs (REST, RPC)\\nExperience in JavaScript/ TypeScript, NodeJs, ReactJs, AngularJs or similar frontend frameworks\\nExperience deploying to Azure/ AWS (CI/ CD)\\nFluent English communication skill\\n\\nAdditional Information\\n\\nBenefits:\\nGood work environment and good colleague (parties, holidays, team building activities)\\nFree Kindergarten for staff’s kids\\n13th salary\\nExtra Healthcare\\nLunch Allowance\\nTea, coffee, milk\\nWork on the latest technology\\nTwo-day weekend: Sat and Sun\\n20 annual leave days alongside Vietnamese public holidays\\nAlways new challenge (Training provided)\\nSelf-organize project team\\nWork with high profile multinational companies\\nCompetitive Salary and career evolution based on your performance defined every year'"
      ]
     },
     "execution_count": 53,
     "metadata": {},
     "output_type": "execute_result"
    }
   ],
   "source": [
    "data.Summary[0]"
   ]
  },
  {
   "cell_type": "markdown",
   "id": "cef3bec1",
   "metadata": {},
   "source": [
    "# test"
   ]
  },
  {
   "cell_type": "code",
   "execution_count": 99,
   "id": "990db106",
   "metadata": {},
   "outputs": [],
   "source": [
    "url = get_url()"
   ]
  },
  {
   "cell_type": "code",
   "execution_count": 100,
   "id": "5e3dd66c",
   "metadata": {},
   "outputs": [
    {
     "data": {
      "text/plain": [
       "'https://www.indeed.com'"
      ]
     },
     "execution_count": 100,
     "metadata": {},
     "output_type": "execute_result"
    }
   ],
   "source": [
    "url"
   ]
  },
  {
   "cell_type": "code",
   "execution_count": 101,
   "id": "b7c4191a",
   "metadata": {},
   "outputs": [],
   "source": [
    "# setup web driver\n",
    "driver = webdriver.Chrome('C:\\\\Users\\\\Tran Huu An\\\\Desktop\\\\chromedriver_win32\\\\chromedriver.exe')\n",
    "driver.implicitly_wait(5)\n",
    "driver.get(url)        \n"
   ]
  },
  {
   "cell_type": "code",
   "execution_count": 102,
   "id": "e54cdc05",
   "metadata": {},
   "outputs": [],
   "source": [
    "driver.find_element_by_id(\"text-input-what\").send_keys('Python')\n",
    "driver.find_element_by_id(\"text-input-where\").send_keys('Việt Nam')"
   ]
  },
  {
   "cell_type": "code",
   "execution_count": 103,
   "id": "a21be008",
   "metadata": {},
   "outputs": [],
   "source": [
    "driver.find_element_by_xpath(\"//button[@class='yosegi-InlineWhatWhere-primaryButton']\").click()"
   ]
  },
  {
   "cell_type": "code",
   "execution_count": 104,
   "id": "525914a0",
   "metadata": {},
   "outputs": [],
   "source": [
    "summary = driver.find_element_by_class_name('jobsearch-jobDescriptionText').text"
   ]
  },
  {
   "cell_type": "code",
   "execution_count": 105,
   "id": "050857e0",
   "metadata": {},
   "outputs": [],
   "source": [
    "cards = driver.find_elements_by_class_name('job_seen_beacon')"
   ]
  },
  {
   "cell_type": "code",
   "execution_count": 111,
   "id": "0021c490",
   "metadata": {},
   "outputs": [],
   "source": [
    "job_list = []\n",
    "\n",
    "x = driver.find_elements_by_xpath(\"//a[@target='_blank']\")\n",
    "# .get_attribute('href')\n",
    "# job_list.append(jobLink)"
   ]
  },
  {
   "cell_type": "code",
   "execution_count": 78,
   "id": "ccee25c0",
   "metadata": {},
   "outputs": [
    {
     "data": {
      "text/plain": [
       "<selenium.webdriver.remote.webelement.WebElement (session=\"8683171bac156d570858ab873dff9670\", element=\"8b074c65-9abc-49d4-b78d-f525966b91dc\")>"
      ]
     },
     "execution_count": 78,
     "metadata": {},
     "output_type": "execute_result"
    }
   ],
   "source": [
    "cards[0]"
   ]
  },
  {
   "cell_type": "code",
   "execution_count": 113,
   "id": "9788244c",
   "metadata": {},
   "outputs": [
    {
     "data": {
      "text/plain": [
       "'https://vn.indeed.com/company/WPMU-DEV/jobs/Python-Developer-7287f69b60c8459d?fccid=7963e4440a1b6b41&vjs=3'"
      ]
     },
     "execution_count": 113,
     "metadata": {},
     "output_type": "execute_result"
    }
   ],
   "source": [
    "x[0].get_attribute('href')"
   ]
  },
  {
   "cell_type": "code",
   "execution_count": 114,
   "id": "38ecf1df",
   "metadata": {},
   "outputs": [
    {
     "data": {
      "text/plain": [
       "'https://vn.indeed.com/rc/clk?jk=d48abaa56664c8b6&fccid=de9ca574173b05cc&vjs=3'"
      ]
     },
     "execution_count": 114,
     "metadata": {},
     "output_type": "execute_result"
    }
   ],
   "source": [
    "x[1].get_attribute('href')"
   ]
  },
  {
   "cell_type": "code",
   "execution_count": 115,
   "id": "2e0890e8",
   "metadata": {},
   "outputs": [
    {
     "data": {
      "text/plain": [
       "'https://vn.indeed.com/rc/clk?jk=9c91329d3e856d44&fccid=4c642b8274c01fb4&vjs=3'"
      ]
     },
     "execution_count": 115,
     "metadata": {},
     "output_type": "execute_result"
    }
   ],
   "source": [
    "x[2].get_attribute('href')"
   ]
  },
  {
   "cell_type": "code",
   "execution_count": 10,
   "id": "69a99e87",
   "metadata": {},
   "outputs": [],
   "source": [
    "url = 'https://vn.indeed.com/viewjob?jk=9bcd23939157775a&from=serp&vjs=3'"
   ]
  },
  {
   "cell_type": "code",
   "execution_count": 11,
   "id": "71254643",
   "metadata": {},
   "outputs": [],
   "source": [
    "driver = webdriver.Chrome('C:\\\\Users\\\\Tran Huu An\\\\Desktop\\\\chromedriver_win32\\\\chromedriver.exe')"
   ]
  },
  {
   "cell_type": "code",
   "execution_count": 12,
   "id": "19b5b648",
   "metadata": {},
   "outputs": [],
   "source": [
    "driver.get(url)"
   ]
  },
  {
   "cell_type": "code",
   "execution_count": 13,
   "id": "35e72530",
   "metadata": {},
   "outputs": [
    {
     "name": "stdout",
     "output_type": "stream",
     "text": [
      ".Net Developer\n"
     ]
    }
   ],
   "source": [
    "print(driver.find_element_by_class_name('jobsearch-JobInfoHeader-title-container').text)"
   ]
  },
  {
   "cell_type": "code",
   "execution_count": 15,
   "id": "e61df999",
   "metadata": {},
   "outputs": [
    {
     "name": "stdout",
     "output_type": "stream",
     "text": [
      "SmartDev\n"
     ]
    }
   ],
   "source": [
    "print(driver.find_element_by_xpath('//a[@target=\"_blank\"]').text)"
   ]
  },
  {
   "cell_type": "code",
   "execution_count": 16,
   "id": "eed08718",
   "metadata": {},
   "outputs": [
    {
     "name": "stdout",
     "output_type": "stream",
     "text": [
      "Ðà Nẵng\n"
     ]
    }
   ],
   "source": [
    "print(driver.find_element_by_xpath('//*[@id=\"viewJobSSRRoot\"]/div[2]/div/div[3]/div/div/div[1]/div[1]/div[2]/div[1]/div[2]/div/div/div/div[2]').text)"
   ]
  },
  {
   "cell_type": "code",
   "execution_count": null,
   "id": "2edbb565",
   "metadata": {},
   "outputs": [],
   "source": []
  }
 ],
 "metadata": {
  "kernelspec": {
   "display_name": "Python 3 (ipykernel)",
   "language": "python",
   "name": "python3"
  },
  "language_info": {
   "codemirror_mode": {
    "name": "ipython",
    "version": 3
   },
   "file_extension": ".py",
   "mimetype": "text/x-python",
   "name": "python",
   "nbconvert_exporter": "python",
   "pygments_lexer": "ipython3",
   "version": "3.9.12"
  }
 },
 "nbformat": 4,
 "nbformat_minor": 5
}
