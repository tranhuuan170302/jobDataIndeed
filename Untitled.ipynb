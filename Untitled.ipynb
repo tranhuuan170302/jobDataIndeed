{
 "cells": [
  {
   "cell_type": "markdown",
   "id": "211ba9bd",
   "metadata": {},
   "source": [
    "# I. Import libraries"
   ]
  },
  {
   "cell_type": "code",
   "execution_count": 1,
   "id": "7b422ca2",
   "metadata": {},
   "outputs": [],
   "source": [
    "import pandas as pd\n",
    "import string \n",
    "import re\n",
    "import time\n",
    "import nltk\n",
    "from nltk.stem import PorterStemmer\n",
    "from nltk import pos_tag\n",
    "from nltk.corpus import stopwords\n",
    "from nltk.tokenize import word_tokenize\n",
    "from nltk.stem import WordNetLemmatizer\n",
    "from textblob import TextBlob\n",
    "\n",
    "import matplotlib.pyplot as plt\n",
    "import seaborn as sns\n",
    "\n",
    "\n",
    "\n",
    "from sklearn.model_selection import train_test_split\n",
    "from sklearn import metrics\n",
    "from sklearn.metrics import classification_report\n",
    "from sklearn.metrics import confusion_matrix \n",
    "from sklearn.model_selection import train_test_split\n",
    "from sklearn.tree import DecisionTreeClassifier\n",
    "from sklearn.linear_model import LogisticRegression\n",
    "from sklearn.neural_network import MLPClassifier\n",
    "from sklearn.tree import DecisionTreeClassifier\n",
    "\n",
    "\n",
    "\n",
    "from collections import Counter\n",
    "import pandas as pd\n",
    "import nltk\n",
    "import string\n",
    "from nltk.tokenize import word_tokenize\n",
    "\n",
    "import math\n",
    "sns.set()"
   ]
  },
  {
   "cell_type": "code",
   "execution_count": 2,
   "id": "bb6ad368",
   "metadata": {},
   "outputs": [],
   "source": [
    "# stop_words = set(stopwords.words(\"english\"))\n",
    "# stemmer = PorterStemmer()"
   ]
  },
  {
   "cell_type": "markdown",
   "id": "b9aca91d",
   "metadata": {},
   "source": [
    "# II. Read file dataset"
   ]
  },
  {
   "cell_type": "code",
   "execution_count": 3,
   "id": "0f902868",
   "metadata": {},
   "outputs": [],
   "source": [
    "df = pd.read_csv('resultData.csv')"
   ]
  },
  {
   "cell_type": "code",
   "execution_count": 4,
   "id": "03c85f34",
   "metadata": {},
   "outputs": [
    {
     "data": {
      "text/html": [
       "<div>\n",
       "<style scoped>\n",
       "    .dataframe tbody tr th:only-of-type {\n",
       "        vertical-align: middle;\n",
       "    }\n",
       "\n",
       "    .dataframe tbody tr th {\n",
       "        vertical-align: top;\n",
       "    }\n",
       "\n",
       "    .dataframe thead th {\n",
       "        text-align: right;\n",
       "    }\n",
       "</style>\n",
       "<table border=\"1\" class=\"dataframe\">\n",
       "  <thead>\n",
       "    <tr style=\"text-align: right;\">\n",
       "      <th></th>\n",
       "      <th>Unnamed: 0</th>\n",
       "      <th>JobTitle</th>\n",
       "      <th>Company</th>\n",
       "      <th>Location</th>\n",
       "      <th>PostDate</th>\n",
       "      <th>ExtractDate</th>\n",
       "      <th>Summary</th>\n",
       "      <th>JobUrl</th>\n",
       "    </tr>\n",
       "  </thead>\n",
       "  <tbody>\n",
       "    <tr>\n",
       "      <th>0</th>\n",
       "      <td>0</td>\n",
       "      <td>.Net Developer</td>\n",
       "      <td>SmartDev</td>\n",
       "      <td>Ðà Nẵng</td>\n",
       "      <td>Posted\\nPosted 14 days ago</td>\n",
       "      <td>2023-01-25</td>\n",
       "      <td>Company Description\\nSmartDev is a leading pro...</td>\n",
       "      <td>.NET Developer\\n</td>\n",
       "    </tr>\n",
       "    <tr>\n",
       "      <th>1</th>\n",
       "      <td>1</td>\n",
       "      <td>Intern / Fresher Developer</td>\n",
       "      <td>DXC Technology</td>\n",
       "      <td>Thành phố Hồ Chí Minh</td>\n",
       "      <td>Employer\\nActive 22 days ago</td>\n",
       "      <td>2023-01-25</td>\n",
       "      <td>Overview:\\nHow would you like to join an inter...</td>\n",
       "      <td>.NET Developer\\n</td>\n",
       "    </tr>\n",
       "    <tr>\n",
       "      <th>2</th>\n",
       "      <td>2</td>\n",
       "      <td>.NET Developer (Middle/Senior level)</td>\n",
       "      <td>SIOUX</td>\n",
       "      <td>Ðà Nẵng</td>\n",
       "      <td>Posted\\nPosted 30+ days ago</td>\n",
       "      <td>2023-01-25</td>\n",
       "      <td>Sioux Group was founded in 1996 in the Netherl...</td>\n",
       "      <td>.NET Developer\\n</td>\n",
       "    </tr>\n",
       "    <tr>\n",
       "      <th>3</th>\n",
       "      <td>3</td>\n",
       "      <td>Jun/Mid/Senior .NET Developer</td>\n",
       "      <td>Saigon Technology</td>\n",
       "      <td>Ðà Nẵng</td>\n",
       "      <td>Posted\\nPosted 18 days ago</td>\n",
       "      <td>2023-01-25</td>\n",
       "      <td>Up to $2,200\\nJunior, Middle, Senior\\nDa Nang\\...</td>\n",
       "      <td>.NET Developer\\n</td>\n",
       "    </tr>\n",
       "    <tr>\n",
       "      <th>4</th>\n",
       "      <td>4</td>\n",
       "      <td>Web Developer (.NET, ASP.NET, C#)</td>\n",
       "      <td>NPV Corp</td>\n",
       "      <td>Ðà Nẵng</td>\n",
       "      <td>Posted\\nPosted 16 days ago</td>\n",
       "      <td>2023-01-25</td>\n",
       "      <td>Web Developer (.NET, ASP.NET, C#)\\nNPV Corp\\nỨ...</td>\n",
       "      <td>.NET Developer\\n</td>\n",
       "    </tr>\n",
       "  </tbody>\n",
       "</table>\n",
       "</div>"
      ],
      "text/plain": [
       "   Unnamed: 0                              JobTitle            Company  \\\n",
       "0           0                        .Net Developer           SmartDev   \n",
       "1           1            Intern / Fresher Developer     DXC Technology   \n",
       "2           2  .NET Developer (Middle/Senior level)              SIOUX   \n",
       "3           3         Jun/Mid/Senior .NET Developer  Saigon Technology   \n",
       "4           4     Web Developer (.NET, ASP.NET, C#)           NPV Corp   \n",
       "\n",
       "                Location                      PostDate ExtractDate  \\\n",
       "0                Ðà Nẵng    Posted\\nPosted 14 days ago  2023-01-25   \n",
       "1  Thành phố Hồ Chí Minh  Employer\\nActive 22 days ago  2023-01-25   \n",
       "2                Ðà Nẵng   Posted\\nPosted 30+ days ago  2023-01-25   \n",
       "3                Ðà Nẵng    Posted\\nPosted 18 days ago  2023-01-25   \n",
       "4                Ðà Nẵng    Posted\\nPosted 16 days ago  2023-01-25   \n",
       "\n",
       "                                             Summary            JobUrl  \n",
       "0  Company Description\\nSmartDev is a leading pro...  .NET Developer\\n  \n",
       "1  Overview:\\nHow would you like to join an inter...  .NET Developer\\n  \n",
       "2  Sioux Group was founded in 1996 in the Netherl...  .NET Developer\\n  \n",
       "3  Up to $2,200\\nJunior, Middle, Senior\\nDa Nang\\...  .NET Developer\\n  \n",
       "4  Web Developer (.NET, ASP.NET, C#)\\nNPV Corp\\nỨ...  .NET Developer\\n  "
      ]
     },
     "execution_count": 4,
     "metadata": {},
     "output_type": "execute_result"
    }
   ],
   "source": [
    "df.head()"
   ]
  },
  {
   "cell_type": "code",
   "execution_count": 5,
   "id": "118ab67f",
   "metadata": {},
   "outputs": [
    {
     "data": {
      "text/plain": [
       "(4379, 8)"
      ]
     },
     "execution_count": 5,
     "metadata": {},
     "output_type": "execute_result"
    }
   ],
   "source": [
    "df.shape"
   ]
  },
  {
   "cell_type": "markdown",
   "id": "59a74ffc",
   "metadata": {},
   "source": [
    "## Overview<br>\n",
    "+ In this dataset include 8 columns and 4379 row.<br>\n",
    "+ JobTitle: Name job title.<br>\n",
    "+ Company: Name company.<br>\n",
    "+ Location: Job location.<br>\n",
    "+ PostDate: The days posted from date collect data.<br>\n",
    "+ ExtractDate: The date extract data.<br>\n",
    "+ Summary: is textual talk about company, job description and skill of Job.<br>\n",
    "+ NameJob: is type job.<br>"
   ]
  },
  {
   "cell_type": "markdown",
   "id": "e130aa8a",
   "metadata": {},
   "source": [
    "# III. OverView dataset"
   ]
  },
  {
   "cell_type": "code",
   "execution_count": 6,
   "id": "d55b8a95",
   "metadata": {},
   "outputs": [],
   "source": [
    "# show infomaion data\n",
    "def overView(x):\n",
    "    listSummary = []\n",
    "    for i in x.columns:\n",
    "        row = x[i].shape[0]\n",
    "        missingVal = x[i].isna().sum()\n",
    "        unique = len(x[i].unique())\n",
    "        typeCol = str(x[i].dtype)\n",
    "        percentageMissingVal = x[i].isna().sum()/x.shape[0]*100\n",
    "        listSummary.append([i, row,typeCol,unique, missingVal, percentageMissingVal])\n",
    "    return pd.DataFrame(listSummary, columns = ['Name Columns', 'Total row', 'type col', 'Total unique', 'Total miss val', 'percentage missing value'])"
   ]
  },
  {
   "cell_type": "code",
   "execution_count": 7,
   "id": "17dee2e7",
   "metadata": {},
   "outputs": [],
   "source": [
    "def checkData(rows, columns):\n",
    "    \"\"\"get row data any\"\"\"\n",
    "    return df.iloc[rows, columns]"
   ]
  },
  {
   "cell_type": "code",
   "execution_count": 8,
   "id": "757a3a97",
   "metadata": {},
   "outputs": [
    {
     "data": {
      "text/html": [
       "<div>\n",
       "<style scoped>\n",
       "    .dataframe tbody tr th:only-of-type {\n",
       "        vertical-align: middle;\n",
       "    }\n",
       "\n",
       "    .dataframe tbody tr th {\n",
       "        vertical-align: top;\n",
       "    }\n",
       "\n",
       "    .dataframe thead th {\n",
       "        text-align: right;\n",
       "    }\n",
       "</style>\n",
       "<table border=\"1\" class=\"dataframe\">\n",
       "  <thead>\n",
       "    <tr style=\"text-align: right;\">\n",
       "      <th></th>\n",
       "      <th>Name Columns</th>\n",
       "      <th>Total row</th>\n",
       "      <th>type col</th>\n",
       "      <th>Total unique</th>\n",
       "      <th>Total miss val</th>\n",
       "      <th>percentage missing value</th>\n",
       "    </tr>\n",
       "  </thead>\n",
       "  <tbody>\n",
       "    <tr>\n",
       "      <th>0</th>\n",
       "      <td>Unnamed: 0</td>\n",
       "      <td>4379</td>\n",
       "      <td>int64</td>\n",
       "      <td>741</td>\n",
       "      <td>0</td>\n",
       "      <td>0.0</td>\n",
       "    </tr>\n",
       "    <tr>\n",
       "      <th>1</th>\n",
       "      <td>JobTitle</td>\n",
       "      <td>4379</td>\n",
       "      <td>object</td>\n",
       "      <td>2220</td>\n",
       "      <td>0</td>\n",
       "      <td>0.0</td>\n",
       "    </tr>\n",
       "    <tr>\n",
       "      <th>2</th>\n",
       "      <td>Company</td>\n",
       "      <td>4379</td>\n",
       "      <td>object</td>\n",
       "      <td>1114</td>\n",
       "      <td>0</td>\n",
       "      <td>0.0</td>\n",
       "    </tr>\n",
       "    <tr>\n",
       "      <th>3</th>\n",
       "      <td>Location</td>\n",
       "      <td>4379</td>\n",
       "      <td>object</td>\n",
       "      <td>39</td>\n",
       "      <td>0</td>\n",
       "      <td>0.0</td>\n",
       "    </tr>\n",
       "    <tr>\n",
       "      <th>4</th>\n",
       "      <td>PostDate</td>\n",
       "      <td>4379</td>\n",
       "      <td>object</td>\n",
       "      <td>43</td>\n",
       "      <td>0</td>\n",
       "      <td>0.0</td>\n",
       "    </tr>\n",
       "    <tr>\n",
       "      <th>5</th>\n",
       "      <td>ExtractDate</td>\n",
       "      <td>4379</td>\n",
       "      <td>object</td>\n",
       "      <td>2</td>\n",
       "      <td>0</td>\n",
       "      <td>0.0</td>\n",
       "    </tr>\n",
       "    <tr>\n",
       "      <th>6</th>\n",
       "      <td>Summary</td>\n",
       "      <td>4379</td>\n",
       "      <td>object</td>\n",
       "      <td>2678</td>\n",
       "      <td>0</td>\n",
       "      <td>0.0</td>\n",
       "    </tr>\n",
       "    <tr>\n",
       "      <th>7</th>\n",
       "      <td>JobUrl</td>\n",
       "      <td>4379</td>\n",
       "      <td>object</td>\n",
       "      <td>13</td>\n",
       "      <td>0</td>\n",
       "      <td>0.0</td>\n",
       "    </tr>\n",
       "  </tbody>\n",
       "</table>\n",
       "</div>"
      ],
      "text/plain": [
       "  Name Columns  Total row type col  Total unique  Total miss val  \\\n",
       "0   Unnamed: 0       4379    int64           741               0   \n",
       "1     JobTitle       4379   object          2220               0   \n",
       "2      Company       4379   object          1114               0   \n",
       "3     Location       4379   object            39               0   \n",
       "4     PostDate       4379   object            43               0   \n",
       "5  ExtractDate       4379   object             2               0   \n",
       "6      Summary       4379   object          2678               0   \n",
       "7       JobUrl       4379   object            13               0   \n",
       "\n",
       "   percentage missing value  \n",
       "0                       0.0  \n",
       "1                       0.0  \n",
       "2                       0.0  \n",
       "3                       0.0  \n",
       "4                       0.0  \n",
       "5                       0.0  \n",
       "6                       0.0  \n",
       "7                       0.0  "
      ]
     },
     "execution_count": 8,
     "metadata": {},
     "output_type": "execute_result"
    }
   ],
   "source": [
    "overView(df)"
   ]
  },
  {
   "cell_type": "code",
   "execution_count": 9,
   "id": "123ce5cd",
   "metadata": {},
   "outputs": [
    {
     "data": {
      "text/html": [
       "<div>\n",
       "<style scoped>\n",
       "    .dataframe tbody tr th:only-of-type {\n",
       "        vertical-align: middle;\n",
       "    }\n",
       "\n",
       "    .dataframe tbody tr th {\n",
       "        vertical-align: top;\n",
       "    }\n",
       "\n",
       "    .dataframe thead th {\n",
       "        text-align: right;\n",
       "    }\n",
       "</style>\n",
       "<table border=\"1\" class=\"dataframe\">\n",
       "  <thead>\n",
       "    <tr style=\"text-align: right;\">\n",
       "      <th></th>\n",
       "      <th>Unnamed: 0</th>\n",
       "      <th>JobTitle</th>\n",
       "      <th>Company</th>\n",
       "      <th>Location</th>\n",
       "      <th>PostDate</th>\n",
       "      <th>ExtractDate</th>\n",
       "      <th>Summary</th>\n",
       "      <th>JobUrl</th>\n",
       "    </tr>\n",
       "  </thead>\n",
       "  <tbody>\n",
       "    <tr>\n",
       "      <th>2</th>\n",
       "      <td>2</td>\n",
       "      <td>.NET Developer (Middle/Senior level)</td>\n",
       "      <td>SIOUX</td>\n",
       "      <td>Ðà Nẵng</td>\n",
       "      <td>Posted\\nPosted 30+ days ago</td>\n",
       "      <td>2023-01-25</td>\n",
       "      <td>Sioux Group was founded in 1996 in the Netherl...</td>\n",
       "      <td>.NET Developer\\n</td>\n",
       "    </tr>\n",
       "    <tr>\n",
       "      <th>5</th>\n",
       "      <td>5</td>\n",
       "      <td>Fresher Software Developer (Low code platform)...</td>\n",
       "      <td>KMS Technology</td>\n",
       "      <td>Ðà Nẵng</td>\n",
       "      <td>Posted\\nPosted 13 days ago</td>\n",
       "      <td>2023-01-25</td>\n",
       "      <td>Company Description\\n\\nKMS was established in ...</td>\n",
       "      <td>.NET Developer\\n</td>\n",
       "    </tr>\n",
       "    <tr>\n",
       "      <th>9</th>\n",
       "      <td>9</td>\n",
       "      <td>.NET Support Developer</td>\n",
       "      <td>Sharesource</td>\n",
       "      <td>Việt Nam</td>\n",
       "      <td>Posted\\nPosted 5 days ago</td>\n",
       "      <td>2023-01-25</td>\n",
       "      <td>Vietnam\\n\\nAre you ready to take your career t...</td>\n",
       "      <td>.NET Developer\\n</td>\n",
       "    </tr>\n",
       "    <tr>\n",
       "      <th>100</th>\n",
       "      <td>100</td>\n",
       "      <td>Senior .NET Engineer</td>\n",
       "      <td>NashTech</td>\n",
       "      <td>Ðà Nẵng</td>\n",
       "      <td>Posted\\nPosted 30+ days ago</td>\n",
       "      <td>2023-01-25</td>\n",
       "      <td>Description\\nThe Senior Software Engineer (SSE...</td>\n",
       "      <td>.NET Developer\\n</td>\n",
       "    </tr>\n",
       "  </tbody>\n",
       "</table>\n",
       "</div>"
      ],
      "text/plain": [
       "     Unnamed: 0                                           JobTitle  \\\n",
       "2             2               .NET Developer (Middle/Senior level)   \n",
       "5             5  Fresher Software Developer (Low code platform)...   \n",
       "9             9                             .NET Support Developer   \n",
       "100         100                               Senior .NET Engineer   \n",
       "\n",
       "            Company  Location                     PostDate ExtractDate  \\\n",
       "2             SIOUX   Ðà Nẵng  Posted\\nPosted 30+ days ago  2023-01-25   \n",
       "5    KMS Technology   Ðà Nẵng   Posted\\nPosted 13 days ago  2023-01-25   \n",
       "9       Sharesource  Việt Nam    Posted\\nPosted 5 days ago  2023-01-25   \n",
       "100        NashTech   Ðà Nẵng  Posted\\nPosted 30+ days ago  2023-01-25   \n",
       "\n",
       "                                               Summary            JobUrl  \n",
       "2    Sioux Group was founded in 1996 in the Netherl...  .NET Developer\\n  \n",
       "5    Company Description\\n\\nKMS was established in ...  .NET Developer\\n  \n",
       "9    Vietnam\\n\\nAre you ready to take your career t...  .NET Developer\\n  \n",
       "100  Description\\nThe Senior Software Engineer (SSE...  .NET Developer\\n  "
      ]
     },
     "execution_count": 9,
     "metadata": {},
     "output_type": "execute_result"
    }
   ],
   "source": [
    "checkData([2,5,9,100], [0,1,2,3,4,5,6,7])"
   ]
  },
  {
   "cell_type": "markdown",
   "id": "76926402",
   "metadata": {},
   "source": [
    "# Comment:<br>\n",
    "+ In this dataset columns 'Unnamed: 0' have 741 values unique. That is maybe will have value repeat. So we can't choose column 'Unnamed: 0' is ID.<br>\n",
    "+ I will extract skill, level, years experience from column 'Summary'.<br>\n",
    "+ I handle 'Job Title', 'Location', 'Company', 'NameJob' with remove special character to keep again importance info and convert string to lowercase.<br>\n"
   ]
  },
  {
   "cell_type": "code",
   "execution_count": 18,
   "id": "d9fc0933",
   "metadata": {},
   "outputs": [],
   "source": [
    "# got these keywords by looking at some examples and using existing knowledge.\n",
    "tool_keywords1 = ['sql', 'linqpad', 'teamcity', 'octopus', 'ncrunch', 'nuget', 'nunit', 'omnisharp', 'jetBrains rider', \n",
    "                  'reSharper']\n",
    "# another set of keywords that are longer than one word.\n",
    "tool_keywords2 = set(['amazon web services', 'google cloud', 'sql server'])"
   ]
  },
  {
   "cell_type": "code",
   "execution_count": 11,
   "id": "4f70f518",
   "metadata": {},
   "outputs": [],
   "source": [
    "# hard skills/knowledge required.\n",
    "skill_keywords1 = set(['statistics', 'cleansing', 'chatbot', 'cleaning', 'blockchain', 'causality', 'correlation', 'bandit', 'anomaly', 'kpi',\n",
    " 'dashboard', 'geospatial', 'ocr', 'econometrics', 'pca', 'gis', 'svm', 'svd', 'tuning', 'hyperparameter', 'hypothesis',\n",
    " 'salesforcecom', 'segmentation', 'biostatistics', 'unsupervised', 'supervised', 'exploratory',\n",
    " 'recommender', 'recommendations', 'research', 'sequencing', 'probability', 'reinforcement', 'graph', 'bioinformatics',\n",
    " 'chi', 'knn', 'outlier', 'etl', 'normalization', 'classification', 'optimizing', 'prediction', 'forecasting',\n",
    " 'clustering', 'cluster', 'optimization', 'visualization', 'nlp', 'c#',\n",
    " 'regression', 'logistic', 'nn', 'cnn', 'glm',\n",
    " 'rnn', 'lstm', 'gbm', 'boosting', 'recurrent', 'convolutional', 'bayesian',\n",
    " 'bayes'])\n",
    "\n",
    "\n",
    "# another set of keywords that are longer than one word.\n",
    "skill_keywords2 = set(['random forest', 'natural language processing', 'machine learning', 'decision tree', 'deep learning', 'experimental design',\n",
    " 'time series', 'nearest neighbors', 'neural network', 'support vector machine', 'computer vision', 'machine vision', 'dimensionality reduction', \n",
    " 'text analytics', 'power bi', 'a/b testing', 'ab testing', 'chat bot', 'data mining'])\n"
   ]
  },
  {
   "cell_type": "code",
   "execution_count": 12,
   "id": "81bdaadb",
   "metadata": {},
   "outputs": [],
   "source": [
    "degree_dict = {'bs': 1, 'bachelor': 1, 'undergraduate': 1, \n",
    "               'master': 2, 'graduate': 2, 'mba': 2.5, \n",
    "               'phd': 3, 'ph.d': 3, 'ba': 1, 'ma': 2,\n",
    "               'postdoctoral': 4, 'postdoc': 4, 'doctorate': 3}\n",
    "\n",
    "\n",
    "degree_dict2 = {'advanced degree': 2, 'ms or': 2, 'ms degree': 2, '4 year degree': 1, 'bs/': 1, 'ba/': 1,\n",
    "                '4-year degree': 1, 'b.s.': 1, 'm.s.': 2, 'm.s': 2, 'b.s': 1, 'phd/': 3, 'ph.d.': 3, 'ms/': 2,\n",
    "                'm.s/': 2, 'm.s./': 2, 'msc/': 2, 'master/': 2, 'master\\'s/': 2, 'bachelor\\s/': 1}\n",
    "degree_keywords2 = set(degree_dict2.keys())"
   ]
  },
  {
   "cell_type": "markdown",
   "id": "47df1971",
   "metadata": {},
   "source": [
    "# IV. Data preprocessing."
   ]
  },
  {
   "cell_type": "code",
   "execution_count": 13,
   "id": "a6c23c00",
   "metadata": {},
   "outputs": [],
   "source": [
    "df.drop(columns = 'Unnamed: 0', inplace=True)\n",
    "df = df.reset_index()"
   ]
  },
  {
   "cell_type": "code",
   "execution_count": 14,
   "id": "5c33ba47",
   "metadata": {},
   "outputs": [
    {
     "data": {
      "text/plain": [
       "5       Company Description\\n\\nKMS was established in ...\n",
       "6       LẬP TRÌNH VIÊN .NET\\nNET DEVELOPER\\nMÔ TẢ CÔNG...\n",
       "7       You will play a vital role in our team, where ...\n",
       "8       Remote Full Stack Senior .NET / .Net Core / De...\n",
       "9       Vietnam\\n\\nAre you ready to take your career t...\n",
       "                              ...                        \n",
       "4374    Mô tả công việc:\\n(Mức lương: 15 - 45 triệu VN...\n",
       "4375    Giới thiệu:\\n...\\nJob description:\\nWe are str...\n",
       "4376    Giới thiệu:\\nViệc Ơi It Client\\n\\nlà công ty 1...\n",
       "4377    Mô tả công việc:\\n(Mức lương: Thỏa thuận)\\nDev...\n",
       "4378    Permanent\\nFull-time\\nHo Chi Minh City\\nSOFTWA...\n",
       "Name: Summary, Length: 4374, dtype: object"
      ]
     },
     "execution_count": 14,
     "metadata": {},
     "output_type": "execute_result"
    }
   ],
   "source": [
    "df['Summary'].iloc[5:]"
   ]
  },
  {
   "cell_type": "code",
   "execution_count": 15,
   "id": "a398f8c7",
   "metadata": {},
   "outputs": [
    {
     "data": {
      "text/plain": [
       "['Company',\n",
       " 'Description',\n",
       " 'KMS',\n",
       " 'was',\n",
       " 'established',\n",
       " 'in',\n",
       " '2009',\n",
       " 'as',\n",
       " 'a',\n",
       " 'U.S.-based',\n",
       " 'software',\n",
       " 'development',\n",
       " '&',\n",
       " 'consulting',\n",
       " 'company',\n",
       " 'with',\n",
       " 'development',\n",
       " 'centers',\n",
       " 'in',\n",
       " 'Vietnam',\n",
       " '.',\n",
       " 'Over',\n",
       " '13',\n",
       " 'years',\n",
       " 'of',\n",
       " 'operation',\n",
       " ',',\n",
       " 'we',\n",
       " 'have',\n",
       " 'been',\n",
       " 'trusted',\n",
       " 'globally',\n",
       " 'for',\n",
       " 'the',\n",
       " 'superlative',\n",
       " 'quality',\n",
       " 'of',\n",
       " 'software',\n",
       " 'services',\n",
       " ',',\n",
       " 'products',\n",
       " ',',\n",
       " 'technology',\n",
       " 'solutions',\n",
       " 'and',\n",
       " 'engineers',\n",
       " \"'\",\n",
       " 'expertise',\n",
       " '.',\n",
       " 'KMS',\n",
       " 'Technology',\n",
       " 'focuses',\n",
       " 'on',\n",
       " 'custom',\n",
       " 'software',\n",
       " 'development',\n",
       " 'and',\n",
       " 'a',\n",
       " 'wide',\n",
       " 'variety',\n",
       " 'of',\n",
       " 'consulting',\n",
       " 'services',\n",
       " 'KMS',\n",
       " 'Healthcare',\n",
       " 'specialises',\n",
       " 'in',\n",
       " 'the',\n",
       " 'healthcare',\n",
       " 'industry',\n",
       " ',',\n",
       " 'provides',\n",
       " 'a',\n",
       " 'unique',\n",
       " 'blend',\n",
       " 'of',\n",
       " 'consultative',\n",
       " 'healthcare',\n",
       " 'technology',\n",
       " 'solutions',\n",
       " 'backed',\n",
       " 'by',\n",
       " 'the',\n",
       " 'power',\n",
       " 'of',\n",
       " 'full',\n",
       " 'lifecycle',\n",
       " 'development',\n",
       " 'support',\n",
       " 'KMS',\n",
       " 'Solutions',\n",
       " 'serves',\n",
       " 'the',\n",
       " 'Asia',\n",
       " 'Pacific',\n",
       " 'region',\n",
       " ',',\n",
       " 'bringing',\n",
       " 'the',\n",
       " 'world',\n",
       " \"'s\",\n",
       " 'innovative',\n",
       " 'technologies',\n",
       " 'to',\n",
       " 'help',\n",
       " 'organizations',\n",
       " 'achieve',\n",
       " 'their',\n",
       " 'business',\n",
       " 'goals',\n",
       " 'through',\n",
       " 'world-class',\n",
       " 'digital',\n",
       " 'capabilities',\n",
       " 'and',\n",
       " 'fit-for-purpose',\n",
       " 'solutions',\n",
       " 'Besides',\n",
       " 'providing',\n",
       " 'services',\n",
       " ',',\n",
       " 'KMS',\n",
       " 'builds',\n",
       " 'and',\n",
       " 'successfully',\n",
       " 'launches',\n",
       " 'its',\n",
       " 'own',\n",
       " 'software',\n",
       " 'companies',\n",
       " 'through',\n",
       " 'its',\n",
       " 'internal',\n",
       " 'startup',\n",
       " 'incubator',\n",
       " ',',\n",
       " 'KMS',\n",
       " 'Labs',\n",
       " '.',\n",
       " 'The',\n",
       " 'most',\n",
       " 'notable',\n",
       " 'companies',\n",
       " 'with',\n",
       " 'millions',\n",
       " 'of',\n",
       " 'users',\n",
       " 'worldwide',\n",
       " 'include',\n",
       " 'QASymphony',\n",
       " ',',\n",
       " 'Kobiton',\n",
       " ',',\n",
       " 'Katalon',\n",
       " ',',\n",
       " 'Grove',\n",
       " ',',\n",
       " 'and',\n",
       " 'Visily',\n",
       " '.',\n",
       " 'KMS',\n",
       " 'is',\n",
       " 'committed',\n",
       " 'to',\n",
       " 'providing',\n",
       " 'tangible',\n",
       " 'contributions',\n",
       " 'and',\n",
       " 'long-lasting',\n",
       " 'impacts',\n",
       " 'to',\n",
       " 'the',\n",
       " 'communities',\n",
       " 'through',\n",
       " 'leveraging',\n",
       " 'our',\n",
       " 'IT',\n",
       " 'expertise',\n",
       " '.',\n",
       " 'The',\n",
       " 'company',\n",
       " 'has',\n",
       " 'also',\n",
       " 'been',\n",
       " 'recognized',\n",
       " 'by',\n",
       " 'prestigious',\n",
       " 'industry',\n",
       " 'awards',\n",
       " 'as',\n",
       " 'a',\n",
       " 'great',\n",
       " 'workplace',\n",
       " 'in',\n",
       " 'Vietnam',\n",
       " ',',\n",
       " 'Asia',\n",
       " ',',\n",
       " 'and',\n",
       " 'the',\n",
       " 'U.S.',\n",
       " 'for',\n",
       " 'many',\n",
       " 'years',\n",
       " 'in',\n",
       " 'a',\n",
       " 'row',\n",
       " '.',\n",
       " 'Job',\n",
       " 'Description',\n",
       " 'Your',\n",
       " 'key',\n",
       " 'responsibilities',\n",
       " ':',\n",
       " 'The',\n",
       " 'Fresher',\n",
       " 'Software',\n",
       " 'Engineer',\n",
       " 'will',\n",
       " 'be',\n",
       " 'responsible',\n",
       " 'for',\n",
       " 'developing',\n",
       " 'and',\n",
       " 'maintaining',\n",
       " 'applications',\n",
       " 'using',\n",
       " 'a',\n",
       " 'low-code',\n",
       " 'development',\n",
       " 'platform',\n",
       " ',',\n",
       " 'setting',\n",
       " 'up',\n",
       " 'and',\n",
       " 'configuring',\n",
       " 'systems',\n",
       " 'for',\n",
       " 'each',\n",
       " 'customer',\n",
       " \"'s\",\n",
       " 'unique',\n",
       " 'requirements',\n",
       " '.',\n",
       " 'If',\n",
       " 'you',\n",
       " 'are',\n",
       " 'naturally',\n",
       " 'drawn',\n",
       " 'to',\n",
       " 'technology',\n",
       " 'and',\n",
       " 'understanding',\n",
       " 'it',\n",
       " ',',\n",
       " 'and',\n",
       " 'if',\n",
       " 'you',\n",
       " 'are',\n",
       " 'looking',\n",
       " 'for',\n",
       " 'an',\n",
       " 'opportunity',\n",
       " 'in',\n",
       " 'a',\n",
       " 'fast-paced',\n",
       " 'software',\n",
       " 'development',\n",
       " 'environment',\n",
       " 'where',\n",
       " 'you',\n",
       " 'can',\n",
       " 'develop',\n",
       " 'your',\n",
       " 'technical',\n",
       " 'skills',\n",
       " 'and',\n",
       " 'soft',\n",
       " 'skills',\n",
       " 'in',\n",
       " 'parallel',\n",
       " ',',\n",
       " 'then',\n",
       " 'you',\n",
       " 'might',\n",
       " 'be',\n",
       " 'a',\n",
       " 'match',\n",
       " 'Qualifications',\n",
       " 'Final',\n",
       " 'year',\n",
       " 'student/',\n",
       " 'new',\n",
       " 'graduate/',\n",
       " 'less',\n",
       " 'than',\n",
       " '1',\n",
       " 'year',\n",
       " 'of',\n",
       " 'experience',\n",
       " 'Ready',\n",
       " 'to',\n",
       " 'work',\n",
       " 'fulltime',\n",
       " 'Passion',\n",
       " 'for',\n",
       " 'at',\n",
       " 'least',\n",
       " 'one',\n",
       " 'programming',\n",
       " 'language',\n",
       " 'or',\n",
       " 'scripting',\n",
       " 'experience',\n",
       " '(',\n",
       " 'C',\n",
       " '#',\n",
       " ',',\n",
       " '.Net',\n",
       " ',',\n",
       " 'Java',\n",
       " ',',\n",
       " 'Python',\n",
       " ')',\n",
       " 'Theoretical',\n",
       " 'knowledge',\n",
       " 'of',\n",
       " 'software',\n",
       " 'development',\n",
       " 'good',\n",
       " 'practices',\n",
       " 'and',\n",
       " 'basic',\n",
       " 'software',\n",
       " 'design',\n",
       " 'patterns',\n",
       " 'Problem-solving',\n",
       " 'skills',\n",
       " 'and',\n",
       " 'solution-oriented',\n",
       " 'attitude',\n",
       " 'Ability',\n",
       " 'to',\n",
       " 'work',\n",
       " 'independently',\n",
       " 'and',\n",
       " 'in',\n",
       " 'a',\n",
       " 'team',\n",
       " 'setting',\n",
       " 'Good',\n",
       " 'English',\n",
       " 'skills',\n",
       " '(',\n",
       " 'especially',\n",
       " 'reading',\n",
       " 'and',\n",
       " 'writing',\n",
       " ')',\n",
       " 'Additional',\n",
       " 'Information',\n",
       " 'Perks',\n",
       " 'You',\n",
       " \"'ll\",\n",
       " 'Enjoy',\n",
       " 'Working',\n",
       " 'in',\n",
       " 'one',\n",
       " 'of',\n",
       " 'the',\n",
       " 'Best',\n",
       " 'Places',\n",
       " 'to',\n",
       " 'Work',\n",
       " 'in',\n",
       " 'Vietnam',\n",
       " 'Building',\n",
       " 'large-scale',\n",
       " '&',\n",
       " 'global',\n",
       " 'software',\n",
       " 'products',\n",
       " 'Working',\n",
       " '&',\n",
       " 'growing',\n",
       " 'with',\n",
       " 'Passionate',\n",
       " '&',\n",
       " 'Talented',\n",
       " 'Team',\n",
       " 'Diverse',\n",
       " 'careers',\n",
       " 'opportunities',\n",
       " 'with',\n",
       " 'Software',\n",
       " 'Outsourcing',\n",
       " ',',\n",
       " 'Software',\n",
       " 'Product',\n",
       " 'Development',\n",
       " ',',\n",
       " 'IT',\n",
       " 'Solutions',\n",
       " '&',\n",
       " 'Consulting',\n",
       " 'Attractive',\n",
       " 'Salary',\n",
       " 'and',\n",
       " 'Benefits',\n",
       " 'Two',\n",
       " 'performance',\n",
       " 'appraisals',\n",
       " 'every',\n",
       " 'year',\n",
       " 'and',\n",
       " 'performance',\n",
       " 'bonus',\n",
       " 'Onsite',\n",
       " 'opportunities',\n",
       " ':',\n",
       " 'short-term',\n",
       " 'and',\n",
       " 'long-term',\n",
       " 'assignments',\n",
       " 'in',\n",
       " 'North',\n",
       " 'American',\n",
       " '(',\n",
       " 'U.S',\n",
       " ',',\n",
       " 'Canada',\n",
       " ')',\n",
       " ',',\n",
       " 'Europe',\n",
       " ',',\n",
       " 'Asia',\n",
       " '.',\n",
       " 'Flexible',\n",
       " 'working',\n",
       " 'time',\n",
       " 'Various',\n",
       " 'training',\n",
       " 'on',\n",
       " 'hot-trend',\n",
       " 'technologies',\n",
       " ',',\n",
       " 'best',\n",
       " 'practices',\n",
       " 'and',\n",
       " 'soft',\n",
       " 'skills',\n",
       " 'Premium',\n",
       " 'healthcare',\n",
       " 'insurance',\n",
       " 'for',\n",
       " 'you',\n",
       " 'and',\n",
       " 'your',\n",
       " 'loved',\n",
       " 'ones',\n",
       " 'Company',\n",
       " 'trip',\n",
       " ',',\n",
       " 'big',\n",
       " 'annual',\n",
       " 'year-end',\n",
       " 'party',\n",
       " 'every',\n",
       " 'year',\n",
       " ',',\n",
       " 'team',\n",
       " 'building',\n",
       " ',',\n",
       " 'etc',\n",
       " '.',\n",
       " 'Fitness',\n",
       " '&',\n",
       " 'sport',\n",
       " 'activities',\n",
       " ':',\n",
       " 'football',\n",
       " ',',\n",
       " 'tennis',\n",
       " ',',\n",
       " 'table-tennis',\n",
       " ',',\n",
       " 'badminton',\n",
       " ',',\n",
       " 'yoga',\n",
       " ',',\n",
       " 'swimming…',\n",
       " 'Joining',\n",
       " 'community',\n",
       " 'development',\n",
       " 'activities',\n",
       " ':',\n",
       " '1',\n",
       " '%',\n",
       " 'Pledge',\n",
       " ',',\n",
       " 'charity',\n",
       " 'every',\n",
       " 'quarter',\n",
       " ',',\n",
       " 'blood',\n",
       " 'donation',\n",
       " ',',\n",
       " 'public',\n",
       " 'seminars',\n",
       " ',',\n",
       " 'career',\n",
       " 'orientation',\n",
       " 'talks',\n",
       " ',',\n",
       " '…',\n",
       " 'Free',\n",
       " 'in-house',\n",
       " 'entertainment',\n",
       " 'facilities',\n",
       " '(',\n",
       " 'foosball',\n",
       " ',',\n",
       " 'ping',\n",
       " 'pong',\n",
       " ',',\n",
       " 'gym…',\n",
       " ')',\n",
       " ',',\n",
       " 'coffee',\n",
       " ',',\n",
       " 'and',\n",
       " 'snack',\n",
       " '(',\n",
       " 'instant',\n",
       " 'noodles',\n",
       " ',',\n",
       " 'cookies',\n",
       " ',',\n",
       " 'candies…',\n",
       " ')',\n",
       " 'And',\n",
       " 'much',\n",
       " 'more',\n",
       " ',',\n",
       " 'join',\n",
       " 'us',\n",
       " 'and',\n",
       " 'let',\n",
       " 'yourself',\n",
       " 'explore',\n",
       " 'other',\n",
       " 'fantastic',\n",
       " 'things',\n",
       " '!']"
      ]
     },
     "execution_count": 15,
     "metadata": {},
     "output_type": "execute_result"
    }
   ],
   "source": [
    "word_tokenize(df['Summary'].iloc[5])"
   ]
  },
  {
   "cell_type": "code",
   "execution_count": 16,
   "id": "4f3e0e19",
   "metadata": {},
   "outputs": [
    {
     "data": {
      "text/plain": [
       "array(['.NET Developer\\n', 'Android App Developer\\n',\n",
       "       'Android Developer\\n', 'Back End Developer\\n',\n",
       "       'Back End Web Developer\\n', 'Bridge Engineer\\n',\n",
       "       'Business Analyst\\n', 'C++ Developer\\n', 'Embedded Engineer\\n',\n",
       "       'Front End Developer\\n', 'Front End Web Developer\\n',\n",
       "       'Full Stack Developer\\n', 'Full Stack Web Developer\\n'],\n",
       "      dtype=object)"
      ]
     },
     "execution_count": 16,
     "metadata": {},
     "output_type": "execute_result"
    }
   ],
   "source": [
    "df['JobUrl'].unique()"
   ]
  },
  {
   "cell_type": "code",
   "execution_count": 19,
   "id": "ecee77f3",
   "metadata": {},
   "outputs": [
    {
     "name": "stderr",
     "output_type": "stream",
     "text": [
      "[nltk_data] Error loading punkt: <urlopen error [WinError 10060] A\n",
      "[nltk_data]     connection attempt failed because the connected party\n",
      "[nltk_data]     did not properly respond after a period of time, or\n",
      "[nltk_data]     established connection failed because connected host\n",
      "[nltk_data]     has failed to respond>\n",
      "[nltk_data] Error loading averaged_perceptron_tagger: <urlopen error\n",
      "[nltk_data]     [WinError 10060] A connection attempt failed because\n",
      "[nltk_data]     the connected party did not properly respond after a\n",
      "[nltk_data]     period of time, or established connection failed\n",
      "[nltk_data]     because connected host has failed to respond>\n"
     ]
    },
    {
     "data": {
      "text/plain": [
       "False"
      ]
     },
     "execution_count": 19,
     "metadata": {},
     "output_type": "execute_result"
    }
   ],
   "source": [
    "nltk.download('punkt')\n",
    "# required for parts of speech tagging\n",
    "nltk.download('averaged_perceptron_tagger')"
   ]
  },
  {
   "cell_type": "code",
   "execution_count": 20,
   "id": "61943881",
   "metadata": {},
   "outputs": [
    {
     "ename": "LookupError",
     "evalue": "\n**********************************************************************\n  Resource \u001b[93maveraged_perceptron_tagger\u001b[0m not found.\n  Please use the NLTK Downloader to obtain the resource:\n\n  \u001b[31m>>> import nltk\n  >>> nltk.download('averaged_perceptron_tagger')\n  \u001b[0m\n  For more information see: https://www.nltk.org/data.html\n\n  Attempted to load \u001b[93mtaggers/averaged_perceptron_tagger/averaged_perceptron_tagger.pickle\u001b[0m\n\n  Searched in:\n    - 'C:\\\\Users\\\\Tran Huu An/nltk_data'\n    - 'C:\\\\Users\\\\Tran Huu An\\\\anaconda3\\\\nltk_data'\n    - 'C:\\\\Users\\\\Tran Huu An\\\\anaconda3\\\\share\\\\nltk_data'\n    - 'C:\\\\Users\\\\Tran Huu An\\\\anaconda3\\\\lib\\\\nltk_data'\n    - 'C:\\\\Users\\\\Tran Huu An\\\\AppData\\\\Roaming\\\\nltk_data'\n    - 'C:\\\\nltk_data'\n    - 'D:\\\\nltk_data'\n    - 'E:\\\\nltk_data'\n**********************************************************************\n",
     "output_type": "error",
     "traceback": [
      "\u001b[1;31m---------------------------------------------------------------------------\u001b[0m",
      "\u001b[1;31mLookupError\u001b[0m                               Traceback (most recent call last)",
      "Input \u001b[1;32mIn [20]\u001b[0m, in \u001b[0;36m<cell line: 2>\u001b[1;34m()\u001b[0m\n\u001b[0;32m      1\u001b[0m \u001b[38;5;66;03m# parts of speech tagging\u001b[39;00m\n\u001b[1;32m----> 2\u001b[0m tagged \u001b[38;5;241m=\u001b[39m \u001b[43mnltk\u001b[49m\u001b[38;5;241;43m.\u001b[39;49m\u001b[43mpos_tag\u001b[49m\u001b[43m(\u001b[49m\u001b[43mtool_keywords1\u001b[49m\u001b[43m)\u001b[49m\n",
      "File \u001b[1;32m~\\anaconda3\\lib\\site-packages\\nltk\\tag\\__init__.py:165\u001b[0m, in \u001b[0;36mpos_tag\u001b[1;34m(tokens, tagset, lang)\u001b[0m\n\u001b[0;32m    140\u001b[0m \u001b[38;5;28;01mdef\u001b[39;00m \u001b[38;5;21mpos_tag\u001b[39m(tokens, tagset\u001b[38;5;241m=\u001b[39m\u001b[38;5;28;01mNone\u001b[39;00m, lang\u001b[38;5;241m=\u001b[39m\u001b[38;5;124m\"\u001b[39m\u001b[38;5;124meng\u001b[39m\u001b[38;5;124m\"\u001b[39m):\n\u001b[0;32m    141\u001b[0m     \u001b[38;5;124;03m\"\"\"\u001b[39;00m\n\u001b[0;32m    142\u001b[0m \u001b[38;5;124;03m    Use NLTK's currently recommended part of speech tagger to\u001b[39;00m\n\u001b[0;32m    143\u001b[0m \u001b[38;5;124;03m    tag the given list of tokens.\u001b[39;00m\n\u001b[1;32m   (...)\u001b[0m\n\u001b[0;32m    163\u001b[0m \u001b[38;5;124;03m    :rtype: list(tuple(str, str))\u001b[39;00m\n\u001b[0;32m    164\u001b[0m \u001b[38;5;124;03m    \"\"\"\u001b[39;00m\n\u001b[1;32m--> 165\u001b[0m     tagger \u001b[38;5;241m=\u001b[39m \u001b[43m_get_tagger\u001b[49m\u001b[43m(\u001b[49m\u001b[43mlang\u001b[49m\u001b[43m)\u001b[49m\n\u001b[0;32m    166\u001b[0m     \u001b[38;5;28;01mreturn\u001b[39;00m _pos_tag(tokens, tagset, tagger, lang)\n",
      "File \u001b[1;32m~\\anaconda3\\lib\\site-packages\\nltk\\tag\\__init__.py:107\u001b[0m, in \u001b[0;36m_get_tagger\u001b[1;34m(lang)\u001b[0m\n\u001b[0;32m    105\u001b[0m     tagger\u001b[38;5;241m.\u001b[39mload(ap_russian_model_loc)\n\u001b[0;32m    106\u001b[0m \u001b[38;5;28;01melse\u001b[39;00m:\n\u001b[1;32m--> 107\u001b[0m     tagger \u001b[38;5;241m=\u001b[39m \u001b[43mPerceptronTagger\u001b[49m\u001b[43m(\u001b[49m\u001b[43m)\u001b[49m\n\u001b[0;32m    108\u001b[0m \u001b[38;5;28;01mreturn\u001b[39;00m tagger\n",
      "File \u001b[1;32m~\\anaconda3\\lib\\site-packages\\nltk\\tag\\perceptron.py:167\u001b[0m, in \u001b[0;36mPerceptronTagger.__init__\u001b[1;34m(self, load)\u001b[0m\n\u001b[0;32m    164\u001b[0m \u001b[38;5;28mself\u001b[39m\u001b[38;5;241m.\u001b[39mclasses \u001b[38;5;241m=\u001b[39m \u001b[38;5;28mset\u001b[39m()\n\u001b[0;32m    165\u001b[0m \u001b[38;5;28;01mif\u001b[39;00m load:\n\u001b[0;32m    166\u001b[0m     AP_MODEL_LOC \u001b[38;5;241m=\u001b[39m \u001b[38;5;124m\"\u001b[39m\u001b[38;5;124mfile:\u001b[39m\u001b[38;5;124m\"\u001b[39m \u001b[38;5;241m+\u001b[39m \u001b[38;5;28mstr\u001b[39m(\n\u001b[1;32m--> 167\u001b[0m         \u001b[43mfind\u001b[49m\u001b[43m(\u001b[49m\u001b[38;5;124;43m\"\u001b[39;49m\u001b[38;5;124;43mtaggers/averaged_perceptron_tagger/\u001b[39;49m\u001b[38;5;124;43m\"\u001b[39;49m\u001b[43m \u001b[49m\u001b[38;5;241;43m+\u001b[39;49m\u001b[43m \u001b[49m\u001b[43mPICKLE\u001b[49m\u001b[43m)\u001b[49m\n\u001b[0;32m    168\u001b[0m     )\n\u001b[0;32m    169\u001b[0m     \u001b[38;5;28mself\u001b[39m\u001b[38;5;241m.\u001b[39mload(AP_MODEL_LOC)\n",
      "File \u001b[1;32m~\\anaconda3\\lib\\site-packages\\nltk\\data.py:583\u001b[0m, in \u001b[0;36mfind\u001b[1;34m(resource_name, paths)\u001b[0m\n\u001b[0;32m    581\u001b[0m sep \u001b[38;5;241m=\u001b[39m \u001b[38;5;124m\"\u001b[39m\u001b[38;5;124m*\u001b[39m\u001b[38;5;124m\"\u001b[39m \u001b[38;5;241m*\u001b[39m \u001b[38;5;241m70\u001b[39m\n\u001b[0;32m    582\u001b[0m resource_not_found \u001b[38;5;241m=\u001b[39m \u001b[38;5;124mf\u001b[39m\u001b[38;5;124m\"\u001b[39m\u001b[38;5;130;01m\\n\u001b[39;00m\u001b[38;5;132;01m{\u001b[39;00msep\u001b[38;5;132;01m}\u001b[39;00m\u001b[38;5;130;01m\\n\u001b[39;00m\u001b[38;5;132;01m{\u001b[39;00mmsg\u001b[38;5;132;01m}\u001b[39;00m\u001b[38;5;130;01m\\n\u001b[39;00m\u001b[38;5;132;01m{\u001b[39;00msep\u001b[38;5;132;01m}\u001b[39;00m\u001b[38;5;130;01m\\n\u001b[39;00m\u001b[38;5;124m\"\u001b[39m\n\u001b[1;32m--> 583\u001b[0m \u001b[38;5;28;01mraise\u001b[39;00m \u001b[38;5;167;01mLookupError\u001b[39;00m(resource_not_found)\n",
      "\u001b[1;31mLookupError\u001b[0m: \n**********************************************************************\n  Resource \u001b[93maveraged_perceptron_tagger\u001b[0m not found.\n  Please use the NLTK Downloader to obtain the resource:\n\n  \u001b[31m>>> import nltk\n  >>> nltk.download('averaged_perceptron_tagger')\n  \u001b[0m\n  For more information see: https://www.nltk.org/data.html\n\n  Attempted to load \u001b[93mtaggers/averaged_perceptron_tagger/averaged_perceptron_tagger.pickle\u001b[0m\n\n  Searched in:\n    - 'C:\\\\Users\\\\Tran Huu An/nltk_data'\n    - 'C:\\\\Users\\\\Tran Huu An\\\\anaconda3\\\\nltk_data'\n    - 'C:\\\\Users\\\\Tran Huu An\\\\anaconda3\\\\share\\\\nltk_data'\n    - 'C:\\\\Users\\\\Tran Huu An\\\\anaconda3\\\\lib\\\\nltk_data'\n    - 'C:\\\\Users\\\\Tran Huu An\\\\AppData\\\\Roaming\\\\nltk_data'\n    - 'C:\\\\nltk_data'\n    - 'D:\\\\nltk_data'\n    - 'E:\\\\nltk_data'\n**********************************************************************\n"
     ]
    }
   ],
   "source": [
    "# parts of speech tagging\n",
    "tagged = nltk.pos_tag(tool_keywords1)"
   ]
  },
  {
   "cell_type": "markdown",
   "id": "d5e3bc89",
   "metadata": {},
   "source": [
    "## 1. Summary text."
   ]
  },
  {
   "cell_type": "code",
   "execution_count": 11,
   "id": "77b1a4eb",
   "metadata": {},
   "outputs": [],
   "source": [
    "# convert string in a columns from uppercase to lowercase.\n",
    "df['JobTitle'] = df['JobTitle'].str.lower()\n",
    "df['Company'] = df['Company'].str.lower()\n",
    "df['Location'] = df['Location'].str.lower()\n",
    "df['Summary'] = df['Summary'].str.lower()\n",
    "df['JobUrl'] = df['JobUrl'].str.lower()"
   ]
  },
  {
   "cell_type": "markdown",
   "id": "bd57f481",
   "metadata": {},
   "source": [
    "## 2. Summary."
   ]
  },
  {
   "cell_type": "code",
   "execution_count": 12,
   "id": "15a4428e",
   "metadata": {},
   "outputs": [],
   "source": [
    "# remove stop word\n",
    "df['Summary'] = df.Summary.apply(lambda x: word_tokenize(x))\n",
    "df['Summary'] = df.Summary.apply(lambda x: [w for w in x if w not in stop_words])\n",
    "df['Summary'] = df.Summary.apply(lambda x: ' '.join(x))\n",
    "# normalization text\n",
    "df['Summary'] = df.Summary.apply(lambda x: word_tokenize(x))\n",
    "df['Summary'] = df.Summary.apply(lambda x: [stemmer.stem(word) for word in x])\n",
    "df['Summary'] = df.Summary.apply(lambda x: ' '.join(x))\n",
    "\n",
    "# remove email, url, special '\\n' and special character\n",
    "df['Summary'] = df['Summary'].str.replace('\\n', ' ')\n",
    "df['Summary'] = df['Summary'].apply(lambda x : re.sub(r'(<[^>]+>)|(http[s]?://(?:[a-zA-Z]|[0-9]|[$-_@.&+]|[!*\\(\\),]|(?:%[0-9a-fA-F][0-9a-fA-F]))+)',' ',x))\n",
    "df['Summary'] = df['Summary'].apply(lambda x : re.sub('\\W',' ',x))"
   ]
  },
  {
   "cell_type": "code",
   "execution_count": 13,
   "id": "49c19073",
   "metadata": {},
   "outputs": [],
   "source": [
    "def stringReplace(string):\n",
    "    \"\"\"replace space string \"\"\"\n",
    "    index = string.find('  ')\n",
    "    while index >= 0:\n",
    "        string = string.replace('  ', ' ')\n",
    "        index = string.find('  ')\n",
    "    string = string.strip()\n",
    "    return string"
   ]
  },
  {
   "cell_type": "code",
   "execution_count": 14,
   "id": "f058477e",
   "metadata": {},
   "outputs": [],
   "source": [
    "df['Summary'] = df['Summary'].apply(lambda string: stringReplace(string))"
   ]
  },
  {
   "cell_type": "code",
   "execution_count": 15,
   "id": "9b20c70f",
   "metadata": {},
   "outputs": [
    {
     "data": {
      "text/plain": [
       "'overview would like join intern softwar develop center vietnam learn grow person well profession gain valuabl experi fast pac develop environ excit challeng opportun avail passion learn build applic use java net javascript devops servicenow ai cobol technolog well test bridg softwar engin primari respons includ develop mainten perform assur softwar product success candid part high perform develop team high frequency low latenc environ requir fresh graduat final year student comput scienc inform technolog softwar engin relat technic field third year student also consid good knowledg object ori program concept basic english commun skill least japanes n4 want bridg softwar engin opportun work onshor dxc japan knowledg relev work experi follow program languag technolog java java ee net c c c javascript sql system linux window server abil learn short time work pressur experi work intern softwar develop project advantag good analyt commun skill abl work independ workgroup loại hình công việc thực tập lương từ 5 000 000 một tháng'"
      ]
     },
     "execution_count": 15,
     "metadata": {},
     "output_type": "execute_result"
    }
   ],
   "source": [
    "df['Summary'][1]"
   ]
  },
  {
   "cell_type": "markdown",
   "id": "22e2c60f",
   "metadata": {},
   "source": [
    "## 3. years experience."
   ]
  },
  {
   "cell_type": "code",
   "execution_count": 16,
   "id": "14d045ec",
   "metadata": {},
   "outputs": [],
   "source": [
    "df['Summary'] = df['Summary'].str.replace('năm', 'year')\n",
    "\n",
    "df['YearExperience'] = df['Summary'].apply(lambda x : re.findall(r'([0-9]+) year',x))\n",
    "df['YearExperience'] = df['YearExperience'].apply(lambda y : [0] if len(y)==0 else y)"
   ]
  },
  {
   "cell_type": "code",
   "execution_count": 17,
   "id": "0477d249",
   "metadata": {},
   "outputs": [],
   "source": [
    "def convertInt(array):\n",
    "    result = []\n",
    "    for arr in array:\n",
    "        result.append(int(arr))\n",
    "    return min(result)"
   ]
  },
  {
   "cell_type": "code",
   "execution_count": 18,
   "id": "b34b7ca6",
   "metadata": {},
   "outputs": [],
   "source": [
    "df['YearExperience'] = df['YearExperience'].apply(lambda arr: convertInt(arr)) "
   ]
  },
  {
   "cell_type": "code",
   "execution_count": 19,
   "id": "fc382680",
   "metadata": {},
   "outputs": [
    {
     "data": {
      "text/plain": [
       "count    4379.000000\n",
       "mean        3.907513\n",
       "std        45.987732\n",
       "min         0.000000\n",
       "25%         1.000000\n",
       "50%         2.000000\n",
       "75%         3.000000\n",
       "max      1500.000000\n",
       "Name: YearExperience, dtype: float64"
      ]
     },
     "execution_count": 19,
     "metadata": {},
     "output_type": "execute_result"
    }
   ],
   "source": [
    "df['YearExperience'].describe()"
   ]
  },
  {
   "cell_type": "code",
   "execution_count": 20,
   "id": "7860f04d",
   "metadata": {},
   "outputs": [
    {
     "name": "stdout",
     "output_type": "stream",
     "text": [
      "0       967\n",
      "2       926\n",
      "1       918\n",
      "3       792\n",
      "5       404\n",
      "4       207\n",
      "7        39\n",
      "8        38\n",
      "6        25\n",
      "10       22\n",
      "15        9\n",
      "9         4\n",
      "160       4\n",
      "12        4\n",
      "1500      4\n",
      "200       3\n",
      "30        2\n",
      "150       2\n",
      "25        2\n",
      "100       1\n",
      "40        1\n",
      "11        1\n",
      "80        1\n",
      "20        1\n",
      "28        1\n",
      "22        1\n",
      "Name: YearExperience, dtype: int64\n"
     ]
    }
   ],
   "source": [
    "print(df['YearExperience'].value_counts())"
   ]
  },
  {
   "cell_type": "code",
   "execution_count": 21,
   "id": "a13a3f53",
   "metadata": {},
   "outputs": [],
   "source": [
    "df = df.loc[df['YearExperience'] <=10, :]"
   ]
  },
  {
   "cell_type": "code",
   "execution_count": 22,
   "id": "88248412",
   "metadata": {},
   "outputs": [
    {
     "data": {
      "text/html": [
       "<div>\n",
       "<style scoped>\n",
       "    .dataframe tbody tr th:only-of-type {\n",
       "        vertical-align: middle;\n",
       "    }\n",
       "\n",
       "    .dataframe tbody tr th {\n",
       "        vertical-align: top;\n",
       "    }\n",
       "\n",
       "    .dataframe thead th {\n",
       "        text-align: right;\n",
       "    }\n",
       "</style>\n",
       "<table border=\"1\" class=\"dataframe\">\n",
       "  <thead>\n",
       "    <tr style=\"text-align: right;\">\n",
       "      <th></th>\n",
       "      <th>Name Columns</th>\n",
       "      <th>Total row</th>\n",
       "      <th>type col</th>\n",
       "      <th>Total unique</th>\n",
       "      <th>Total miss val</th>\n",
       "      <th>percentage missing value</th>\n",
       "    </tr>\n",
       "  </thead>\n",
       "  <tbody>\n",
       "    <tr>\n",
       "      <th>0</th>\n",
       "      <td>index</td>\n",
       "      <td>4342</td>\n",
       "      <td>int64</td>\n",
       "      <td>4342</td>\n",
       "      <td>0</td>\n",
       "      <td>0.0</td>\n",
       "    </tr>\n",
       "    <tr>\n",
       "      <th>1</th>\n",
       "      <td>JobTitle</td>\n",
       "      <td>4342</td>\n",
       "      <td>object</td>\n",
       "      <td>2091</td>\n",
       "      <td>0</td>\n",
       "      <td>0.0</td>\n",
       "    </tr>\n",
       "    <tr>\n",
       "      <th>2</th>\n",
       "      <td>Company</td>\n",
       "      <td>4342</td>\n",
       "      <td>object</td>\n",
       "      <td>1092</td>\n",
       "      <td>0</td>\n",
       "      <td>0.0</td>\n",
       "    </tr>\n",
       "    <tr>\n",
       "      <th>3</th>\n",
       "      <td>Location</td>\n",
       "      <td>4342</td>\n",
       "      <td>object</td>\n",
       "      <td>38</td>\n",
       "      <td>0</td>\n",
       "      <td>0.0</td>\n",
       "    </tr>\n",
       "    <tr>\n",
       "      <th>4</th>\n",
       "      <td>PostDate</td>\n",
       "      <td>4342</td>\n",
       "      <td>object</td>\n",
       "      <td>43</td>\n",
       "      <td>0</td>\n",
       "      <td>0.0</td>\n",
       "    </tr>\n",
       "    <tr>\n",
       "      <th>5</th>\n",
       "      <td>ExtractDate</td>\n",
       "      <td>4342</td>\n",
       "      <td>object</td>\n",
       "      <td>2</td>\n",
       "      <td>0</td>\n",
       "      <td>0.0</td>\n",
       "    </tr>\n",
       "    <tr>\n",
       "      <th>6</th>\n",
       "      <td>Summary</td>\n",
       "      <td>4342</td>\n",
       "      <td>object</td>\n",
       "      <td>2642</td>\n",
       "      <td>0</td>\n",
       "      <td>0.0</td>\n",
       "    </tr>\n",
       "    <tr>\n",
       "      <th>7</th>\n",
       "      <td>JobUrl</td>\n",
       "      <td>4342</td>\n",
       "      <td>object</td>\n",
       "      <td>13</td>\n",
       "      <td>0</td>\n",
       "      <td>0.0</td>\n",
       "    </tr>\n",
       "    <tr>\n",
       "      <th>8</th>\n",
       "      <td>YearExperience</td>\n",
       "      <td>4342</td>\n",
       "      <td>int64</td>\n",
       "      <td>11</td>\n",
       "      <td>0</td>\n",
       "      <td>0.0</td>\n",
       "    </tr>\n",
       "  </tbody>\n",
       "</table>\n",
       "</div>"
      ],
      "text/plain": [
       "     Name Columns  Total row type col  Total unique  Total miss val  \\\n",
       "0           index       4342    int64          4342               0   \n",
       "1        JobTitle       4342   object          2091               0   \n",
       "2         Company       4342   object          1092               0   \n",
       "3        Location       4342   object            38               0   \n",
       "4        PostDate       4342   object            43               0   \n",
       "5     ExtractDate       4342   object             2               0   \n",
       "6         Summary       4342   object          2642               0   \n",
       "7          JobUrl       4342   object            13               0   \n",
       "8  YearExperience       4342    int64            11               0   \n",
       "\n",
       "   percentage missing value  \n",
       "0                       0.0  \n",
       "1                       0.0  \n",
       "2                       0.0  \n",
       "3                       0.0  \n",
       "4                       0.0  \n",
       "5                       0.0  \n",
       "6                       0.0  \n",
       "7                       0.0  \n",
       "8                       0.0  "
      ]
     },
     "execution_count": 22,
     "metadata": {},
     "output_type": "execute_result"
    }
   ],
   "source": [
    "overView(df)"
   ]
  },
  {
   "cell_type": "markdown",
   "id": "669d466f",
   "metadata": {},
   "source": [
    "## 4. Skill."
   ]
  },
  {
   "cell_type": "code",
   "execution_count": 23,
   "id": "2a25c3fb",
   "metadata": {},
   "outputs": [
    {
     "data": {
      "text/plain": [
       "'overview would like join intern softwar develop center vietnam learn grow person well profession gain valuabl experi fast pac develop environ excit challeng opportun avail passion learn build applic use java net javascript devops servicenow ai cobol technolog well test bridg softwar engin primari respons includ develop mainten perform assur softwar product success candid part high perform develop team high frequency low latenc environ requir fresh graduat final year student comput scienc inform technolog softwar engin relat technic field third year student also consid good knowledg object ori program concept basic english commun skill least japanes n4 want bridg softwar engin opportun work onshor dxc japan knowledg relev work experi follow program languag technolog java java ee net c c c javascript sql system linux window server abil learn short time work pressur experi work intern softwar develop project advantag good analyt commun skill abl work independ workgroup loại hình công việc thực tập lương từ 5 000 000 một tháng'"
      ]
     },
     "execution_count": 23,
     "metadata": {},
     "output_type": "execute_result"
    }
   ],
   "source": [
    "df['Summary'][1]"
   ]
  },
  {
   "cell_type": "code",
   "execution_count": 24,
   "id": "24d52579",
   "metadata": {},
   "outputs": [
    {
     "name": "stdout",
     "output_type": "stream",
     "text": [
      "{'python': 495, 'java': 1000, 'c': 1338, ' r ': 0, 'php': 601, 'javascript': 1776, 'ruby': 9, 'perl': 39, 'sql': 1085, 'go': 345, 'html': 1024, 'css': 1122, 'react': 998, 'mongodb': 365, 'json': 264, 'angular': 639, 'kotlin': 185, 'django': 71, 'typescript': 499, 'linux': 385, 'mysql': 742, 'nodejs': 69, 'git': 1016, 'asp': 391, 'cloud': 692}\n"
     ]
    }
   ],
   "source": [
    "Programming_Languages = ['python', 'java','c', ' r ', 'php', 'javascript', 'ruby', 'perl', 'sql','go', 'html', 'css', 'react',\n",
    "                        'mongodb', 'json', 'angular', 'kotlin', 'django', 'typescript', 'linux', \n",
    "                        'mysql', 'nodejs', 'git', 'asp', 'cloud']\n",
    "\n",
    "Languages = dict((x,0) for x in Programming_Languages)\n",
    "for i in Languages:\n",
    "    st = ' '+ i + ' '\n",
    "    x = df['Summary'].str.contains(st).sum()\n",
    "    if i in Languages:\n",
    "        Languages[i] = x\n",
    "        \n",
    "print(Languages)"
   ]
  },
  {
   "cell_type": "code",
   "execution_count": 25,
   "id": "7fcb984e",
   "metadata": {},
   "outputs": [],
   "source": [
    "def skill(string):\n",
    "    Programming_Languages = ['python', 'java ','c', 'r', 'php', 'javascript', 'ruby', 'perl', 'sql',' go ', 'html', 'css', 'react',\n",
    "                        'mongodb', 'json', 'angular', 'kotlin', 'django', 'typescript', 'linux', \n",
    "                        'mysql', 'nodej', 'git', 'asp', 'cloud']\n",
    "    Languages = dict((x,0) for x in Programming_Languages)\n",
    "    result = ''\n",
    "    for i in Languages:\n",
    "        st = ' '+ i + ' '\n",
    "        if (string.__contains__(st)):\n",
    "            \n",
    "            result += i\n",
    "            result += ', '\n",
    "    return result"
   ]
  },
  {
   "cell_type": "code",
   "execution_count": 26,
   "id": "1952710e",
   "metadata": {},
   "outputs": [],
   "source": [
    "df['skill'] = df['Summary'].apply(lambda string: skill(string))"
   ]
  },
  {
   "cell_type": "code",
   "execution_count": 27,
   "id": "178afc16",
   "metadata": {},
   "outputs": [
    {
     "data": {
      "text/plain": [
       "0         c, javascript, sql, typescript, nodej, asp, \n",
       "1                          c, javascript, sql, linux, \n",
       "2                                          c, r, sql, \n",
       "3                                   sql, html, react, \n",
       "4                                        c, sql, asp, \n",
       "                             ...                      \n",
       "4374    php, javascript, sql, typescript, mysql, git, \n",
       "4375              javascript, react, typescript, git, \n",
       "4376               php, javascript, html, css, mysql, \n",
       "4377    php, javascript, sql, typescript, mysql, git, \n",
       "4378                           react, angular, cloud, \n",
       "Name: skill, Length: 4342, dtype: object"
      ]
     },
     "execution_count": 27,
     "metadata": {},
     "output_type": "execute_result"
    }
   ],
   "source": [
    "df['skill']"
   ]
  },
  {
   "cell_type": "markdown",
   "id": "a109372c",
   "metadata": {},
   "source": [
    "## 5. Type work."
   ]
  },
  {
   "cell_type": "code",
   "execution_count": 28,
   "id": "6c9cbca2",
   "metadata": {},
   "outputs": [
    {
     "data": {
      "text/plain": [
       "'intermedi develop java net takeit ứng tuyển java reactj net đăng nhập để xem mức lương 204c nguyen van huong street thao dien ward district 2 thu duc citi ho chi minh xem bản đồ tại văn phòng 4 giờ trước mô tả công việc re look primari respons focus new develop mainten work relat exist futur applic well support lower level colleagu involv everyth detail design code unit test functions appl instruct respons analyz system requir studi system architectur develop technic specif detail design write clean testabl maintain code test debug variou java net applic review refactor code upgrad maintain exist program support fresher junior develop work yêu cầu công việc 2 year experi java net applic develop good logic think self learn skill understand abl appli oop solid dri concept experienc relat databas sql experienc java net experienc frontend framework vuej reactj angular experienc investig problem solv abl commun english verbal non verb toeic 600 japanes certif plu tại sao bạn sẽ yêu thích làm việc tại đâi competit market rate salari 13 monthli salari great leav option includ 13 day annual leav year 1 increas everi year premium healthcar employe free comprehens annual check up snack happi hour team build summer vacat chariti activ continu learn share cultur flexibl work time work home opportun support reward recognit intern work environ highli skill colleagu learn local global develop career well enjoy life'"
      ]
     },
     "execution_count": 28,
     "metadata": {},
     "output_type": "execute_result"
    }
   ],
   "source": [
    "df['Summary'][55]"
   ]
  },
  {
   "cell_type": "code",
   "execution_count": 29,
   "id": "c4e6fb32",
   "metadata": {},
   "outputs": [
    {
     "name": "stdout",
     "output_type": "stream",
     "text": [
      "{'intern': 1251, 'junior': 435, 'senior': 1305, 'middle': 14, 'fresher': 119}\n"
     ]
    }
   ],
   "source": [
    "Programming_Languages = ['intern', 'junior', 'senior', 'middle', 'fresher']\n",
    "\n",
    "Languages = dict((x,0) for x in Programming_Languages)\n",
    "for i in Languages:\n",
    "    st = ' '+ i + ' '\n",
    "    x = df['Summary'].str.contains(st).sum()\n",
    "    if i in Languages:\n",
    "        Languages[i] = x\n",
    "        \n",
    "print(Languages)"
   ]
  },
  {
   "cell_type": "code",
   "execution_count": 30,
   "id": "31676490",
   "metadata": {},
   "outputs": [],
   "source": [
    "def leveldev(string):\n",
    "    level = ['intern', 'junior', 'senior', 'middle', 'fresher', 'full stack']\n",
    "    levels = dict((x,0) for x in level)\n",
    "    result = ''\n",
    "    for i in levels:\n",
    "        st = ' '+ i + ' '\n",
    "        if (string.__contains__(st)):\n",
    "            \n",
    "            result += i\n",
    "            result += ', '\n",
    "    return result"
   ]
  },
  {
   "cell_type": "code",
   "execution_count": 31,
   "id": "d444d82b",
   "metadata": {},
   "outputs": [],
   "source": [
    "df['level'] = df['Summary'].apply(lambda string: leveldev(string))"
   ]
  },
  {
   "cell_type": "code",
   "execution_count": 32,
   "id": "740997f8",
   "metadata": {},
   "outputs": [
    {
     "data": {
      "text/plain": [
       "array(['intern, ', 'junior, senior, ', '', 'intern, fresher, ',\n",
       "       'junior, senior, full stack, ', 'intern, senior, ', 'senior, ',\n",
       "       'fresher, ', 'intern, junior, ', 'senior, full stack, ',\n",
       "       'full stack, ', 'intern, junior, fresher, ',\n",
       "       'intern, senior, full stack, ', 'intern, junior, full stack, ',\n",
       "       'intern, full stack, ', 'junior, fresher, ',\n",
       "       'intern, junior, senior, ', 'junior, ', 'senior, fresher, ',\n",
       "       'junior, full stack, ', 'intern, senior, fresher, ',\n",
       "       'junior, senior, fresher, ', 'fresher, full stack, ',\n",
       "       'intern, junior, senior, fresher, ', 'intern, senior, middle, ',\n",
       "       'junior, senior, middle, ', 'senior, middle, ', 'intern, middle, ',\n",
       "       'intern, junior, senior, full stack, ',\n",
       "       'intern, fresher, full stack, ',\n",
       "       'intern, junior, senior, middle, '], dtype=object)"
      ]
     },
     "execution_count": 32,
     "metadata": {},
     "output_type": "execute_result"
    }
   ],
   "source": [
    "df['level'].unique()"
   ]
  },
  {
   "cell_type": "code",
   "execution_count": 33,
   "id": "50110991",
   "metadata": {},
   "outputs": [
    {
     "data": {
      "text/plain": [
       "0     465\n",
       "1     406\n",
       "2     389\n",
       "3     237\n",
       "5     114\n",
       "4      47\n",
       "8      10\n",
       "10      7\n",
       "7       6\n",
       "Name: YearExperience, dtype: int64"
      ]
     },
     "execution_count": 33,
     "metadata": {},
     "output_type": "execute_result"
    }
   ],
   "source": [
    "df.loc[df['level'] == '', ['Summary', 'level', 'YearExperience']]['YearExperience'].value_counts()"
   ]
  },
  {
   "cell_type": "markdown",
   "id": "ec778d47",
   "metadata": {},
   "source": [
    "+ Character is '' we can replace by corresponding 'YearExperience' column by value."
   ]
  },
  {
   "cell_type": "code",
   "execution_count": 34,
   "id": "d7d6622b",
   "metadata": {},
   "outputs": [
    {
     "name": "stderr",
     "output_type": "stream",
     "text": [
      "C:\\Users\\Tran Huu An\\AppData\\Local\\Temp\\ipykernel_12424\\575760265.py:6: SettingWithCopyWarning: \n",
      "A value is trying to be set on a copy of a slice from a DataFrame\n",
      "\n",
      "See the caveats in the documentation: https://pandas.pydata.org/pandas-docs/stable/user_guide/indexing.html#returning-a-view-versus-a-copy\n",
      "  df['level'][indx] = 'junior'\n",
      "C:\\Users\\Tran Huu An\\AppData\\Local\\Temp\\ipykernel_12424\\575760265.py:4: SettingWithCopyWarning: \n",
      "A value is trying to be set on a copy of a slice from a DataFrame\n",
      "\n",
      "See the caveats in the documentation: https://pandas.pydata.org/pandas-docs/stable/user_guide/indexing.html#returning-a-view-versus-a-copy\n",
      "  df['level'][indx] = 'fresher'\n",
      "C:\\Users\\Tran Huu An\\AppData\\Local\\Temp\\ipykernel_12424\\575760265.py:8: SettingWithCopyWarning: \n",
      "A value is trying to be set on a copy of a slice from a DataFrame\n",
      "\n",
      "See the caveats in the documentation: https://pandas.pydata.org/pandas-docs/stable/user_guide/indexing.html#returning-a-view-versus-a-copy\n",
      "  df['level'][indx] = 'senior'\n"
     ]
    }
   ],
   "source": [
    "indxs = df.loc[df['level'] == '', :].index\n",
    "for indx in indxs:\n",
    "    if df['YearExperience'][indx] == 0:\n",
    "        df['level'][indx] = 'fresher'\n",
    "    elif df['YearExperience'][indx] <= 3:\n",
    "        df['level'][indx] = 'junior'\n",
    "    else:\n",
    "        df['level'][indx] = 'senior'"
   ]
  },
  {
   "cell_type": "code",
   "execution_count": 35,
   "id": "43d04db8",
   "metadata": {},
   "outputs": [
    {
     "data": {
      "text/html": [
       "<div>\n",
       "<style scoped>\n",
       "    .dataframe tbody tr th:only-of-type {\n",
       "        vertical-align: middle;\n",
       "    }\n",
       "\n",
       "    .dataframe tbody tr th {\n",
       "        vertical-align: top;\n",
       "    }\n",
       "\n",
       "    .dataframe thead th {\n",
       "        text-align: right;\n",
       "    }\n",
       "</style>\n",
       "<table border=\"1\" class=\"dataframe\">\n",
       "  <thead>\n",
       "    <tr style=\"text-align: right;\">\n",
       "      <th></th>\n",
       "      <th>index</th>\n",
       "      <th>JobTitle</th>\n",
       "      <th>Company</th>\n",
       "      <th>Location</th>\n",
       "      <th>PostDate</th>\n",
       "      <th>ExtractDate</th>\n",
       "      <th>Summary</th>\n",
       "      <th>JobUrl</th>\n",
       "      <th>YearExperience</th>\n",
       "      <th>skill</th>\n",
       "      <th>level</th>\n",
       "    </tr>\n",
       "  </thead>\n",
       "  <tbody>\n",
       "  </tbody>\n",
       "</table>\n",
       "</div>"
      ],
      "text/plain": [
       "Empty DataFrame\n",
       "Columns: [index, JobTitle, Company, Location, PostDate, ExtractDate, Summary, JobUrl, YearExperience, skill, level]\n",
       "Index: []"
      ]
     },
     "execution_count": 35,
     "metadata": {},
     "output_type": "execute_result"
    }
   ],
   "source": [
    "df.loc[df['level'] == '', :]"
   ]
  },
  {
   "cell_type": "code",
   "execution_count": 53,
   "id": "f5d270e4",
   "metadata": {},
   "outputs": [
    {
     "name": "stdout",
     "output_type": "stream",
     "text": [
      "junior                                3605\n",
      "senior                                2452\n",
      "intern                                1871\n",
      "full stack                            1784\n",
      "fresher                               1642\n",
      "intern, senior                        1380\n",
      "intern, full stack                    1312\n",
      "junior, senior, full stack            1047\n",
      "intern, senior, full stack             990\n",
      "intern, junior, senior                 918\n",
      "senior, full stack                     794\n",
      "junior, senior                         734\n",
      "intern, junior                         332\n",
      "intern, junior, full stack             159\n",
      "junior, full stack                     156\n",
      "intern, fresher                        138\n",
      "intern, junior, senior, fresher        128\n",
      "senior, fresher                         96\n",
      "fresher, full stack                     84\n",
      "junior, fresher                         80\n",
      "intern, senior, fresher                 54\n",
      "intern, junior, fresher                 39\n",
      "intern, senior, middle                  33\n",
      "intern, junior, senior, middle          32\n",
      "junior, senior, fresher                 27\n",
      "senior, middle                          22\n",
      "intern, middle                          20\n",
      "junior, senior, middle                  18\n",
      "intern, junior, senior, full stack      16\n",
      "intern, fresher, full stack             15\n",
      "Name: level, dtype: int64\n"
     ]
    }
   ],
   "source": [
    "print(df['level'].value_counts())"
   ]
  },
  {
   "cell_type": "code",
   "execution_count": 37,
   "id": "6dc87ee0",
   "metadata": {},
   "outputs": [
    {
     "data": {
      "text/html": [
       "<div>\n",
       "<style scoped>\n",
       "    .dataframe tbody tr th:only-of-type {\n",
       "        vertical-align: middle;\n",
       "    }\n",
       "\n",
       "    .dataframe tbody tr th {\n",
       "        vertical-align: top;\n",
       "    }\n",
       "\n",
       "    .dataframe thead th {\n",
       "        text-align: right;\n",
       "    }\n",
       "</style>\n",
       "<table border=\"1\" class=\"dataframe\">\n",
       "  <thead>\n",
       "    <tr style=\"text-align: right;\">\n",
       "      <th></th>\n",
       "      <th>Name Columns</th>\n",
       "      <th>Total row</th>\n",
       "      <th>type col</th>\n",
       "      <th>Total unique</th>\n",
       "      <th>Total miss val</th>\n",
       "      <th>percentage missing value</th>\n",
       "    </tr>\n",
       "  </thead>\n",
       "  <tbody>\n",
       "    <tr>\n",
       "      <th>0</th>\n",
       "      <td>index</td>\n",
       "      <td>4342</td>\n",
       "      <td>int64</td>\n",
       "      <td>4342</td>\n",
       "      <td>0</td>\n",
       "      <td>0.0</td>\n",
       "    </tr>\n",
       "    <tr>\n",
       "      <th>1</th>\n",
       "      <td>JobTitle</td>\n",
       "      <td>4342</td>\n",
       "      <td>object</td>\n",
       "      <td>2091</td>\n",
       "      <td>0</td>\n",
       "      <td>0.0</td>\n",
       "    </tr>\n",
       "    <tr>\n",
       "      <th>2</th>\n",
       "      <td>Company</td>\n",
       "      <td>4342</td>\n",
       "      <td>object</td>\n",
       "      <td>1092</td>\n",
       "      <td>0</td>\n",
       "      <td>0.0</td>\n",
       "    </tr>\n",
       "    <tr>\n",
       "      <th>3</th>\n",
       "      <td>Location</td>\n",
       "      <td>4342</td>\n",
       "      <td>object</td>\n",
       "      <td>38</td>\n",
       "      <td>0</td>\n",
       "      <td>0.0</td>\n",
       "    </tr>\n",
       "    <tr>\n",
       "      <th>4</th>\n",
       "      <td>PostDate</td>\n",
       "      <td>4342</td>\n",
       "      <td>object</td>\n",
       "      <td>43</td>\n",
       "      <td>0</td>\n",
       "      <td>0.0</td>\n",
       "    </tr>\n",
       "    <tr>\n",
       "      <th>5</th>\n",
       "      <td>ExtractDate</td>\n",
       "      <td>4342</td>\n",
       "      <td>object</td>\n",
       "      <td>2</td>\n",
       "      <td>0</td>\n",
       "      <td>0.0</td>\n",
       "    </tr>\n",
       "    <tr>\n",
       "      <th>6</th>\n",
       "      <td>Summary</td>\n",
       "      <td>4342</td>\n",
       "      <td>object</td>\n",
       "      <td>2642</td>\n",
       "      <td>0</td>\n",
       "      <td>0.0</td>\n",
       "    </tr>\n",
       "    <tr>\n",
       "      <th>7</th>\n",
       "      <td>JobUrl</td>\n",
       "      <td>4342</td>\n",
       "      <td>object</td>\n",
       "      <td>13</td>\n",
       "      <td>0</td>\n",
       "      <td>0.0</td>\n",
       "    </tr>\n",
       "    <tr>\n",
       "      <th>8</th>\n",
       "      <td>YearExperience</td>\n",
       "      <td>4342</td>\n",
       "      <td>int64</td>\n",
       "      <td>11</td>\n",
       "      <td>0</td>\n",
       "      <td>0.0</td>\n",
       "    </tr>\n",
       "    <tr>\n",
       "      <th>9</th>\n",
       "      <td>skill</td>\n",
       "      <td>4342</td>\n",
       "      <td>object</td>\n",
       "      <td>840</td>\n",
       "      <td>0</td>\n",
       "      <td>0.0</td>\n",
       "    </tr>\n",
       "    <tr>\n",
       "      <th>10</th>\n",
       "      <td>level</td>\n",
       "      <td>4342</td>\n",
       "      <td>object</td>\n",
       "      <td>33</td>\n",
       "      <td>0</td>\n",
       "      <td>0.0</td>\n",
       "    </tr>\n",
       "  </tbody>\n",
       "</table>\n",
       "</div>"
      ],
      "text/plain": [
       "      Name Columns  Total row type col  Total unique  Total miss val  \\\n",
       "0            index       4342    int64          4342               0   \n",
       "1         JobTitle       4342   object          2091               0   \n",
       "2          Company       4342   object          1092               0   \n",
       "3         Location       4342   object            38               0   \n",
       "4         PostDate       4342   object            43               0   \n",
       "5      ExtractDate       4342   object             2               0   \n",
       "6          Summary       4342   object          2642               0   \n",
       "7           JobUrl       4342   object            13               0   \n",
       "8   YearExperience       4342    int64            11               0   \n",
       "9            skill       4342   object           840               0   \n",
       "10           level       4342   object            33               0   \n",
       "\n",
       "    percentage missing value  \n",
       "0                        0.0  \n",
       "1                        0.0  \n",
       "2                        0.0  \n",
       "3                        0.0  \n",
       "4                        0.0  \n",
       "5                        0.0  \n",
       "6                        0.0  \n",
       "7                        0.0  \n",
       "8                        0.0  \n",
       "9                        0.0  \n",
       "10                       0.0  "
      ]
     },
     "execution_count": 37,
     "metadata": {},
     "output_type": "execute_result"
    }
   ],
   "source": [
    "overView(df)"
   ]
  },
  {
   "cell_type": "markdown",
   "id": "71651b01",
   "metadata": {},
   "source": [
    "## 6. JobTitle."
   ]
  },
  {
   "cell_type": "code",
   "execution_count": 38,
   "id": "f6891708",
   "metadata": {},
   "outputs": [
    {
     "data": {
      "text/plain": [
       "array(['.net developer', 'intern / fresher developer',\n",
       "       '.net developer (middle/senior level)', ...,\n",
       "       'senior fullstack engineer (java, react)',\n",
       "       '[hcm] lập trình viên fullstack senior/junior (php, mysql, react) - lương từ 15 - 45 triệu - đh1026694',\n",
       "       'senior backend engineer (java/golang)'], dtype=object)"
      ]
     },
     "execution_count": 38,
     "metadata": {},
     "output_type": "execute_result"
    }
   ],
   "source": [
    "df['JobTitle'].unique()"
   ]
  },
  {
   "cell_type": "code",
   "execution_count": 39,
   "id": "f3369e34",
   "metadata": {},
   "outputs": [],
   "source": [
    "df['JobTitle'] = df['JobTitle'].apply(lambda string: string.replace(string[string.index('('): len(string)], '') if string.find('(') >=0 else string , '')\n",
    "df['JobTitle'] = df['JobTitle'].apply(lambda string: string.replace(string[string.index('['): string.index(']')], '') if string.find('[') >=0 else string, '')"
   ]
  },
  {
   "cell_type": "code",
   "execution_count": 40,
   "id": "98bef279",
   "metadata": {},
   "outputs": [],
   "source": [
    "df['JobTitle'] = df['JobTitle'].apply(lambda x : re.sub('\\W',' ',x))\n",
    "df['JobTitle'] = df['JobTitle'].apply(lambda x : re.sub('intern|fresher|middle|junior|mid|jun|senior',' ',x))\n",
    "df['JobTitle'] = df['JobTitle'].apply(lambda string: stringReplace(string))"
   ]
  },
  {
   "cell_type": "code",
   "execution_count": 41,
   "id": "68106b2d",
   "metadata": {},
   "outputs": [
    {
     "data": {
      "text/plain": [
       "array(['net developer', 'developer', 'web developer', ...,\n",
       "       'lập trình viên fullstack', 'aws fullstack engineer',\n",
       "       'lập trình viên fullstack th1026694'], dtype=object)"
      ]
     },
     "execution_count": 41,
     "metadata": {},
     "output_type": "execute_result"
    }
   ],
   "source": [
    "df['JobTitle'].unique()"
   ]
  },
  {
   "cell_type": "markdown",
   "id": "8ed1559c",
   "metadata": {},
   "source": [
    "## 7. Location."
   ]
  },
  {
   "cell_type": "code",
   "execution_count": 42,
   "id": "9e767eeb",
   "metadata": {},
   "outputs": [
    {
     "data": {
      "text/plain": [
       "array(['ðà nẵng', 'thành phố hồ chí minh', 'việt nam', 'hà nội',\n",
       "       'thành phố hồ chí minh\\n+1 location', 'hà nội\\n+1 location',\n",
       "       'thủ dầu một', 'remote', 'bình dương', 'bắc ninh', 'đồng nai',\n",
       "       'nha trang', 'quận 7', 'hòa bình', 'gò vấp', 'đắk lắk', 'long an',\n",
       "       'thừa thiên - huế', 'long thành', 'nghệ an',\n",
       "       'thành phố hồ chí minh\\n+2 locations', 'cần thơ', 'an giang',\n",
       "       'thủ đức', 'việt nam\\n+1 location', 'huế', 'hạ long',\n",
       "       'bình dương\\n+1 location', 'hưng yên', 'bình định', 'đà lạt',\n",
       "       'quảng ngãi', 'ðà nẵng\\n+1 location', 'hải phòng', 'thuận an',\n",
       "       'ðà nẵng\\n+2 locations', 'thanh hóa', 'khánh hòa'], dtype=object)"
      ]
     },
     "execution_count": 42,
     "metadata": {},
     "output_type": "execute_result"
    }
   ],
   "source": [
    "df.Location.unique()"
   ]
  },
  {
   "cell_type": "code",
   "execution_count": 43,
   "id": "f5360ee2",
   "metadata": {},
   "outputs": [],
   "source": [
    "df['Location'] = df['Location'].apply(lambda string: string.replace(string[string.index('\\n'): len(string)], '') if string.find('\\n') >=0 else string, '')\n",
    "df['Location'] = df['Location'].str.replace('ð', 'đ')"
   ]
  },
  {
   "cell_type": "code",
   "execution_count": 44,
   "id": "b502307f",
   "metadata": {},
   "outputs": [
    {
     "data": {
      "text/plain": [
       "array(['đà nẵng', 'thành phố hồ chí minh', 'việt nam', 'hà nội',\n",
       "       'thủ dầu một', 'remote', 'bình dương', 'bắc ninh', 'đồng nai',\n",
       "       'nha trang', 'quận 7', 'hòa bình', 'gò vấp', 'đắk lắk', 'long an',\n",
       "       'thừa thiên - huế', 'long thành', 'nghệ an', 'cần thơ', 'an giang',\n",
       "       'thủ đức', 'huế', 'hạ long', 'hưng yên', 'bình định', 'đà lạt',\n",
       "       'quảng ngãi', 'hải phòng', 'thuận an', 'thanh hóa', 'khánh hòa'],\n",
       "      dtype=object)"
      ]
     },
     "execution_count": 44,
     "metadata": {},
     "output_type": "execute_result"
    }
   ],
   "source": [
    "df.Location.unique()"
   ]
  },
  {
   "cell_type": "markdown",
   "id": "d339a57a",
   "metadata": {},
   "source": [
    "## 8. Split data."
   ]
  },
  {
   "cell_type": "code",
   "execution_count": 45,
   "id": "1023d005",
   "metadata": {},
   "outputs": [],
   "source": [
    "df['skill'] = df['skill'].apply(lambda string: re.sub(', $', '', string))\n",
    "df['level'] = df['level'].apply(lambda string: re.sub(', $', '', string))"
   ]
  },
  {
   "cell_type": "code",
   "execution_count": 46,
   "id": "864cc037",
   "metadata": {},
   "outputs": [],
   "source": [
    "\n",
    "skill = pd.DataFrame(df.set_index('index').skill.str.split(', ', expand=True).stack().reset_index(level=1, drop=True)).reset_index()\n",
    "\n",
    "# đổi tên cột 0 trong dataFrame skill thành 'skill_cut'\n",
    "skill.rename(columns = {0:'skill_cut'}, inplace = True)\n",
    "# gộp dataFrame df và skill vói nhay theo \"Unnameed: 0\"\n",
    "df = df.merge(skill, left_on = 'index', right_on = 'index')"
   ]
  },
  {
   "cell_type": "code",
   "execution_count": 47,
   "id": "1ccf0b8c",
   "metadata": {},
   "outputs": [
    {
     "data": {
      "text/plain": [
       "(15072, 12)"
      ]
     },
     "execution_count": 47,
     "metadata": {},
     "output_type": "execute_result"
    }
   ],
   "source": [
    "df.shape"
   ]
  },
  {
   "cell_type": "code",
   "execution_count": 48,
   "id": "6e9b7f68",
   "metadata": {},
   "outputs": [
    {
     "data": {
      "text/html": [
       "<div>\n",
       "<style scoped>\n",
       "    .dataframe tbody tr th:only-of-type {\n",
       "        vertical-align: middle;\n",
       "    }\n",
       "\n",
       "    .dataframe tbody tr th {\n",
       "        vertical-align: top;\n",
       "    }\n",
       "\n",
       "    .dataframe thead th {\n",
       "        text-align: right;\n",
       "    }\n",
       "</style>\n",
       "<table border=\"1\" class=\"dataframe\">\n",
       "  <thead>\n",
       "    <tr style=\"text-align: right;\">\n",
       "      <th></th>\n",
       "      <th>index</th>\n",
       "      <th>JobTitle</th>\n",
       "      <th>Company</th>\n",
       "      <th>Location</th>\n",
       "      <th>PostDate</th>\n",
       "      <th>ExtractDate</th>\n",
       "      <th>Summary</th>\n",
       "      <th>JobUrl</th>\n",
       "      <th>YearExperience</th>\n",
       "      <th>skill</th>\n",
       "      <th>level</th>\n",
       "      <th>skill_cut</th>\n",
       "    </tr>\n",
       "  </thead>\n",
       "  <tbody>\n",
       "    <tr>\n",
       "      <th>0</th>\n",
       "      <td>0</td>\n",
       "      <td>net developer</td>\n",
       "      <td>smartdev</td>\n",
       "      <td>đà nẵng</td>\n",
       "      <td>Posted\\nPosted 14 days ago</td>\n",
       "      <td>2023-01-25</td>\n",
       "      <td>compani descript smartdev lead provid global s...</td>\n",
       "      <td>.net developer\\n</td>\n",
       "      <td>3</td>\n",
       "      <td>c, javascript, sql, typescript, nodej, asp</td>\n",
       "      <td>intern</td>\n",
       "      <td>c</td>\n",
       "    </tr>\n",
       "    <tr>\n",
       "      <th>1</th>\n",
       "      <td>0</td>\n",
       "      <td>net developer</td>\n",
       "      <td>smartdev</td>\n",
       "      <td>đà nẵng</td>\n",
       "      <td>Posted\\nPosted 14 days ago</td>\n",
       "      <td>2023-01-25</td>\n",
       "      <td>compani descript smartdev lead provid global s...</td>\n",
       "      <td>.net developer\\n</td>\n",
       "      <td>3</td>\n",
       "      <td>c, javascript, sql, typescript, nodej, asp</td>\n",
       "      <td>intern</td>\n",
       "      <td>javascript</td>\n",
       "    </tr>\n",
       "    <tr>\n",
       "      <th>2</th>\n",
       "      <td>0</td>\n",
       "      <td>net developer</td>\n",
       "      <td>smartdev</td>\n",
       "      <td>đà nẵng</td>\n",
       "      <td>Posted\\nPosted 14 days ago</td>\n",
       "      <td>2023-01-25</td>\n",
       "      <td>compani descript smartdev lead provid global s...</td>\n",
       "      <td>.net developer\\n</td>\n",
       "      <td>3</td>\n",
       "      <td>c, javascript, sql, typescript, nodej, asp</td>\n",
       "      <td>intern</td>\n",
       "      <td>sql</td>\n",
       "    </tr>\n",
       "    <tr>\n",
       "      <th>3</th>\n",
       "      <td>0</td>\n",
       "      <td>net developer</td>\n",
       "      <td>smartdev</td>\n",
       "      <td>đà nẵng</td>\n",
       "      <td>Posted\\nPosted 14 days ago</td>\n",
       "      <td>2023-01-25</td>\n",
       "      <td>compani descript smartdev lead provid global s...</td>\n",
       "      <td>.net developer\\n</td>\n",
       "      <td>3</td>\n",
       "      <td>c, javascript, sql, typescript, nodej, asp</td>\n",
       "      <td>intern</td>\n",
       "      <td>typescript</td>\n",
       "    </tr>\n",
       "    <tr>\n",
       "      <th>4</th>\n",
       "      <td>0</td>\n",
       "      <td>net developer</td>\n",
       "      <td>smartdev</td>\n",
       "      <td>đà nẵng</td>\n",
       "      <td>Posted\\nPosted 14 days ago</td>\n",
       "      <td>2023-01-25</td>\n",
       "      <td>compani descript smartdev lead provid global s...</td>\n",
       "      <td>.net developer\\n</td>\n",
       "      <td>3</td>\n",
       "      <td>c, javascript, sql, typescript, nodej, asp</td>\n",
       "      <td>intern</td>\n",
       "      <td>nodej</td>\n",
       "    </tr>\n",
       "    <tr>\n",
       "      <th>...</th>\n",
       "      <td>...</td>\n",
       "      <td>...</td>\n",
       "      <td>...</td>\n",
       "      <td>...</td>\n",
       "      <td>...</td>\n",
       "      <td>...</td>\n",
       "      <td>...</td>\n",
       "      <td>...</td>\n",
       "      <td>...</td>\n",
       "      <td>...</td>\n",
       "      <td>...</td>\n",
       "      <td>...</td>\n",
       "    </tr>\n",
       "    <tr>\n",
       "      <th>15067</th>\n",
       "      <td>4377</td>\n",
       "      <td>lập trình viên fullstack</td>\n",
       "      <td>jobsgo recruit</td>\n",
       "      <td>thành phố hồ chí minh</td>\n",
       "      <td>Posted\\nPosted 26 days ago</td>\n",
       "      <td>2023-01-26</td>\n",
       "      <td>mô tả công việc mức lương thỏa thuận develop n...</td>\n",
       "      <td>full stack web developer\\n</td>\n",
       "      <td>1</td>\n",
       "      <td>php, javascript, sql, typescript, mysql, git</td>\n",
       "      <td>junior, senior, full stack</td>\n",
       "      <td>mysql</td>\n",
       "    </tr>\n",
       "    <tr>\n",
       "      <th>15068</th>\n",
       "      <td>4377</td>\n",
       "      <td>lập trình viên fullstack</td>\n",
       "      <td>jobsgo recruit</td>\n",
       "      <td>thành phố hồ chí minh</td>\n",
       "      <td>Posted\\nPosted 26 days ago</td>\n",
       "      <td>2023-01-26</td>\n",
       "      <td>mô tả công việc mức lương thỏa thuận develop n...</td>\n",
       "      <td>full stack web developer\\n</td>\n",
       "      <td>1</td>\n",
       "      <td>php, javascript, sql, typescript, mysql, git</td>\n",
       "      <td>junior, senior, full stack</td>\n",
       "      <td>git</td>\n",
       "    </tr>\n",
       "    <tr>\n",
       "      <th>15069</th>\n",
       "      <td>4378</td>\n",
       "      <td>fullstack engineer</td>\n",
       "      <td>zühlke</td>\n",
       "      <td>thành phố hồ chí minh</td>\n",
       "      <td>Posted\\nPosted 30+ days ago</td>\n",
       "      <td>2023-01-26</td>\n",
       "      <td>perman full tim ho chi minh citi softwar engin...</td>\n",
       "      <td>full stack web developer\\n</td>\n",
       "      <td>5</td>\n",
       "      <td>react, angular, cloud</td>\n",
       "      <td>senior</td>\n",
       "      <td>react</td>\n",
       "    </tr>\n",
       "    <tr>\n",
       "      <th>15070</th>\n",
       "      <td>4378</td>\n",
       "      <td>fullstack engineer</td>\n",
       "      <td>zühlke</td>\n",
       "      <td>thành phố hồ chí minh</td>\n",
       "      <td>Posted\\nPosted 30+ days ago</td>\n",
       "      <td>2023-01-26</td>\n",
       "      <td>perman full tim ho chi minh citi softwar engin...</td>\n",
       "      <td>full stack web developer\\n</td>\n",
       "      <td>5</td>\n",
       "      <td>react, angular, cloud</td>\n",
       "      <td>senior</td>\n",
       "      <td>angular</td>\n",
       "    </tr>\n",
       "    <tr>\n",
       "      <th>15071</th>\n",
       "      <td>4378</td>\n",
       "      <td>fullstack engineer</td>\n",
       "      <td>zühlke</td>\n",
       "      <td>thành phố hồ chí minh</td>\n",
       "      <td>Posted\\nPosted 30+ days ago</td>\n",
       "      <td>2023-01-26</td>\n",
       "      <td>perman full tim ho chi minh citi softwar engin...</td>\n",
       "      <td>full stack web developer\\n</td>\n",
       "      <td>5</td>\n",
       "      <td>react, angular, cloud</td>\n",
       "      <td>senior</td>\n",
       "      <td>cloud</td>\n",
       "    </tr>\n",
       "  </tbody>\n",
       "</table>\n",
       "<p>15072 rows × 12 columns</p>\n",
       "</div>"
      ],
      "text/plain": [
       "       index                  JobTitle         Company               Location  \\\n",
       "0          0             net developer        smartdev                đà nẵng   \n",
       "1          0             net developer        smartdev                đà nẵng   \n",
       "2          0             net developer        smartdev                đà nẵng   \n",
       "3          0             net developer        smartdev                đà nẵng   \n",
       "4          0             net developer        smartdev                đà nẵng   \n",
       "...      ...                       ...             ...                    ...   \n",
       "15067   4377  lập trình viên fullstack  jobsgo recruit  thành phố hồ chí minh   \n",
       "15068   4377  lập trình viên fullstack  jobsgo recruit  thành phố hồ chí minh   \n",
       "15069   4378        fullstack engineer          zühlke  thành phố hồ chí minh   \n",
       "15070   4378        fullstack engineer          zühlke  thành phố hồ chí minh   \n",
       "15071   4378        fullstack engineer          zühlke  thành phố hồ chí minh   \n",
       "\n",
       "                          PostDate ExtractDate  \\\n",
       "0       Posted\\nPosted 14 days ago  2023-01-25   \n",
       "1       Posted\\nPosted 14 days ago  2023-01-25   \n",
       "2       Posted\\nPosted 14 days ago  2023-01-25   \n",
       "3       Posted\\nPosted 14 days ago  2023-01-25   \n",
       "4       Posted\\nPosted 14 days ago  2023-01-25   \n",
       "...                            ...         ...   \n",
       "15067   Posted\\nPosted 26 days ago  2023-01-26   \n",
       "15068   Posted\\nPosted 26 days ago  2023-01-26   \n",
       "15069  Posted\\nPosted 30+ days ago  2023-01-26   \n",
       "15070  Posted\\nPosted 30+ days ago  2023-01-26   \n",
       "15071  Posted\\nPosted 30+ days ago  2023-01-26   \n",
       "\n",
       "                                                 Summary  \\\n",
       "0      compani descript smartdev lead provid global s...   \n",
       "1      compani descript smartdev lead provid global s...   \n",
       "2      compani descript smartdev lead provid global s...   \n",
       "3      compani descript smartdev lead provid global s...   \n",
       "4      compani descript smartdev lead provid global s...   \n",
       "...                                                  ...   \n",
       "15067  mô tả công việc mức lương thỏa thuận develop n...   \n",
       "15068  mô tả công việc mức lương thỏa thuận develop n...   \n",
       "15069  perman full tim ho chi minh citi softwar engin...   \n",
       "15070  perman full tim ho chi minh citi softwar engin...   \n",
       "15071  perman full tim ho chi minh citi softwar engin...   \n",
       "\n",
       "                           JobUrl  YearExperience  \\\n",
       "0                .net developer\\n               3   \n",
       "1                .net developer\\n               3   \n",
       "2                .net developer\\n               3   \n",
       "3                .net developer\\n               3   \n",
       "4                .net developer\\n               3   \n",
       "...                           ...             ...   \n",
       "15067  full stack web developer\\n               1   \n",
       "15068  full stack web developer\\n               1   \n",
       "15069  full stack web developer\\n               5   \n",
       "15070  full stack web developer\\n               5   \n",
       "15071  full stack web developer\\n               5   \n",
       "\n",
       "                                              skill  \\\n",
       "0        c, javascript, sql, typescript, nodej, asp   \n",
       "1        c, javascript, sql, typescript, nodej, asp   \n",
       "2        c, javascript, sql, typescript, nodej, asp   \n",
       "3        c, javascript, sql, typescript, nodej, asp   \n",
       "4        c, javascript, sql, typescript, nodej, asp   \n",
       "...                                             ...   \n",
       "15067  php, javascript, sql, typescript, mysql, git   \n",
       "15068  php, javascript, sql, typescript, mysql, git   \n",
       "15069                         react, angular, cloud   \n",
       "15070                         react, angular, cloud   \n",
       "15071                         react, angular, cloud   \n",
       "\n",
       "                            level   skill_cut  \n",
       "0                          intern           c  \n",
       "1                          intern  javascript  \n",
       "2                          intern         sql  \n",
       "3                          intern  typescript  \n",
       "4                          intern       nodej  \n",
       "...                           ...         ...  \n",
       "15067  junior, senior, full stack       mysql  \n",
       "15068  junior, senior, full stack         git  \n",
       "15069                      senior       react  \n",
       "15070                      senior     angular  \n",
       "15071                      senior       cloud  \n",
       "\n",
       "[15072 rows x 12 columns]"
      ]
     },
     "execution_count": 48,
     "metadata": {},
     "output_type": "execute_result"
    }
   ],
   "source": [
    "df.loc[df.duplicated() == False, :]"
   ]
  },
  {
   "cell_type": "code",
   "execution_count": 49,
   "id": "633cf7fc",
   "metadata": {},
   "outputs": [],
   "source": [
    "dfx = df.loc[df['index'].duplicated() == False, :]"
   ]
  },
  {
   "cell_type": "code",
   "execution_count": 50,
   "id": "86c42dad",
   "metadata": {},
   "outputs": [],
   "source": [
    "level = pd.DataFrame(dfx.set_index('index').level.str.split(', ', expand=True).stack().reset_index(level=1, drop=True)).reset_index()\n",
    "\n",
    "# đổi tên cột 0 trong dataFrame skill thành 'skill_cut'\n",
    "level.rename(columns = {0:'level_cut'}, inplace = True)\n",
    "# gộp dataFrame df và skill vói nhay theo \"Unnameed: 0\"\n",
    "df = df.merge(level, left_on = 'index', right_on = 'index')"
   ]
  },
  {
   "cell_type": "code",
   "execution_count": 51,
   "id": "c5b0742b",
   "metadata": {},
   "outputs": [
    {
     "data": {
      "text/html": [
       "<div>\n",
       "<style scoped>\n",
       "    .dataframe tbody tr th:only-of-type {\n",
       "        vertical-align: middle;\n",
       "    }\n",
       "\n",
       "    .dataframe tbody tr th {\n",
       "        vertical-align: top;\n",
       "    }\n",
       "\n",
       "    .dataframe thead th {\n",
       "        text-align: right;\n",
       "    }\n",
       "</style>\n",
       "<table border=\"1\" class=\"dataframe\">\n",
       "  <thead>\n",
       "    <tr style=\"text-align: right;\">\n",
       "      <th></th>\n",
       "      <th>index</th>\n",
       "      <th>JobTitle</th>\n",
       "      <th>Company</th>\n",
       "      <th>Location</th>\n",
       "      <th>PostDate</th>\n",
       "      <th>ExtractDate</th>\n",
       "      <th>Summary</th>\n",
       "      <th>JobUrl</th>\n",
       "      <th>YearExperience</th>\n",
       "      <th>skill</th>\n",
       "      <th>level</th>\n",
       "      <th>skill_cut</th>\n",
       "      <th>level_cut</th>\n",
       "    </tr>\n",
       "  </thead>\n",
       "  <tbody>\n",
       "    <tr>\n",
       "      <th>0</th>\n",
       "      <td>0</td>\n",
       "      <td>net developer</td>\n",
       "      <td>smartdev</td>\n",
       "      <td>đà nẵng</td>\n",
       "      <td>Posted\\nPosted 14 days ago</td>\n",
       "      <td>2023-01-25</td>\n",
       "      <td>compani descript smartdev lead provid global s...</td>\n",
       "      <td>.net developer\\n</td>\n",
       "      <td>3</td>\n",
       "      <td>c, javascript, sql, typescript, nodej, asp</td>\n",
       "      <td>intern</td>\n",
       "      <td>c</td>\n",
       "      <td>intern</td>\n",
       "    </tr>\n",
       "    <tr>\n",
       "      <th>1</th>\n",
       "      <td>0</td>\n",
       "      <td>net developer</td>\n",
       "      <td>smartdev</td>\n",
       "      <td>đà nẵng</td>\n",
       "      <td>Posted\\nPosted 14 days ago</td>\n",
       "      <td>2023-01-25</td>\n",
       "      <td>compani descript smartdev lead provid global s...</td>\n",
       "      <td>.net developer\\n</td>\n",
       "      <td>3</td>\n",
       "      <td>c, javascript, sql, typescript, nodej, asp</td>\n",
       "      <td>intern</td>\n",
       "      <td>javascript</td>\n",
       "      <td>intern</td>\n",
       "    </tr>\n",
       "    <tr>\n",
       "      <th>2</th>\n",
       "      <td>0</td>\n",
       "      <td>net developer</td>\n",
       "      <td>smartdev</td>\n",
       "      <td>đà nẵng</td>\n",
       "      <td>Posted\\nPosted 14 days ago</td>\n",
       "      <td>2023-01-25</td>\n",
       "      <td>compani descript smartdev lead provid global s...</td>\n",
       "      <td>.net developer\\n</td>\n",
       "      <td>3</td>\n",
       "      <td>c, javascript, sql, typescript, nodej, asp</td>\n",
       "      <td>intern</td>\n",
       "      <td>sql</td>\n",
       "      <td>intern</td>\n",
       "    </tr>\n",
       "    <tr>\n",
       "      <th>3</th>\n",
       "      <td>0</td>\n",
       "      <td>net developer</td>\n",
       "      <td>smartdev</td>\n",
       "      <td>đà nẵng</td>\n",
       "      <td>Posted\\nPosted 14 days ago</td>\n",
       "      <td>2023-01-25</td>\n",
       "      <td>compani descript smartdev lead provid global s...</td>\n",
       "      <td>.net developer\\n</td>\n",
       "      <td>3</td>\n",
       "      <td>c, javascript, sql, typescript, nodej, asp</td>\n",
       "      <td>intern</td>\n",
       "      <td>typescript</td>\n",
       "      <td>intern</td>\n",
       "    </tr>\n",
       "    <tr>\n",
       "      <th>4</th>\n",
       "      <td>0</td>\n",
       "      <td>net developer</td>\n",
       "      <td>smartdev</td>\n",
       "      <td>đà nẵng</td>\n",
       "      <td>Posted\\nPosted 14 days ago</td>\n",
       "      <td>2023-01-25</td>\n",
       "      <td>compani descript smartdev lead provid global s...</td>\n",
       "      <td>.net developer\\n</td>\n",
       "      <td>3</td>\n",
       "      <td>c, javascript, sql, typescript, nodej, asp</td>\n",
       "      <td>intern</td>\n",
       "      <td>nodej</td>\n",
       "      <td>intern</td>\n",
       "    </tr>\n",
       "    <tr>\n",
       "      <th>...</th>\n",
       "      <td>...</td>\n",
       "      <td>...</td>\n",
       "      <td>...</td>\n",
       "      <td>...</td>\n",
       "      <td>...</td>\n",
       "      <td>...</td>\n",
       "      <td>...</td>\n",
       "      <td>...</td>\n",
       "      <td>...</td>\n",
       "      <td>...</td>\n",
       "      <td>...</td>\n",
       "      <td>...</td>\n",
       "      <td>...</td>\n",
       "    </tr>\n",
       "    <tr>\n",
       "      <th>19973</th>\n",
       "      <td>4377</td>\n",
       "      <td>lập trình viên fullstack</td>\n",
       "      <td>jobsgo recruit</td>\n",
       "      <td>thành phố hồ chí minh</td>\n",
       "      <td>Posted\\nPosted 26 days ago</td>\n",
       "      <td>2023-01-26</td>\n",
       "      <td>mô tả công việc mức lương thỏa thuận develop n...</td>\n",
       "      <td>full stack web developer\\n</td>\n",
       "      <td>1</td>\n",
       "      <td>php, javascript, sql, typescript, mysql, git</td>\n",
       "      <td>junior, senior, full stack</td>\n",
       "      <td>git</td>\n",
       "      <td>senior</td>\n",
       "    </tr>\n",
       "    <tr>\n",
       "      <th>19974</th>\n",
       "      <td>4377</td>\n",
       "      <td>lập trình viên fullstack</td>\n",
       "      <td>jobsgo recruit</td>\n",
       "      <td>thành phố hồ chí minh</td>\n",
       "      <td>Posted\\nPosted 26 days ago</td>\n",
       "      <td>2023-01-26</td>\n",
       "      <td>mô tả công việc mức lương thỏa thuận develop n...</td>\n",
       "      <td>full stack web developer\\n</td>\n",
       "      <td>1</td>\n",
       "      <td>php, javascript, sql, typescript, mysql, git</td>\n",
       "      <td>junior, senior, full stack</td>\n",
       "      <td>git</td>\n",
       "      <td>full stack</td>\n",
       "    </tr>\n",
       "    <tr>\n",
       "      <th>19975</th>\n",
       "      <td>4378</td>\n",
       "      <td>fullstack engineer</td>\n",
       "      <td>zühlke</td>\n",
       "      <td>thành phố hồ chí minh</td>\n",
       "      <td>Posted\\nPosted 30+ days ago</td>\n",
       "      <td>2023-01-26</td>\n",
       "      <td>perman full tim ho chi minh citi softwar engin...</td>\n",
       "      <td>full stack web developer\\n</td>\n",
       "      <td>5</td>\n",
       "      <td>react, angular, cloud</td>\n",
       "      <td>senior</td>\n",
       "      <td>react</td>\n",
       "      <td>senior</td>\n",
       "    </tr>\n",
       "    <tr>\n",
       "      <th>19976</th>\n",
       "      <td>4378</td>\n",
       "      <td>fullstack engineer</td>\n",
       "      <td>zühlke</td>\n",
       "      <td>thành phố hồ chí minh</td>\n",
       "      <td>Posted\\nPosted 30+ days ago</td>\n",
       "      <td>2023-01-26</td>\n",
       "      <td>perman full tim ho chi minh citi softwar engin...</td>\n",
       "      <td>full stack web developer\\n</td>\n",
       "      <td>5</td>\n",
       "      <td>react, angular, cloud</td>\n",
       "      <td>senior</td>\n",
       "      <td>angular</td>\n",
       "      <td>senior</td>\n",
       "    </tr>\n",
       "    <tr>\n",
       "      <th>19977</th>\n",
       "      <td>4378</td>\n",
       "      <td>fullstack engineer</td>\n",
       "      <td>zühlke</td>\n",
       "      <td>thành phố hồ chí minh</td>\n",
       "      <td>Posted\\nPosted 30+ days ago</td>\n",
       "      <td>2023-01-26</td>\n",
       "      <td>perman full tim ho chi minh citi softwar engin...</td>\n",
       "      <td>full stack web developer\\n</td>\n",
       "      <td>5</td>\n",
       "      <td>react, angular, cloud</td>\n",
       "      <td>senior</td>\n",
       "      <td>cloud</td>\n",
       "      <td>senior</td>\n",
       "    </tr>\n",
       "  </tbody>\n",
       "</table>\n",
       "<p>19978 rows × 13 columns</p>\n",
       "</div>"
      ],
      "text/plain": [
       "       index                  JobTitle         Company               Location  \\\n",
       "0          0             net developer        smartdev                đà nẵng   \n",
       "1          0             net developer        smartdev                đà nẵng   \n",
       "2          0             net developer        smartdev                đà nẵng   \n",
       "3          0             net developer        smartdev                đà nẵng   \n",
       "4          0             net developer        smartdev                đà nẵng   \n",
       "...      ...                       ...             ...                    ...   \n",
       "19973   4377  lập trình viên fullstack  jobsgo recruit  thành phố hồ chí minh   \n",
       "19974   4377  lập trình viên fullstack  jobsgo recruit  thành phố hồ chí minh   \n",
       "19975   4378        fullstack engineer          zühlke  thành phố hồ chí minh   \n",
       "19976   4378        fullstack engineer          zühlke  thành phố hồ chí minh   \n",
       "19977   4378        fullstack engineer          zühlke  thành phố hồ chí minh   \n",
       "\n",
       "                          PostDate ExtractDate  \\\n",
       "0       Posted\\nPosted 14 days ago  2023-01-25   \n",
       "1       Posted\\nPosted 14 days ago  2023-01-25   \n",
       "2       Posted\\nPosted 14 days ago  2023-01-25   \n",
       "3       Posted\\nPosted 14 days ago  2023-01-25   \n",
       "4       Posted\\nPosted 14 days ago  2023-01-25   \n",
       "...                            ...         ...   \n",
       "19973   Posted\\nPosted 26 days ago  2023-01-26   \n",
       "19974   Posted\\nPosted 26 days ago  2023-01-26   \n",
       "19975  Posted\\nPosted 30+ days ago  2023-01-26   \n",
       "19976  Posted\\nPosted 30+ days ago  2023-01-26   \n",
       "19977  Posted\\nPosted 30+ days ago  2023-01-26   \n",
       "\n",
       "                                                 Summary  \\\n",
       "0      compani descript smartdev lead provid global s...   \n",
       "1      compani descript smartdev lead provid global s...   \n",
       "2      compani descript smartdev lead provid global s...   \n",
       "3      compani descript smartdev lead provid global s...   \n",
       "4      compani descript smartdev lead provid global s...   \n",
       "...                                                  ...   \n",
       "19973  mô tả công việc mức lương thỏa thuận develop n...   \n",
       "19974  mô tả công việc mức lương thỏa thuận develop n...   \n",
       "19975  perman full tim ho chi minh citi softwar engin...   \n",
       "19976  perman full tim ho chi minh citi softwar engin...   \n",
       "19977  perman full tim ho chi minh citi softwar engin...   \n",
       "\n",
       "                           JobUrl  YearExperience  \\\n",
       "0                .net developer\\n               3   \n",
       "1                .net developer\\n               3   \n",
       "2                .net developer\\n               3   \n",
       "3                .net developer\\n               3   \n",
       "4                .net developer\\n               3   \n",
       "...                           ...             ...   \n",
       "19973  full stack web developer\\n               1   \n",
       "19974  full stack web developer\\n               1   \n",
       "19975  full stack web developer\\n               5   \n",
       "19976  full stack web developer\\n               5   \n",
       "19977  full stack web developer\\n               5   \n",
       "\n",
       "                                              skill  \\\n",
       "0        c, javascript, sql, typescript, nodej, asp   \n",
       "1        c, javascript, sql, typescript, nodej, asp   \n",
       "2        c, javascript, sql, typescript, nodej, asp   \n",
       "3        c, javascript, sql, typescript, nodej, asp   \n",
       "4        c, javascript, sql, typescript, nodej, asp   \n",
       "...                                             ...   \n",
       "19973  php, javascript, sql, typescript, mysql, git   \n",
       "19974  php, javascript, sql, typescript, mysql, git   \n",
       "19975                         react, angular, cloud   \n",
       "19976                         react, angular, cloud   \n",
       "19977                         react, angular, cloud   \n",
       "\n",
       "                            level   skill_cut   level_cut  \n",
       "0                          intern           c      intern  \n",
       "1                          intern  javascript      intern  \n",
       "2                          intern         sql      intern  \n",
       "3                          intern  typescript      intern  \n",
       "4                          intern       nodej      intern  \n",
       "...                           ...         ...         ...  \n",
       "19973  junior, senior, full stack         git      senior  \n",
       "19974  junior, senior, full stack         git  full stack  \n",
       "19975                      senior       react      senior  \n",
       "19976                      senior     angular      senior  \n",
       "19977                      senior       cloud      senior  \n",
       "\n",
       "[19978 rows x 13 columns]"
      ]
     },
     "execution_count": 51,
     "metadata": {},
     "output_type": "execute_result"
    }
   ],
   "source": [
    "df.loc[df.duplicated() == False, :]"
   ]
  },
  {
   "cell_type": "code",
   "execution_count": 52,
   "id": "450d6a78",
   "metadata": {},
   "outputs": [
    {
     "data": {
      "text/plain": [
       "(19978, 13)"
      ]
     },
     "execution_count": 52,
     "metadata": {},
     "output_type": "execute_result"
    }
   ],
   "source": [
    "df.shape"
   ]
  },
  {
   "cell_type": "markdown",
   "id": "fd6aa5ab",
   "metadata": {},
   "source": [
    "## IV. Data visulazition. "
   ]
  },
  {
   "cell_type": "code",
   "execution_count": 54,
   "id": "a4fd8e6d",
   "metadata": {},
   "outputs": [
    {
     "name": "stderr",
     "output_type": "stream",
     "text": [
      "findfont: Font family ['Helvetica'] not found. Falling back to DejaVu Sans.\n"
     ]
    },
    {
     "data": {
      "image/png": "[encoded data removed]",
      "text/plain": [
       "<Figure size 1440x720 with 1 Axes>"
      ]
     },
     "metadata": {},
     "output_type": "display_data"
    }
   ],
   "source": [
    "fig = plt.figure(figsize =(20,10))\n",
    "plt.title('Data is statistics by job name', fontsize=28.5, loc= 'left', fontname='Helvetica')\n",
    "plt.bar(df['JobUrl'].value_counts().keys(),df['JobUrl'].value_counts().values)\n",
    "plt.xticks(rotation = 45)\n",
    "plt.xlabel('Name', fontsize=14)\n",
    "plt.ylabel('Quantity', fontsize=14)\n",
    "plt.show()"
   ]
  },
  {
   "cell_type": "code",
   "execution_count": 55,
   "id": "9b9a72d3",
   "metadata": {},
   "outputs": [
    {
     "data": {
      "image/png": "[encoded data removed]",
      "text/plain": [
       "<Figure size 1440x720 with 1 Axes>"
      ]
     },
     "metadata": {},
     "output_type": "display_data"
    }
   ],
   "source": [
    "fig = plt.figure(figsize =(20,10))\n",
    "plt.title('Data is statistics by location.', fontsize=28.5, loc= 'left', fontname='Helvetica')\n",
    "plt.bar(df['Location'].value_counts().keys()[:10],df['Location'].value_counts().values[:10])\n",
    "plt.xticks(rotation = 45)\n",
    "plt.xlabel('Name location', fontsize=14)\n",
    "plt.ylabel('Quantity', fontsize=14)\n",
    "plt.show()"
   ]
  },
  {
   "cell_type": "code",
   "execution_count": 56,
   "id": "554c237f",
   "metadata": {},
   "outputs": [
    {
     "data": {
      "image/png": "[encoded data removed]",
      "text/plain": [
       "<Figure size 1440x720 with 1 Axes>"
      ]
     },
     "metadata": {},
     "output_type": "display_data"
    }
   ],
   "source": [
    "fig = plt.figure(figsize =(20,10))\n",
    "plt.title('Data is statistics by company.', fontsize=28.5, loc= 'left', fontname='Helvetica')\n",
    "plt.bar(df['Company'].value_counts().keys()[:10],df['Company'].value_counts().values[:10])\n",
    "plt.xticks(rotation = 45)\n",
    "plt.xlabel('Name company', fontsize=14)\n",
    "plt.ylabel('Quantity', fontsize=14)\n",
    "plt.show()"
   ]
  },
  {
   "cell_type": "code",
   "execution_count": 57,
   "id": "1366ef63",
   "metadata": {},
   "outputs": [
    {
     "data": {
      "image/png": "[encoded data removed]",
      "text/plain": [
       "<Figure size 1440x720 with 1 Axes>"
      ]
     },
     "metadata": {},
     "output_type": "display_data"
    }
   ],
   "source": [
    "fig = plt.figure(figsize =(20,10))\n",
    "plt.title('statictis Name Job')\n",
    "plt.bar(df['Company'].value_counts().keys()[:10],df['Company'].value_counts().values[:10])\n",
    "plt.xticks(rotation = 45)\n",
    "plt.show()"
   ]
  },
  {
   "cell_type": "code",
   "execution_count": 58,
   "id": "c12881ee",
   "metadata": {},
   "outputs": [
    {
     "data": {
      "image/png": "[encoded data removed]",
      "text/plain": [
       "<Figure size 1440x720 with 1 Axes>"
      ]
     },
     "metadata": {},
     "output_type": "display_data"
    }
   ],
   "source": [
    "fig = plt.figure(figsize =(20,10))\n",
    "plt.title('Data is statistics by year experience.', fontsize=28.5, loc= 'left', fontname='Helvetica')\n",
    "plt.bar(df['YearExperience'].value_counts().keys(),df['YearExperience'].value_counts().values)\n",
    "plt.xticks(rotation = 45)\n",
    "plt.xlabel('Name year experience', fontsize=14)\n",
    "plt.ylabel('Quantity', fontsize=14)\n",
    "plt.show()"
   ]
  },
  {
   "cell_type": "code",
   "execution_count": 59,
   "id": "0c1b7b71",
   "metadata": {},
   "outputs": [
    {
     "data": {
      "text/html": [
       "<div>\n",
       "<style scoped>\n",
       "    .dataframe tbody tr th:only-of-type {\n",
       "        vertical-align: middle;\n",
       "    }\n",
       "\n",
       "    .dataframe tbody tr th {\n",
       "        vertical-align: top;\n",
       "    }\n",
       "\n",
       "    .dataframe thead th {\n",
       "        text-align: right;\n",
       "    }\n",
       "</style>\n",
       "<table border=\"1\" class=\"dataframe\">\n",
       "  <thead>\n",
       "    <tr style=\"text-align: right;\">\n",
       "      <th></th>\n",
       "      <th>Name Columns</th>\n",
       "      <th>Total row</th>\n",
       "      <th>type col</th>\n",
       "      <th>Total unique</th>\n",
       "      <th>Total miss val</th>\n",
       "      <th>percentage missing value</th>\n",
       "    </tr>\n",
       "  </thead>\n",
       "  <tbody>\n",
       "    <tr>\n",
       "      <th>0</th>\n",
       "      <td>index</td>\n",
       "      <td>19978</td>\n",
       "      <td>int64</td>\n",
       "      <td>4342</td>\n",
       "      <td>0</td>\n",
       "      <td>0.0</td>\n",
       "    </tr>\n",
       "    <tr>\n",
       "      <th>1</th>\n",
       "      <td>JobTitle</td>\n",
       "      <td>19978</td>\n",
       "      <td>object</td>\n",
       "      <td>1307</td>\n",
       "      <td>0</td>\n",
       "      <td>0.0</td>\n",
       "    </tr>\n",
       "    <tr>\n",
       "      <th>2</th>\n",
       "      <td>Company</td>\n",
       "      <td>19978</td>\n",
       "      <td>object</td>\n",
       "      <td>1092</td>\n",
       "      <td>0</td>\n",
       "      <td>0.0</td>\n",
       "    </tr>\n",
       "    <tr>\n",
       "      <th>3</th>\n",
       "      <td>Location</td>\n",
       "      <td>19978</td>\n",
       "      <td>object</td>\n",
       "      <td>31</td>\n",
       "      <td>0</td>\n",
       "      <td>0.0</td>\n",
       "    </tr>\n",
       "    <tr>\n",
       "      <th>4</th>\n",
       "      <td>PostDate</td>\n",
       "      <td>19978</td>\n",
       "      <td>object</td>\n",
       "      <td>43</td>\n",
       "      <td>0</td>\n",
       "      <td>0.0</td>\n",
       "    </tr>\n",
       "    <tr>\n",
       "      <th>5</th>\n",
       "      <td>ExtractDate</td>\n",
       "      <td>19978</td>\n",
       "      <td>object</td>\n",
       "      <td>2</td>\n",
       "      <td>0</td>\n",
       "      <td>0.0</td>\n",
       "    </tr>\n",
       "    <tr>\n",
       "      <th>6</th>\n",
       "      <td>Summary</td>\n",
       "      <td>19978</td>\n",
       "      <td>object</td>\n",
       "      <td>2642</td>\n",
       "      <td>0</td>\n",
       "      <td>0.0</td>\n",
       "    </tr>\n",
       "    <tr>\n",
       "      <th>7</th>\n",
       "      <td>JobUrl</td>\n",
       "      <td>19978</td>\n",
       "      <td>object</td>\n",
       "      <td>13</td>\n",
       "      <td>0</td>\n",
       "      <td>0.0</td>\n",
       "    </tr>\n",
       "    <tr>\n",
       "      <th>8</th>\n",
       "      <td>YearExperience</td>\n",
       "      <td>19978</td>\n",
       "      <td>int64</td>\n",
       "      <td>11</td>\n",
       "      <td>0</td>\n",
       "      <td>0.0</td>\n",
       "    </tr>\n",
       "    <tr>\n",
       "      <th>9</th>\n",
       "      <td>skill</td>\n",
       "      <td>19978</td>\n",
       "      <td>object</td>\n",
       "      <td>840</td>\n",
       "      <td>0</td>\n",
       "      <td>0.0</td>\n",
       "    </tr>\n",
       "    <tr>\n",
       "      <th>10</th>\n",
       "      <td>level</td>\n",
       "      <td>19978</td>\n",
       "      <td>object</td>\n",
       "      <td>30</td>\n",
       "      <td>0</td>\n",
       "      <td>0.0</td>\n",
       "    </tr>\n",
       "    <tr>\n",
       "      <th>11</th>\n",
       "      <td>skill_cut</td>\n",
       "      <td>19978</td>\n",
       "      <td>object</td>\n",
       "      <td>24</td>\n",
       "      <td>0</td>\n",
       "      <td>0.0</td>\n",
       "    </tr>\n",
       "    <tr>\n",
       "      <th>12</th>\n",
       "      <td>level_cut</td>\n",
       "      <td>19978</td>\n",
       "      <td>object</td>\n",
       "      <td>6</td>\n",
       "      <td>0</td>\n",
       "      <td>0.0</td>\n",
       "    </tr>\n",
       "  </tbody>\n",
       "</table>\n",
       "</div>"
      ],
      "text/plain": [
       "      Name Columns  Total row type col  Total unique  Total miss val  \\\n",
       "0            index      19978    int64          4342               0   \n",
       "1         JobTitle      19978   object          1307               0   \n",
       "2          Company      19978   object          1092               0   \n",
       "3         Location      19978   object            31               0   \n",
       "4         PostDate      19978   object            43               0   \n",
       "5      ExtractDate      19978   object             2               0   \n",
       "6          Summary      19978   object          2642               0   \n",
       "7           JobUrl      19978   object            13               0   \n",
       "8   YearExperience      19978    int64            11               0   \n",
       "9            skill      19978   object           840               0   \n",
       "10           level      19978   object            30               0   \n",
       "11       skill_cut      19978   object            24               0   \n",
       "12       level_cut      19978   object             6               0   \n",
       "\n",
       "    percentage missing value  \n",
       "0                        0.0  \n",
       "1                        0.0  \n",
       "2                        0.0  \n",
       "3                        0.0  \n",
       "4                        0.0  \n",
       "5                        0.0  \n",
       "6                        0.0  \n",
       "7                        0.0  \n",
       "8                        0.0  \n",
       "9                        0.0  \n",
       "10                       0.0  \n",
       "11                       0.0  \n",
       "12                       0.0  "
      ]
     },
     "execution_count": 59,
     "metadata": {},
     "output_type": "execute_result"
    }
   ],
   "source": [
    "overView(df)"
   ]
  },
  {
   "cell_type": "code",
   "execution_count": 165,
   "id": "b6502942",
   "metadata": {},
   "outputs": [],
   "source": [
    "dataCorrelation = df[['JobTitle', 'Company', 'Location', 'YearExperience', 'skill_cut', 'level_cut', 'JobUrl']]"
   ]
  },
  {
   "cell_type": "code",
   "execution_count": 166,
   "id": "f018e9d6",
   "metadata": {},
   "outputs": [
    {
     "data": {
      "text/html": [
       "<div>\n",
       "<style scoped>\n",
       "    .dataframe tbody tr th:only-of-type {\n",
       "        vertical-align: middle;\n",
       "    }\n",
       "\n",
       "    .dataframe tbody tr th {\n",
       "        vertical-align: top;\n",
       "    }\n",
       "\n",
       "    .dataframe thead th {\n",
       "        text-align: right;\n",
       "    }\n",
       "</style>\n",
       "<table border=\"1\" class=\"dataframe\">\n",
       "  <thead>\n",
       "    <tr style=\"text-align: right;\">\n",
       "      <th></th>\n",
       "      <th>Name Columns</th>\n",
       "      <th>Total row</th>\n",
       "      <th>type col</th>\n",
       "      <th>Total unique</th>\n",
       "      <th>Total miss val</th>\n",
       "      <th>percentage missing value</th>\n",
       "    </tr>\n",
       "  </thead>\n",
       "  <tbody>\n",
       "    <tr>\n",
       "      <th>0</th>\n",
       "      <td>JobTitle</td>\n",
       "      <td>19978</td>\n",
       "      <td>object</td>\n",
       "      <td>1307</td>\n",
       "      <td>0</td>\n",
       "      <td>0.0</td>\n",
       "    </tr>\n",
       "    <tr>\n",
       "      <th>1</th>\n",
       "      <td>Company</td>\n",
       "      <td>19978</td>\n",
       "      <td>object</td>\n",
       "      <td>1092</td>\n",
       "      <td>0</td>\n",
       "      <td>0.0</td>\n",
       "    </tr>\n",
       "    <tr>\n",
       "      <th>2</th>\n",
       "      <td>Location</td>\n",
       "      <td>19978</td>\n",
       "      <td>object</td>\n",
       "      <td>31</td>\n",
       "      <td>0</td>\n",
       "      <td>0.0</td>\n",
       "    </tr>\n",
       "    <tr>\n",
       "      <th>3</th>\n",
       "      <td>YearExperience</td>\n",
       "      <td>19978</td>\n",
       "      <td>int64</td>\n",
       "      <td>11</td>\n",
       "      <td>0</td>\n",
       "      <td>0.0</td>\n",
       "    </tr>\n",
       "    <tr>\n",
       "      <th>4</th>\n",
       "      <td>skill_cut</td>\n",
       "      <td>19978</td>\n",
       "      <td>object</td>\n",
       "      <td>24</td>\n",
       "      <td>0</td>\n",
       "      <td>0.0</td>\n",
       "    </tr>\n",
       "    <tr>\n",
       "      <th>5</th>\n",
       "      <td>level_cut</td>\n",
       "      <td>19978</td>\n",
       "      <td>object</td>\n",
       "      <td>6</td>\n",
       "      <td>0</td>\n",
       "      <td>0.0</td>\n",
       "    </tr>\n",
       "    <tr>\n",
       "      <th>6</th>\n",
       "      <td>JobUrl</td>\n",
       "      <td>19978</td>\n",
       "      <td>object</td>\n",
       "      <td>13</td>\n",
       "      <td>0</td>\n",
       "      <td>0.0</td>\n",
       "    </tr>\n",
       "  </tbody>\n",
       "</table>\n",
       "</div>"
      ],
      "text/plain": [
       "     Name Columns  Total row type col  Total unique  Total miss val  \\\n",
       "0        JobTitle      19978   object          1307               0   \n",
       "1         Company      19978   object          1092               0   \n",
       "2        Location      19978   object            31               0   \n",
       "3  YearExperience      19978    int64            11               0   \n",
       "4       skill_cut      19978   object            24               0   \n",
       "5       level_cut      19978   object             6               0   \n",
       "6          JobUrl      19978   object            13               0   \n",
       "\n",
       "   percentage missing value  \n",
       "0                       0.0  \n",
       "1                       0.0  \n",
       "2                       0.0  \n",
       "3                       0.0  \n",
       "4                       0.0  \n",
       "5                       0.0  \n",
       "6                       0.0  "
      ]
     },
     "execution_count": 166,
     "metadata": {},
     "output_type": "execute_result"
    }
   ],
   "source": [
    "overView(dataCorrelation)"
   ]
  },
  {
   "cell_type": "code",
   "execution_count": 167,
   "id": "cf79b446",
   "metadata": {},
   "outputs": [
    {
     "data": {
      "text/html": [
       "<div>\n",
       "<style scoped>\n",
       "    .dataframe tbody tr th:only-of-type {\n",
       "        vertical-align: middle;\n",
       "    }\n",
       "\n",
       "    .dataframe tbody tr th {\n",
       "        vertical-align: top;\n",
       "    }\n",
       "\n",
       "    .dataframe thead th {\n",
       "        text-align: right;\n",
       "    }\n",
       "</style>\n",
       "<table border=\"1\" class=\"dataframe\">\n",
       "  <thead>\n",
       "    <tr style=\"text-align: right;\">\n",
       "      <th></th>\n",
       "      <th>JobTitle</th>\n",
       "      <th>Company</th>\n",
       "      <th>Location</th>\n",
       "      <th>YearExperience</th>\n",
       "      <th>skill_cut</th>\n",
       "      <th>level_cut</th>\n",
       "      <th>JobUrl</th>\n",
       "    </tr>\n",
       "  </thead>\n",
       "  <tbody>\n",
       "    <tr>\n",
       "      <th>0</th>\n",
       "      <td>net developer</td>\n",
       "      <td>smartdev</td>\n",
       "      <td>đà nẵng</td>\n",
       "      <td>3</td>\n",
       "      <td>c</td>\n",
       "      <td>intern</td>\n",
       "      <td>.net developer\\n</td>\n",
       "    </tr>\n",
       "    <tr>\n",
       "      <th>1</th>\n",
       "      <td>net developer</td>\n",
       "      <td>smartdev</td>\n",
       "      <td>đà nẵng</td>\n",
       "      <td>3</td>\n",
       "      <td>javascript</td>\n",
       "      <td>intern</td>\n",
       "      <td>.net developer\\n</td>\n",
       "    </tr>\n",
       "    <tr>\n",
       "      <th>2</th>\n",
       "      <td>net developer</td>\n",
       "      <td>smartdev</td>\n",
       "      <td>đà nẵng</td>\n",
       "      <td>3</td>\n",
       "      <td>sql</td>\n",
       "      <td>intern</td>\n",
       "      <td>.net developer\\n</td>\n",
       "    </tr>\n",
       "    <tr>\n",
       "      <th>3</th>\n",
       "      <td>net developer</td>\n",
       "      <td>smartdev</td>\n",
       "      <td>đà nẵng</td>\n",
       "      <td>3</td>\n",
       "      <td>typescript</td>\n",
       "      <td>intern</td>\n",
       "      <td>.net developer\\n</td>\n",
       "    </tr>\n",
       "    <tr>\n",
       "      <th>4</th>\n",
       "      <td>net developer</td>\n",
       "      <td>smartdev</td>\n",
       "      <td>đà nẵng</td>\n",
       "      <td>3</td>\n",
       "      <td>nodej</td>\n",
       "      <td>intern</td>\n",
       "      <td>.net developer\\n</td>\n",
       "    </tr>\n",
       "  </tbody>\n",
       "</table>\n",
       "</div>"
      ],
      "text/plain": [
       "        JobTitle   Company Location  YearExperience   skill_cut level_cut  \\\n",
       "0  net developer  smartdev  đà nẵng               3           c    intern   \n",
       "1  net developer  smartdev  đà nẵng               3  javascript    intern   \n",
       "2  net developer  smartdev  đà nẵng               3         sql    intern   \n",
       "3  net developer  smartdev  đà nẵng               3  typescript    intern   \n",
       "4  net developer  smartdev  đà nẵng               3       nodej    intern   \n",
       "\n",
       "             JobUrl  \n",
       "0  .net developer\\n  \n",
       "1  .net developer\\n  \n",
       "2  .net developer\\n  \n",
       "3  .net developer\\n  \n",
       "4  .net developer\\n  "
      ]
     },
     "execution_count": 167,
     "metadata": {},
     "output_type": "execute_result"
    }
   ],
   "source": [
    "dataCorrelation.head()"
   ]
  },
  {
   "cell_type": "code",
   "execution_count": 168,
   "id": "41bbbddd",
   "metadata": {},
   "outputs": [
    {
     "name": "stderr",
     "output_type": "stream",
     "text": [
      "C:\\Users\\Tran Huu An\\AppData\\Local\\Temp\\ipykernel_12424\\1325635313.py:1: SettingWithCopyWarning: \n",
      "A value is trying to be set on a copy of a slice from a DataFrame.\n",
      "Try using .loc[row_indexer,col_indexer] = value instead\n",
      "\n",
      "See the caveats in the documentation: https://pandas.pydata.org/pandas-docs/stable/user_guide/indexing.html#returning-a-view-versus-a-copy\n",
      "  dataCorrelation[\"JobTitle\"] = dataCorrelation[\"JobTitle\"].astype('category')\n",
      "C:\\Users\\Tran Huu An\\AppData\\Local\\Temp\\ipykernel_12424\\1325635313.py:2: SettingWithCopyWarning: \n",
      "A value is trying to be set on a copy of a slice from a DataFrame.\n",
      "Try using .loc[row_indexer,col_indexer] = value instead\n",
      "\n",
      "See the caveats in the documentation: https://pandas.pydata.org/pandas-docs/stable/user_guide/indexing.html#returning-a-view-versus-a-copy\n",
      "  dataCorrelation[\"Company\"] = dataCorrelation[\"Company\"].astype('category')\n",
      "C:\\Users\\Tran Huu An\\AppData\\Local\\Temp\\ipykernel_12424\\1325635313.py:3: SettingWithCopyWarning: \n",
      "A value is trying to be set on a copy of a slice from a DataFrame.\n",
      "Try using .loc[row_indexer,col_indexer] = value instead\n",
      "\n",
      "See the caveats in the documentation: https://pandas.pydata.org/pandas-docs/stable/user_guide/indexing.html#returning-a-view-versus-a-copy\n",
      "  dataCorrelation[\"Location\"] = dataCorrelation[\"Location\"].astype('category')\n",
      "C:\\Users\\Tran Huu An\\AppData\\Local\\Temp\\ipykernel_12424\\1325635313.py:4: SettingWithCopyWarning: \n",
      "A value is trying to be set on a copy of a slice from a DataFrame.\n",
      "Try using .loc[row_indexer,col_indexer] = value instead\n",
      "\n",
      "See the caveats in the documentation: https://pandas.pydata.org/pandas-docs/stable/user_guide/indexing.html#returning-a-view-versus-a-copy\n",
      "  dataCorrelation[\"level_cut\"] = dataCorrelation[\"level_cut\"].astype('category')\n",
      "C:\\Users\\Tran Huu An\\AppData\\Local\\Temp\\ipykernel_12424\\1325635313.py:5: SettingWithCopyWarning: \n",
      "A value is trying to be set on a copy of a slice from a DataFrame.\n",
      "Try using .loc[row_indexer,col_indexer] = value instead\n",
      "\n",
      "See the caveats in the documentation: https://pandas.pydata.org/pandas-docs/stable/user_guide/indexing.html#returning-a-view-versus-a-copy\n",
      "  dataCorrelation[\"skill_cut\"] = dataCorrelation[\"skill_cut\"].astype('category')\n",
      "C:\\Users\\Tran Huu An\\AppData\\Local\\Temp\\ipykernel_12424\\1325635313.py:6: SettingWithCopyWarning: \n",
      "A value is trying to be set on a copy of a slice from a DataFrame.\n",
      "Try using .loc[row_indexer,col_indexer] = value instead\n",
      "\n",
      "See the caveats in the documentation: https://pandas.pydata.org/pandas-docs/stable/user_guide/indexing.html#returning-a-view-versus-a-copy\n",
      "  dataCorrelation[\"JobUrl\"] = dataCorrelation[\"JobUrl\"].astype('category')\n"
     ]
    }
   ],
   "source": [
    "dataCorrelation[\"JobTitle\"] = dataCorrelation[\"JobTitle\"].astype('category')\n",
    "dataCorrelation[\"Company\"] = dataCorrelation[\"Company\"].astype('category')\n",
    "dataCorrelation[\"Location\"] = dataCorrelation[\"Location\"].astype('category')\n",
    "dataCorrelation[\"level_cut\"] = dataCorrelation[\"level_cut\"].astype('category')\n",
    "dataCorrelation[\"skill_cut\"] = dataCorrelation[\"skill_cut\"].astype('category')\n",
    "dataCorrelation[\"JobUrl\"] = dataCorrelation[\"JobUrl\"].astype('category')"
   ]
  },
  {
   "cell_type": "code",
   "execution_count": 169,
   "id": "5a4bb167",
   "metadata": {},
   "outputs": [
    {
     "name": "stderr",
     "output_type": "stream",
     "text": [
      "C:\\Users\\Tran Huu An\\AppData\\Local\\Temp\\ipykernel_12424\\1789140312.py:1: SettingWithCopyWarning: \n",
      "A value is trying to be set on a copy of a slice from a DataFrame.\n",
      "Try using .loc[row_indexer,col_indexer] = value instead\n",
      "\n",
      "See the caveats in the documentation: https://pandas.pydata.org/pandas-docs/stable/user_guide/indexing.html#returning-a-view-versus-a-copy\n",
      "  dataCorrelation[\"JobTitle\"] = dataCorrelation[\"JobTitle\"].cat.codes\n",
      "C:\\Users\\Tran Huu An\\AppData\\Local\\Temp\\ipykernel_12424\\1789140312.py:2: SettingWithCopyWarning: \n",
      "A value is trying to be set on a copy of a slice from a DataFrame.\n",
      "Try using .loc[row_indexer,col_indexer] = value instead\n",
      "\n",
      "See the caveats in the documentation: https://pandas.pydata.org/pandas-docs/stable/user_guide/indexing.html#returning-a-view-versus-a-copy\n",
      "  dataCorrelation[\"Company\"] = dataCorrelation[\"Company\"].cat.codes\n",
      "C:\\Users\\Tran Huu An\\AppData\\Local\\Temp\\ipykernel_12424\\1789140312.py:3: SettingWithCopyWarning: \n",
      "A value is trying to be set on a copy of a slice from a DataFrame.\n",
      "Try using .loc[row_indexer,col_indexer] = value instead\n",
      "\n",
      "See the caveats in the documentation: https://pandas.pydata.org/pandas-docs/stable/user_guide/indexing.html#returning-a-view-versus-a-copy\n",
      "  dataCorrelation[\"Location\"] = dataCorrelation[\"Location\"].cat.codes\n",
      "C:\\Users\\Tran Huu An\\AppData\\Local\\Temp\\ipykernel_12424\\1789140312.py:4: SettingWithCopyWarning: \n",
      "A value is trying to be set on a copy of a slice from a DataFrame.\n",
      "Try using .loc[row_indexer,col_indexer] = value instead\n",
      "\n",
      "See the caveats in the documentation: https://pandas.pydata.org/pandas-docs/stable/user_guide/indexing.html#returning-a-view-versus-a-copy\n",
      "  dataCorrelation[\"level_cut\"] = dataCorrelation[\"level_cut\"].cat.codes\n",
      "C:\\Users\\Tran Huu An\\AppData\\Local\\Temp\\ipykernel_12424\\1789140312.py:5: SettingWithCopyWarning: \n",
      "A value is trying to be set on a copy of a slice from a DataFrame.\n",
      "Try using .loc[row_indexer,col_indexer] = value instead\n",
      "\n",
      "See the caveats in the documentation: https://pandas.pydata.org/pandas-docs/stable/user_guide/indexing.html#returning-a-view-versus-a-copy\n",
      "  dataCorrelation[\"skill_cut\"] = dataCorrelation[\"skill_cut\"].cat.codes\n",
      "C:\\Users\\Tran Huu An\\AppData\\Local\\Temp\\ipykernel_12424\\1789140312.py:6: SettingWithCopyWarning: \n",
      "A value is trying to be set on a copy of a slice from a DataFrame.\n",
      "Try using .loc[row_indexer,col_indexer] = value instead\n",
      "\n",
      "See the caveats in the documentation: https://pandas.pydata.org/pandas-docs/stable/user_guide/indexing.html#returning-a-view-versus-a-copy\n",
      "  dataCorrelation[\"JobUrl\"] = dataCorrelation[\"JobUrl\"].cat.codes\n"
     ]
    }
   ],
   "source": [
    "dataCorrelation[\"JobTitle\"] = dataCorrelation[\"JobTitle\"].cat.codes\n",
    "dataCorrelation[\"Company\"] = dataCorrelation[\"Company\"].cat.codes\n",
    "dataCorrelation[\"Location\"] = dataCorrelation[\"Location\"].cat.codes\n",
    "dataCorrelation[\"level_cut\"] = dataCorrelation[\"level_cut\"].cat.codes\n",
    "dataCorrelation[\"skill_cut\"] = dataCorrelation[\"skill_cut\"].cat.codes\n",
    "dataCorrelation[\"JobUrl\"] = dataCorrelation[\"JobUrl\"].cat.codes"
   ]
  },
  {
   "cell_type": "code",
   "execution_count": 170,
   "id": "56fd1178",
   "metadata": {},
   "outputs": [],
   "source": [
    "def CodeData(name1, name2, dataTrain):\n",
    "    return  dataCorrelation[[name1, name2]].loc[dataTrain[[name1, name2]].duplicated() == False, :]"
   ]
  },
  {
   "cell_type": "code",
   "execution_count": 171,
   "id": "8a501b67",
   "metadata": {},
   "outputs": [
    {
     "data": {
      "image/png": "[encoded data removed]",
      "text/plain": [
       "<Figure size 432x288 with 2 Axes>"
      ]
     },
     "metadata": {},
     "output_type": "display_data"
    }
   ],
   "source": [
    "\n",
    "# plotting correlation heatmap\n",
    "dataplot = sns.heatmap(dataCorrelation.corr(), cmap=\"YlGnBu\", annot=True)\n",
    "\n",
    "# displaying heatmap\n",
    "plt.show()"
   ]
  },
  {
   "cell_type": "code",
   "execution_count": 172,
   "id": "80772289",
   "metadata": {},
   "outputs": [
    {
     "data": {
      "text/html": [
       "<div>\n",
       "<style scoped>\n",
       "    .dataframe tbody tr th:only-of-type {\n",
       "        vertical-align: middle;\n",
       "    }\n",
       "\n",
       "    .dataframe tbody tr th {\n",
       "        vertical-align: top;\n",
       "    }\n",
       "\n",
       "    .dataframe thead th {\n",
       "        text-align: right;\n",
       "    }\n",
       "</style>\n",
       "<table border=\"1\" class=\"dataframe\">\n",
       "  <thead>\n",
       "    <tr style=\"text-align: right;\">\n",
       "      <th></th>\n",
       "      <th>JobTitle</th>\n",
       "      <th>Company</th>\n",
       "      <th>Location</th>\n",
       "      <th>YearExperience</th>\n",
       "      <th>skill_cut</th>\n",
       "      <th>level_cut</th>\n",
       "      <th>JobUrl</th>\n",
       "    </tr>\n",
       "  </thead>\n",
       "  <tbody>\n",
       "    <tr>\n",
       "      <th>0</th>\n",
       "      <td>852</td>\n",
       "      <td>887</td>\n",
       "      <td>28</td>\n",
       "      <td>3</td>\n",
       "      <td>3</td>\n",
       "      <td>2</td>\n",
       "      <td>0</td>\n",
       "    </tr>\n",
       "    <tr>\n",
       "      <th>1</th>\n",
       "      <td>852</td>\n",
       "      <td>887</td>\n",
       "      <td>28</td>\n",
       "      <td>3</td>\n",
       "      <td>9</td>\n",
       "      <td>2</td>\n",
       "      <td>0</td>\n",
       "    </tr>\n",
       "    <tr>\n",
       "      <th>2</th>\n",
       "      <td>852</td>\n",
       "      <td>887</td>\n",
       "      <td>28</td>\n",
       "      <td>3</td>\n",
       "      <td>22</td>\n",
       "      <td>2</td>\n",
       "      <td>0</td>\n",
       "    </tr>\n",
       "    <tr>\n",
       "      <th>3</th>\n",
       "      <td>852</td>\n",
       "      <td>887</td>\n",
       "      <td>28</td>\n",
       "      <td>3</td>\n",
       "      <td>23</td>\n",
       "      <td>2</td>\n",
       "      <td>0</td>\n",
       "    </tr>\n",
       "    <tr>\n",
       "      <th>4</th>\n",
       "      <td>852</td>\n",
       "      <td>887</td>\n",
       "      <td>28</td>\n",
       "      <td>3</td>\n",
       "      <td>15</td>\n",
       "      <td>2</td>\n",
       "      <td>0</td>\n",
       "    </tr>\n",
       "    <tr>\n",
       "      <th>...</th>\n",
       "      <td>...</td>\n",
       "      <td>...</td>\n",
       "      <td>...</td>\n",
       "      <td>...</td>\n",
       "      <td>...</td>\n",
       "      <td>...</td>\n",
       "      <td>...</td>\n",
       "    </tr>\n",
       "    <tr>\n",
       "      <th>19973</th>\n",
       "      <td>768</td>\n",
       "      <td>643</td>\n",
       "      <td>22</td>\n",
       "      <td>1</td>\n",
       "      <td>7</td>\n",
       "      <td>5</td>\n",
       "      <td>12</td>\n",
       "    </tr>\n",
       "    <tr>\n",
       "      <th>19974</th>\n",
       "      <td>768</td>\n",
       "      <td>643</td>\n",
       "      <td>22</td>\n",
       "      <td>1</td>\n",
       "      <td>7</td>\n",
       "      <td>1</td>\n",
       "      <td>12</td>\n",
       "    </tr>\n",
       "    <tr>\n",
       "      <th>19975</th>\n",
       "      <td>535</td>\n",
       "      <td>1087</td>\n",
       "      <td>22</td>\n",
       "      <td>5</td>\n",
       "      <td>20</td>\n",
       "      <td>5</td>\n",
       "      <td>12</td>\n",
       "    </tr>\n",
       "    <tr>\n",
       "      <th>19976</th>\n",
       "      <td>535</td>\n",
       "      <td>1087</td>\n",
       "      <td>22</td>\n",
       "      <td>5</td>\n",
       "      <td>1</td>\n",
       "      <td>5</td>\n",
       "      <td>12</td>\n",
       "    </tr>\n",
       "    <tr>\n",
       "      <th>19977</th>\n",
       "      <td>535</td>\n",
       "      <td>1087</td>\n",
       "      <td>22</td>\n",
       "      <td>5</td>\n",
       "      <td>4</td>\n",
       "      <td>5</td>\n",
       "      <td>12</td>\n",
       "    </tr>\n",
       "  </tbody>\n",
       "</table>\n",
       "<p>19978 rows × 7 columns</p>\n",
       "</div>"
      ],
      "text/plain": [
       "       JobTitle  Company  Location  YearExperience  skill_cut  level_cut  \\\n",
       "0           852      887        28               3          3          2   \n",
       "1           852      887        28               3          9          2   \n",
       "2           852      887        28               3         22          2   \n",
       "3           852      887        28               3         23          2   \n",
       "4           852      887        28               3         15          2   \n",
       "...         ...      ...       ...             ...        ...        ...   \n",
       "19973       768      643        22               1          7          5   \n",
       "19974       768      643        22               1          7          1   \n",
       "19975       535     1087        22               5         20          5   \n",
       "19976       535     1087        22               5          1          5   \n",
       "19977       535     1087        22               5          4          5   \n",
       "\n",
       "       JobUrl  \n",
       "0           0  \n",
       "1           0  \n",
       "2           0  \n",
       "3           0  \n",
       "4           0  \n",
       "...       ...  \n",
       "19973      12  \n",
       "19974      12  \n",
       "19975      12  \n",
       "19976      12  \n",
       "19977      12  \n",
       "\n",
       "[19978 rows x 7 columns]"
      ]
     },
     "execution_count": 172,
     "metadata": {},
     "output_type": "execute_result"
    }
   ],
   "source": [
    "dataCorrelation"
   ]
  },
  {
   "cell_type": "code",
   "execution_count": 173,
   "id": "ee435914",
   "metadata": {},
   "outputs": [
    {
     "name": "stderr",
     "output_type": "stream",
     "text": [
      "C:\\Users\\Tran Huu An\\anaconda3\\lib\\site-packages\\seaborn\\distributions.py:1699: FutureWarning: The `bw` parameter is deprecated in favor of `bw_method` and `bw_adjust`. Using 0.5 for `bw_method`, but please see the docs for the new parameters and update your code.\n",
      "  warnings.warn(msg, FutureWarning)\n",
      "C:\\Users\\Tran Huu An\\anaconda3\\lib\\site-packages\\IPython\\core\\pylabtools.py:151: UserWarning: Glyph 9 (\t) missing from current font.\n",
      "  fig.canvas.print_figure(bytes_io, **kw)\n"
     ]
    },
    {
     "data": {
      "image/png": "[encoded data removed]",
      "text/plain": [
       "<Figure size 1440x720 with 2 Axes>"
      ]
     },
     "metadata": {},
     "output_type": "display_data"
    }
   ],
   "source": [
    "plt.figure(figsize = (20,10))\n",
    "\n",
    "plt.subplot(1, 2, 1)\n",
    "plt.title('vẽ biểu đồ density phân phố của \texperienceSub_codes')\n",
    "sns.kdeplot(dataCorrelation['YearExperience'] , bw = 0.5 , fill = True)\n",
    "plt.subplot(1, 2, 2)\n",
    "plt.title('vẽ biểu đồ boxplot của experienceSub_codes')\n",
    "sns.boxplot(x=dataCorrelation['YearExperience'])\n",
    "plt.show()"
   ]
  },
  {
   "cell_type": "code",
   "execution_count": 174,
   "id": "ed7e42d3",
   "metadata": {},
   "outputs": [],
   "source": [
    "dataCorrelation = dataCorrelation.loc[dataCorrelation['YearExperience'] <= 6, :]"
   ]
  },
  {
   "cell_type": "code",
   "execution_count": 175,
   "id": "f5cff593",
   "metadata": {},
   "outputs": [
    {
     "name": "stderr",
     "output_type": "stream",
     "text": [
      "C:\\Users\\Tran Huu An\\anaconda3\\lib\\site-packages\\seaborn\\distributions.py:1699: FutureWarning: The `bw` parameter is deprecated in favor of `bw_method` and `bw_adjust`. Using 0.5 for `bw_method`, but please see the docs for the new parameters and update your code.\n",
      "  warnings.warn(msg, FutureWarning)\n",
      "C:\\Users\\Tran Huu An\\anaconda3\\lib\\site-packages\\IPython\\core\\pylabtools.py:151: UserWarning: Glyph 9 (\t) missing from current font.\n",
      "  fig.canvas.print_figure(bytes_io, **kw)\n"
     ]
    },
    {
     "data": {
      "image/png": "[encoded data removed]",
      "text/plain": [
       "<Figure size 1440x720 with 2 Axes>"
      ]
     },
     "metadata": {},
     "output_type": "display_data"
    }
   ],
   "source": [
    "plt.figure(figsize = (20,10))\n",
    "\n",
    "plt.subplot(1, 2, 1)\n",
    "plt.title('vẽ biểu đồ density phân phố của \texperienceSub_codes')\n",
    "sns.kdeplot(dataCorrelation['Location'] , bw = 0.5 , fill = True)\n",
    "plt.subplot(1, 2, 2)\n",
    "plt.title('vẽ biểu đồ boxplot của experienceSub_codes')\n",
    "sns.boxplot(x=dataCorrelation['Location'])\n",
    "plt.show()"
   ]
  },
  {
   "cell_type": "code",
   "execution_count": 176,
   "id": "04f28ed4",
   "metadata": {},
   "outputs": [],
   "source": [
    "dataCorrelation = dataCorrelation.loc[(dataCorrelation['Location'] >= 6)& (dataCorrelation['Location'] <= 26), :]"
   ]
  },
  {
   "cell_type": "code",
   "execution_count": 177,
   "id": "27fd06a5",
   "metadata": {},
   "outputs": [
    {
     "name": "stderr",
     "output_type": "stream",
     "text": [
      "C:\\Users\\Tran Huu An\\anaconda3\\lib\\site-packages\\seaborn\\distributions.py:1699: FutureWarning: The `bw` parameter is deprecated in favor of `bw_method` and `bw_adjust`. Using 0.5 for `bw_method`, but please see the docs for the new parameters and update your code.\n",
      "  warnings.warn(msg, FutureWarning)\n",
      "C:\\Users\\Tran Huu An\\anaconda3\\lib\\site-packages\\IPython\\core\\pylabtools.py:151: UserWarning: Glyph 9 (\t) missing from current font.\n",
      "  fig.canvas.print_figure(bytes_io, **kw)\n"
     ]
    },
    {
     "data": {
      "image/png": "[encoded data removed]",
      "text/plain": [
       "<Figure size 1440x720 with 2 Axes>"
      ]
     },
     "metadata": {},
     "output_type": "display_data"
    }
   ],
   "source": [
    "plt.figure(figsize = (20,10))\n",
    "\n",
    "plt.subplot(1, 2, 1)\n",
    "plt.title('vẽ biểu đồ density phân phố của \texperienceSub_codes')\n",
    "sns.kdeplot(dataCorrelation['JobTitle'] , bw = 0.5 , fill = True)\n",
    "plt.subplot(1, 2, 2)\n",
    "plt.title('vẽ biểu đồ boxplot của experienceSub_codes')\n",
    "sns.boxplot(x=dataCorrelation['JobTitle'])\n",
    "plt.show()"
   ]
  },
  {
   "cell_type": "code",
   "execution_count": 178,
   "id": "cb74902e",
   "metadata": {},
   "outputs": [
    {
     "name": "stderr",
     "output_type": "stream",
     "text": [
      "C:\\Users\\Tran Huu An\\anaconda3\\lib\\site-packages\\seaborn\\distributions.py:1699: FutureWarning: The `bw` parameter is deprecated in favor of `bw_method` and `bw_adjust`. Using 0.5 for `bw_method`, but please see the docs for the new parameters and update your code.\n",
      "  warnings.warn(msg, FutureWarning)\n",
      "C:\\Users\\Tran Huu An\\anaconda3\\lib\\site-packages\\IPython\\core\\pylabtools.py:151: UserWarning: Glyph 9 (\t) missing from current font.\n",
      "  fig.canvas.print_figure(bytes_io, **kw)\n"
     ]
    },
    {
     "data": {
      "image/png": "[encoded data removed]",
      "text/plain": [
       "<Figure size 1440x720 with 2 Axes>"
      ]
     },
     "metadata": {},
     "output_type": "display_data"
    }
   ],
   "source": [
    "plt.figure(figsize = (20,10))\n",
    "\n",
    "plt.subplot(1, 2, 1)\n",
    "plt.title('vẽ biểu đồ density phân phố của \texperienceSub_codes')\n",
    "sns.kdeplot(dataCorrelation['Company'] , bw = 0.5 , fill = True)\n",
    "plt.subplot(1, 2, 2)\n",
    "plt.title('vẽ biểu đồ boxplot của experienceSub_codes')\n",
    "sns.boxplot(x=dataCorrelation['Company'])\n",
    "plt.show()"
   ]
  },
  {
   "cell_type": "code",
   "execution_count": 179,
   "id": "667aaec0",
   "metadata": {},
   "outputs": [],
   "source": [
    "# dataCorrelation = dataCorrelation.drop('Company', axis = 1)"
   ]
  },
  {
   "cell_type": "code",
   "execution_count": 180,
   "id": "466c5ad0",
   "metadata": {},
   "outputs": [],
   "source": [
    "X = dataCorrelation.drop('JobUrl', axis = 1)\n",
    "y = dataCorrelation['JobUrl']"
   ]
  },
  {
   "cell_type": "code",
   "execution_count": 181,
   "id": "bd8bea8e",
   "metadata": {},
   "outputs": [
    {
     "name": "stdout",
     "output_type": "stream",
     "text": [
      "(14734, 6) (3684, 6) (14734,) (3684,)\n"
     ]
    }
   ],
   "source": [
    "X_train, X_test, y_train,y_test = train_test_split(X, y, test_size=0.2, random_state=42)\n",
    "print(X_train.shape,X_test.shape, y_train.shape,y_test.shape )"
   ]
  },
  {
   "cell_type": "markdown",
   "id": "114a282b",
   "metadata": {},
   "source": [
    "### 1. Classification"
   ]
  },
  {
   "cell_type": "code",
   "execution_count": 182,
   "id": "de16300d",
   "metadata": {},
   "outputs": [],
   "source": [
    "# tạo obj để phân loại cây quyết định\n",
    "clf = DecisionTreeClassifier()\n",
    "\n",
    "# đào tạo lớp phân loại\n",
    "clf = clf.fit(X_train,y_train)\n",
    "\n",
    "#sử dụng bộ test để dự đoán\n",
    "y_pred = clf.predict(X_test)"
   ]
  },
  {
   "cell_type": "code",
   "execution_count": 183,
   "id": "eb649e1c",
   "metadata": {},
   "outputs": [
    {
     "name": "stdout",
     "output_type": "stream",
     "text": [
      "Accuracy: 0.23995656894679696\n"
     ]
    }
   ],
   "source": [
    "# Model Accuracy, how often is the classifier correct?\n",
    "decision = metrics.accuracy_score(y_test, y_pred)\n",
    "print(\"Accuracy:\", decision)"
   ]
  },
  {
   "cell_type": "code",
   "execution_count": 184,
   "id": "f7e82434",
   "metadata": {},
   "outputs": [],
   "source": [
    "from sklearn.linear_model import LogisticRegression"
   ]
  },
  {
   "cell_type": "code",
   "execution_count": 185,
   "id": "bb78f640",
   "metadata": {},
   "outputs": [
    {
     "name": "stderr",
     "output_type": "stream",
     "text": [
      "C:\\Users\\Tran Huu An\\anaconda3\\lib\\site-packages\\sklearn\\linear_model\\_logistic.py:814: ConvergenceWarning: lbfgs failed to converge (status=1):\n",
      "STOP: TOTAL NO. of ITERATIONS REACHED LIMIT.\n",
      "\n",
      "Increase the number of iterations (max_iter) or scale the data as shown in:\n",
      "    https://scikit-learn.org/stable/modules/preprocessing.html\n",
      "Please also refer to the documentation for alternative solver options:\n",
      "    https://scikit-learn.org/stable/modules/linear_model.html#logistic-regression\n",
      "  n_iter_i = _check_optimize_result(\n"
     ]
    }
   ],
   "source": [
    "modelLg = LogisticRegression()\n",
    "\n",
    "modelLg.fit(X_train,y_train)\n",
    "\n",
    "predLg = modelLg.predict(X_test)"
   ]
  },
  {
   "cell_type": "code",
   "execution_count": 186,
   "id": "0d5f0747",
   "metadata": {},
   "outputs": [
    {
     "name": "stdout",
     "output_type": "stream",
     "text": [
      "Accuracy: 0.16503800217155265\n"
     ]
    }
   ],
   "source": [
    "lg =metrics.accuracy_score(y_test, predLg)\n",
    "print(\"Accuracy:\", lg)"
   ]
  },
  {
   "cell_type": "code",
   "execution_count": 187,
   "id": "5fe9706c",
   "metadata": {},
   "outputs": [],
   "source": [
    "from sklearn import svm"
   ]
  },
  {
   "cell_type": "code",
   "execution_count": 188,
   "id": "15a608f6",
   "metadata": {},
   "outputs": [],
   "source": [
    "model_svm = svm.SVC()\n",
    "\n",
    "model_svm.fit(X_train,y_train)\n",
    "\n",
    "pred_svm = model_svm.predict(X_test)"
   ]
  },
  {
   "cell_type": "code",
   "execution_count": 189,
   "id": "bcd60e5c",
   "metadata": {},
   "outputs": [
    {
     "name": "stdout",
     "output_type": "stream",
     "text": [
      "Accuracy: 0.20901194353963085\n"
     ]
    }
   ],
   "source": [
    "# Model Accuracy\n",
    "svm = metrics.accuracy_score(y_test, pred_svm)\n",
    "print(\"Accuracy:\", svm)"
   ]
  },
  {
   "cell_type": "code",
   "execution_count": 190,
   "id": "650bd498",
   "metadata": {},
   "outputs": [],
   "source": [
    "from sklearn.neighbors import KNeighborsClassifier\n",
    "import numpy as np"
   ]
  },
  {
   "cell_type": "code",
   "execution_count": 191,
   "id": "3d38f97d",
   "metadata": {},
   "outputs": [
    {
     "name": "stdout",
     "output_type": "stream",
     "text": [
      "[ 1  2  3  4  5  6  7  8  9 10 11 12] \n",
      " {1: 0.51961449708158, 2: 0.4911768698248948, 3: 0.4866295642731098, 4: 0.4743450522600787, 5: 0.471630242975431, 6: 0.4580561965521922, 7: 0.4550020361069635, 8: 0.44529659291434776, 9: 0.4420388217727705, 10: 0.43572689018596444, 11: 0.4307044930093661, 12: 0.4235781186371657} \n",
      " {1: 0.23995656894679696, 2: 0.28447339847991315, 3: 0.26085776330076005, 4: 0.2755157437567861, 5: 0.26465798045602607, 6: 0.27958740499457113, 7: 0.26194353963083605, 8: 0.2714440825190011, 9: 0.25977198697068404, 10: 0.26112920738327905, 11: 0.25922909880564604, 12: 0.2681867535287731}\n"
     ]
    }
   ],
   "source": [
    "# xây dựng mô hình knn sử dụng tham số neighbor để lấy các điểm lân cận gần nhất\n",
    "# Create neighbors\n",
    "neighbors = np.arange(1, 13)\n",
    "train_accuracies = {}\n",
    "test_accuracies = {}\n",
    "\n",
    "for neighbor in neighbors:\n",
    "  \n",
    "    # Set up a KNN Classifier\n",
    "    knn = KNeighborsClassifier(n_neighbors=neighbor)\n",
    "  \n",
    "    # Fit the model\n",
    "    knn.fit(X_train, y_train)\n",
    "  \n",
    "    # Compute accuracy\n",
    "    train_accuracies[neighbor] = knn.score(X_train, y_train)\n",
    "    test_accuracies[neighbor] = knn.score(X_test, y_test)\n",
    "print(neighbors, '\\n', train_accuracies, '\\n', test_accuracies)"
   ]
  },
  {
   "cell_type": "code",
   "execution_count": 192,
   "id": "fcc04d55",
   "metadata": {},
   "outputs": [
    {
     "data": {
      "image/png": "[encoded data removed]",
      "text/plain": [
       "<Figure size 432x288 with 1 Axes>"
      ]
     },
     "metadata": {},
     "output_type": "display_data"
    }
   ],
   "source": [
    "\n",
    "plt.title(\"KNN: Varying Number of Neighbors\")\n",
    "\n",
    "# vẽ đường train accuracies\n",
    "plt.plot(list(neighbors), list(train_accuracies.values()), label=\"Training Accuracy\")\n",
    "\n",
    "# vex đường test accuracies\n",
    "plt.plot(list(neighbors), list(test_accuracies.values()), label=\"Testing Accuracy\")\n",
    "\n",
    "plt.legend()\n",
    "plt.xlabel(\"Number of Neighbors\")\n",
    "plt.ylabel(\"Accuracy\")\n",
    "\n",
    "# hiển thị biểu đồ\n",
    "plt.show()"
   ]
  },
  {
   "cell_type": "code",
   "execution_count": 193,
   "id": "116b86e1",
   "metadata": {},
   "outputs": [],
   "source": [
    "# Set up a KNN Classifier\n",
    "knn = KNeighborsClassifier(n_neighbors=2)\n",
    "\n",
    "knn.fit(X_train, y_train)\n",
    "\n",
    "predKnn = knn.predict(X_test)"
   ]
  },
  {
   "cell_type": "code",
   "execution_count": 194,
   "id": "5fa7e887",
   "metadata": {},
   "outputs": [
    {
     "name": "stdout",
     "output_type": "stream",
     "text": [
      "Accuracy: 0.28447339847991315\n"
     ]
    }
   ],
   "source": [
    "# Model Accuracy, how often is the classifier correct?\n",
    "knn = metrics.accuracy_score(y_test, predKnn)\n",
    "print(\"Accuracy:\",knn)"
   ]
  },
  {
   "cell_type": "code",
   "execution_count": 195,
   "id": "334b8f96",
   "metadata": {},
   "outputs": [],
   "source": [
    "from sklearn.neural_network import MLPClassifier"
   ]
  },
  {
   "cell_type": "code",
   "execution_count": 196,
   "id": "3ff35639",
   "metadata": {},
   "outputs": [],
   "source": [
    "modelAnn = MLPClassifier(solver='lbfgs', alpha=1e-5, hidden_layer_sizes=(5, 2), random_state=1)"
   ]
  },
  {
   "cell_type": "code",
   "execution_count": 197,
   "id": "c0b27698",
   "metadata": {},
   "outputs": [
    {
     "data": {
      "text/plain": [
       "MLPClassifier(alpha=1e-05, hidden_layer_sizes=(5, 2), random_state=1,\n",
       "              solver='lbfgs')"
      ]
     },
     "execution_count": 197,
     "metadata": {},
     "output_type": "execute_result"
    }
   ],
   "source": [
    "modelAnn.fit(X_train, y_train)"
   ]
  },
  {
   "cell_type": "code",
   "execution_count": 198,
   "id": "1434d581",
   "metadata": {},
   "outputs": [],
   "source": [
    "predAnn = modelAnn.predict(X_test)"
   ]
  },
  {
   "cell_type": "code",
   "execution_count": 199,
   "id": "44c80b4c",
   "metadata": {},
   "outputs": [
    {
     "name": "stdout",
     "output_type": "stream",
     "text": [
      "Accuracy: 0.1460369163952226\n"
     ]
    }
   ],
   "source": [
    "# Model Accuracy, how often is the classifier correct?\n",
    "ann = metrics.accuracy_score(y_test, predAnn)\n",
    "print(\"Accuracy:\",ann)"
   ]
  },
  {
   "cell_type": "code",
   "execution_count": null,
   "id": "42f603ab",
   "metadata": {},
   "outputs": [],
   "source": []
  },
  {
   "cell_type": "code",
   "execution_count": null,
   "id": "3f61709d",
   "metadata": {},
   "outputs": [],
   "source": []
  }
 ],
 "metadata": {
  "kernelspec": {
   "display_name": "Python 3 (ipykernel)",
   "language": "python",
   "name": "python3"
  },
  "language_info": {
   "codemirror_mode": {
    "name": "ipython",
    "version": 3
   },
   "file_extension": ".py",
   "mimetype": "text/x-python",
   "name": "python",
   "nbconvert_exporter": "python",
   "pygments_lexer": "ipython3",
   "version": "3.9.12"
  }
 },
 "nbformat": 4,
 "nbformat_minor": 5
}
